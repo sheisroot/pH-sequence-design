{
 "cells": [
  {
   "cell_type": "markdown",
   "id": "c3d7463c-71f4-4ea5-aedb-6d3fa376b072",
   "metadata": {},
   "source": [
    "# Sequence Level Features and Analysis"
   ]
  },
  {
   "cell_type": "code",
   "execution_count": 280,
   "id": "4742c9f4-89fa-49da-a45e-fba4dd519c80",
   "metadata": {},
   "outputs": [],
   "source": [
    "import pandas as pd\n",
    "import numpy as np\n",
    "import matplotlib.pyplot as plt\n",
    "from collections import Counter\n",
    "from scipy.stats import ttest_1samp, poisson\n",
    "from Bio import pairwise2\n",
    "from Bio.pairwise2 import format_alignment\n",
    "\n",
    "\n",
    "\n",
    "pd.set_option('display.float_format', '{:.10e}'.format)\n",
    "pd.set_option('display.max_colwidth', 30)"
   ]
  },
  {
   "cell_type": "code",
   "execution_count": 281,
   "id": "8a9408c5-ef61-4812-8752-32ebbc7049b1",
   "metadata": {},
   "outputs": [
    {
     "data": {
      "text/html": [
       "<div>\n",
       "<style scoped>\n",
       "    .dataframe tbody tr th:only-of-type {\n",
       "        vertical-align: middle;\n",
       "    }\n",
       "\n",
       "    .dataframe tbody tr th {\n",
       "        vertical-align: top;\n",
       "    }\n",
       "\n",
       "    .dataframe thead th {\n",
       "        text-align: right;\n",
       "    }\n",
       "</style>\n",
       "<table border=\"1\" class=\"dataframe\">\n",
       "  <thead>\n",
       "    <tr style=\"text-align: right;\">\n",
       "      <th></th>\n",
       "      <th>Sequence</th>\n",
       "      <th>Copy Num</th>\n",
       "      <th>Length</th>\n",
       "    </tr>\n",
       "  </thead>\n",
       "  <tbody>\n",
       "    <tr>\n",
       "      <th>0</th>\n",
       "      <td>AGTGCCATCGTGCGTATCCTTCACTC...</td>\n",
       "      <td>91</td>\n",
       "      <td>98</td>\n",
       "    </tr>\n",
       "    <tr>\n",
       "      <th>1</th>\n",
       "      <td>AGTGCCATCGTGCGTATCCTTCACGT...</td>\n",
       "      <td>86</td>\n",
       "      <td>98</td>\n",
       "    </tr>\n",
       "    <tr>\n",
       "      <th>2</th>\n",
       "      <td>AGTGCCATCGTGCGTATCCTGAACAT...</td>\n",
       "      <td>83</td>\n",
       "      <td>98</td>\n",
       "    </tr>\n",
       "    <tr>\n",
       "      <th>3</th>\n",
       "      <td>AGTGCCATCGTGCGTATCCCGCTCCG...</td>\n",
       "      <td>80</td>\n",
       "      <td>98</td>\n",
       "    </tr>\n",
       "    <tr>\n",
       "      <th>4</th>\n",
       "      <td>AGTGCCATCGTGCGTATCCTGAACAT...</td>\n",
       "      <td>78</td>\n",
       "      <td>98</td>\n",
       "    </tr>\n",
       "  </tbody>\n",
       "</table>\n",
       "</div>"
      ],
      "text/plain": [
       "                        Sequence  Copy Num  Length\n",
       "0  AGTGCCATCGTGCGTATCCTTCACTC...        91      98\n",
       "1  AGTGCCATCGTGCGTATCCTTCACGT...        86      98\n",
       "2  AGTGCCATCGTGCGTATCCTGAACAT...        83      98\n",
       "3  AGTGCCATCGTGCGTATCCCGCTCCG...        80      98\n",
       "4  AGTGCCATCGTGCGTATCCTGAACAT...        78      98"
      ]
     },
     "execution_count": 281,
     "metadata": {},
     "output_type": "execute_result"
    }
   ],
   "source": [
    "csv_file = \"../Data/R12-clean.csv\"\n",
    "df = pd.read_csv(csv_file)\n",
    "df.head(5)"
   ]
  },
  {
   "cell_type": "markdown",
   "id": "edd2ac60-3a88-41c8-8c04-91327b280a54",
   "metadata": {},
   "source": [
    "### 1. TODO Frequency and alignment of full sequences  \n",
    "Previously, I was only able to perform limited, basic alignments of the R12 pool and found no sequence convergence. However, I will now revisit this full sequence frequency and alignment with more flexible tools to see if anything pops out."
   ]
  },
  {
   "cell_type": "markdown",
   "id": "aad81bc5-715b-461a-8323-68f6fb376f13",
   "metadata": {},
   "source": [
    "### 2. Search for motifs in variable regions.  \n",
    "We previously considered a naive kmer search but there were too many false positives because high frequency kmers were arising from CRs. We pursue a new approach where we look for motifs only in the VRs and later add back potential overhangs into the CRs when we apply downstream secondary structure analysis to confirm active motifs.  \n",
    "\n",
    "**Designed constant regions of selection library:**  \n",
    "The following describes the template of the starting selection library:\n",
    "\n",
    "| Region | Sequence | Length |\n",
    "| ------- | -------| -------- |\n",
    "|forward primer | AAGTGCCATCGTGCGTATCC | 20 bp|\n",
    "|variable region 1 | (N)^22 | 22 bp |\n",
    "|mipomersen loading | GCGAAGCAGACTGAGGC | 17 bp |\n",
    "|variable region 2 | (N)^21 | 21 bp |\n",
    "|reverse primer | GTAGACTGGAGACACGACGA | 20 bp|\n",
    "\n",
    "Boundary positions are approximate because of PCR mutations/sequencing errors.  For sequences of length 98, the orignal library size (nb: 100bp but NGS discards first and last reads), we estimate the boundary positions but allow a tuneable buffer of a few bps to account for the errors.  For some sequences of non-standard length, we perform pairwise alignment with CRs to more accurately determine the boundary positions."
   ]
  },
  {
   "cell_type": "code",
   "execution_count": 282,
   "id": "9a81039d-662c-439f-b351-3289d6ddb7fd",
   "metadata": {},
   "outputs": [],
   "source": [
    "# Constants\n",
    "designed_FP =\"AAGTGCCATCGTGCGTATCC\"\n",
    "FP = designed_FP[1:]\n",
    "MIP = \"GCGAAGCAGACTGAGGC\"\n",
    "designed_RP = \"GTAGACTGGAGACACGACGA\"\n",
    "RP = designed_RP[:-1]"
   ]
  },
  {
   "cell_type": "code",
   "execution_count": 283,
   "id": "cde54df3-a22a-4dcc-b075-071b8056998f",
   "metadata": {},
   "outputs": [],
   "source": [
    "PADNA_1 = df.iloc[0, 0]"
   ]
  },
  {
   "cell_type": "markdown",
   "id": "9481f860-1883-4186-aeaf-918257526d28",
   "metadata": {},
   "source": [
    "#### a. Define boundary estimates of variable regions\n",
    "PADNA_1 is an example of an ideal sequence, so we use it to get our boundary estimates."
   ]
  },
  {
   "cell_type": "code",
   "execution_count": 284,
   "id": "829c0d78-c4ac-4fc8-9c00-89cdb1e6ee5d",
   "metadata": {},
   "outputs": [
    {
     "name": "stdout",
     "output_type": "stream",
     "text": [
      "Boundary estimates\n",
      "----------------\n",
      "Forward primer: [0, 19]\n",
      "          VR 1: [19, 41]\n",
      "    Mipomersen: [41, 58]\n",
      "          VR 2: [58, 79]\n",
      "Reverse primer: [79, 98]\n"
     ]
    },
    {
     "data": {
      "text/plain": [
       "True"
      ]
     },
     "execution_count": 284,
     "metadata": {},
     "output_type": "execute_result"
    }
   ],
   "source": [
    "FP_start = PADNA_1.index(FP)\n",
    "FP_end = FP_start + len(FP)\n",
    "\n",
    "MIP_start = PADNA_1.index(MIP)\n",
    "MIP_end = MIP_start + len(MIP)\n",
    "\n",
    "RP_start = PADNA_1.index(RP)\n",
    "RP_end = RP_start + len(RP)\n",
    "\n",
    "# Variable region estimates\n",
    "V1_start = FP_end\n",
    "V1_end = MIP_start\n",
    "\n",
    "V2_start = MIP_end\n",
    "V2_end = RP_start\n",
    "\n",
    "print(f'Boundary estimates\\n----------------\\nForward primer: [{FP_start}, {FP_end}]\\n          VR 1: [{V1_start}, {V1_end}]\\n    Mipomersen: [{MIP_start}, {MIP_end}]\\n          VR 2: [{V2_start}, {V2_end}]\\nReverse primer: [{RP_start}, {RP_end}]')\n",
    "\n",
    "PADNA_1[FP_start:FP_end] == FP\n",
    "PADNA_1[MIP_start:MIP_end] == MIP\n",
    "PADNA_1[RP_start:RP_end] == RP"
   ]
  },
  {
   "cell_type": "code",
   "execution_count": 285,
   "id": "f41c9b5b-b966-4752-9f0b-9780975e743d",
   "metadata": {},
   "outputs": [
    {
     "name": "stdout",
     "output_type": "stream",
     "text": [
      "AGTGCCATCGTGCGTATCC|TTCACTCCTTGCTCGACAAGAA|GCGAAGCAGACTGAGGC|GTCCGATGGTCTAATTCTTCA|GTAGACTGGAGACACGACG\n",
      "\n",
      "Variable Regions\n",
      "V1: TTCACTCCTTGCTCGACAAGAA\n",
      "V2: GTCCGATGGTCTAATTCTTCA\n"
     ]
    }
   ],
   "source": [
    "V1 = PADNA_1[V1_start:V1_end]\n",
    "V2 = PADNA_1[V2_start:V2_end]\n",
    "\n",
    "# Visual check on VR boundaries\n",
    "print('AGTGCCATCGTGCGTATCC|TTCACTCCTTGCTCGACAAGAA|GCGAAGCAGACTGAGGC|GTCCGATGGTCTAATTCTTCA|GTAGACTGGAGACACGACG')\n",
    "\n",
    "print('\\nVariable Regions')\n",
    "print(f'V1: {V1}\\nV2: {V2}')"
   ]
  },
  {
   "cell_type": "code",
   "execution_count": 286,
   "id": "0f629da6-3d96-4c9e-a736-d33edb720c79",
   "metadata": {},
   "outputs": [
    {
     "name": "stdout",
     "output_type": "stream",
     "text": [
      "22\n",
      "21\n"
     ]
    }
   ],
   "source": [
    "print(len(V1))\n",
    "print(len(V2))"
   ]
  },
  {
   "cell_type": "markdown",
   "id": "24157f78-e9f0-4431-b4d3-20ffe255776c",
   "metadata": {},
   "source": [
    "#### b. Extract Variable Regions from subset of regular length (98 bp) sequences"
   ]
  },
  {
   "cell_type": "code",
   "execution_count": 287,
   "id": "06570924-47d2-4730-b723-b88d02205560",
   "metadata": {},
   "outputs": [],
   "source": [
    "# Bin sequences into regular 98 bp length, short, and long\n",
    "dfr = df[df['Length'] == 98].copy()\n",
    "dfl = df[df['Length'] > 98].copy()\n",
    "dfs = df[df['Length'] < 98].copy()"
   ]
  },
  {
   "cell_type": "code",
   "execution_count": 290,
   "id": "057c5296-56e4-4e22-b2f7-cf5888d699ac",
   "metadata": {},
   "outputs": [
    {
     "data": {
      "text/html": [
       "<div>\n",
       "<style scoped>\n",
       "    .dataframe tbody tr th:only-of-type {\n",
       "        vertical-align: middle;\n",
       "    }\n",
       "\n",
       "    .dataframe tbody tr th {\n",
       "        vertical-align: top;\n",
       "    }\n",
       "\n",
       "    .dataframe thead th {\n",
       "        text-align: right;\n",
       "    }\n",
       "</style>\n",
       "<table border=\"1\" class=\"dataframe\">\n",
       "  <thead>\n",
       "    <tr style=\"text-align: right;\">\n",
       "      <th></th>\n",
       "      <th>Sequence</th>\n",
       "      <th>Copy Num</th>\n",
       "      <th>Length</th>\n",
       "      <th>VR 1</th>\n",
       "      <th>VR 2</th>\n",
       "    </tr>\n",
       "  </thead>\n",
       "  <tbody>\n",
       "    <tr>\n",
       "      <th>0</th>\n",
       "      <td>AGTGCCATCGTGCGTATCCTTCACTC...</td>\n",
       "      <td>91</td>\n",
       "      <td>98</td>\n",
       "      <td>CCTTCACTCCTTGCTCGACAAGAAGC</td>\n",
       "      <td>GCGTCCGATGGTCTAATTCTTCAGT</td>\n",
       "    </tr>\n",
       "    <tr>\n",
       "      <th>1</th>\n",
       "      <td>AGTGCCATCGTGCGTATCCTTCACGT...</td>\n",
       "      <td>86</td>\n",
       "      <td>98</td>\n",
       "      <td>CCTTCACGTTTGTTCTACAAAAGCGA</td>\n",
       "      <td>GCGTGCCCTGTCGTGCACCACGGGT</td>\n",
       "    </tr>\n",
       "    <tr>\n",
       "      <th>2</th>\n",
       "      <td>AGTGCCATCGTGCGTATCCTGAACAT...</td>\n",
       "      <td>83</td>\n",
       "      <td>98</td>\n",
       "      <td>CCTGAACATTGACGTGTAGTCAATGC</td>\n",
       "      <td>GCGCCTCTCTAGTTTGACCTTGGGT</td>\n",
       "    </tr>\n",
       "    <tr>\n",
       "      <th>3</th>\n",
       "      <td>AGTGCCATCGTGCGTATCCCGCTCCG...</td>\n",
       "      <td>80</td>\n",
       "      <td>98</td>\n",
       "      <td>CCCGCTCCGCTAATATCTATGTTAGC</td>\n",
       "      <td>GCGCGATGATGTCTACACTGACGGT</td>\n",
       "    </tr>\n",
       "    <tr>\n",
       "      <th>4</th>\n",
       "      <td>AGTGCCATCGTGCGTATCCTGAACAT...</td>\n",
       "      <td>78</td>\n",
       "      <td>98</td>\n",
       "      <td>CCTGAACATAGACGTTTAGTCTATGC</td>\n",
       "      <td>GCGCGTGGATAGCCTATTTTCGGGT</td>\n",
       "    </tr>\n",
       "  </tbody>\n",
       "</table>\n",
       "</div>"
      ],
      "text/plain": [
       "                        Sequence  Copy Num  Length  \\\n",
       "0  AGTGCCATCGTGCGTATCCTTCACTC...        91      98   \n",
       "1  AGTGCCATCGTGCGTATCCTTCACGT...        86      98   \n",
       "2  AGTGCCATCGTGCGTATCCTGAACAT...        83      98   \n",
       "3  AGTGCCATCGTGCGTATCCCGCTCCG...        80      98   \n",
       "4  AGTGCCATCGTGCGTATCCTGAACAT...        78      98   \n",
       "\n",
       "                         VR 1                       VR 2  \n",
       "0  CCTTCACTCCTTGCTCGACAAGAAGC  GCGTCCGATGGTCTAATTCTTCAGT  \n",
       "1  CCTTCACGTTTGTTCTACAAAAGCGA  GCGTGCCCTGTCGTGCACCACGGGT  \n",
       "2  CCTGAACATTGACGTGTAGTCAATGC  GCGCCTCTCTAGTTTGACCTTGGGT  \n",
       "3  CCCGCTCCGCTAATATCTATGTTAGC  GCGCGATGATGTCTACACTGACGGT  \n",
       "4  CCTGAACATAGACGTTTAGTCTATGC  GCGCGTGGATAGCCTATTTTCGGGT  "
      ]
     },
     "execution_count": 290,
     "metadata": {},
     "output_type": "execute_result"
    }
   ],
   "source": [
    "buffer = 2 # set buffer for expanded boundary to account for library mutation\n",
    "\n",
    "v1_st = V1_start - buffer\n",
    "v1_end = V1_end + buffer\n",
    "\n",
    "v2_st = V2_start - buffer\n",
    "v2_end = V2_end + buffer\n",
    "\n",
    "# Make two new cols for v1 an v2\n",
    "dfr['VR 1'] = dfr['Sequence'].str[(v1_st):(v1_end)]\n",
    "\n",
    "dfr['VR 2'] = dfr['Sequence'].str[(v2_st):(v2_end)]\n",
    "dfr.head()"
   ]
  },
  {
   "cell_type": "code",
   "execution_count": 299,
   "id": "5380ca76-8e91-4b01-8f70-2a4cbedec704",
   "metadata": {},
   "outputs": [
    {
     "name": "stdout",
     "output_type": "stream",
     "text": [
      "VR 1\n",
      "26    9893\n",
      "Name: count, dtype: int64\n",
      "VR 2\n",
      "25    9893\n",
      "Name: count, dtype: int64\n"
     ]
    }
   ],
   "source": [
    "# Confirm the length of extracted VRs\n",
    "# Should be VR1: 22 + 4 = 26\n",
    "#           VR2: 21 + 4 = 25\n",
    "print(dfr['VR 1'].apply(len).value_counts())\n",
    "print(dfr['VR 2'].apply(len).value_counts())"
   ]
  },
  {
   "cell_type": "code",
   "execution_count": 331,
   "id": "49ca201d-cfeb-4cc9-a57b-07b663aeb51b",
   "metadata": {},
   "outputs": [
    {
     "name": "stdout",
     "output_type": "stream",
     "text": [
      "   ID                    Sequence\n",
      "0   0  CCTTCACTCCTTGCTCGACAAGAAGC\n",
      "1   1  CCTTCACGTTTGTTCTACAAAAGCGA\n",
      "2   2  CCTGAACATTGACGTGTAGTCAATGC\n",
      "3   3  CCCGCTCCGCTAATATCTATGTTAGC\n",
      "4   4  CCTGAACATAGACGTTTAGTCTATGC           ID                   Sequence\n",
      "19781  10378  CATGTCTCGCACCTCAAACGTTTGT\n",
      "19782  10379  GCGCGGGCCCTTTTAGCTTTCAGGT\n",
      "19783  10380  CGCGCCCCCTAGGCGTCGGTCACGT\n",
      "19784  10381  GCTTGCACGCGACGGCATCGGCGGT\n",
      "19785  10382  CGCGCTACTCCTGCTGAACTCTAGT\n"
     ]
    }
   ],
   "source": [
    "# make a sequence ID column\n",
    "seqIDs = dfr.index.tolist()\n",
    "seqIDs.extend(seqIDs)\n",
    "\n",
    "# make a new df with VRs combined for freq analysis\n",
    "vdf = pd.DataFrame({\n",
    "    'ID': seqIDs,\n",
    "    'Sequence': pd.concat([dfr['VR 1'], dfr['VR 2']])\n",
    "}).reset_index(drop=True)\n",
    "\n",
    "print(vdf.head(), vdf.tail())"
   ]
  },
  {
   "cell_type": "code",
   "execution_count": 367,
   "id": "65172ddd-f542-4c1f-a053-b7d94814d32b",
   "metadata": {},
   "outputs": [
    {
     "data": {
      "text/plain": [
       "Sequence\n",
       "CCGCTTCACTCAGTAAGTAATGAGCG    2\n",
       "CCTACTTCACTACCATCTATGGCAGC    2\n",
       "CCTTCACTCCTTGCTCGACAAGAAGC    1\n",
       "CGCGCCTTTTGTCGTACTTCAAGGT     1\n",
       "CGCGTATCTATCCTAAGCTACTCGT     1\n",
       "                             ..\n",
       "CCTTCGCAGAATTAAAGTAATCCTGC    1\n",
       "CCTTCACCTGTACTTTAGTTATAGGC    1\n",
       "CCGAGCAAAGCGCCGAATTCCCGGTG    1\n",
       "CCTTATTGTGCCAACTGCCTACAGGG    1\n",
       "CGCGCTACTCCTGCTGAACTCTAGT     1\n",
       "Name: count, Length: 19784, dtype: int64"
      ]
     },
     "execution_count": 367,
     "metadata": {},
     "output_type": "execute_result"
    }
   ],
   "source": [
    "# Perform simple frequency analysis of VRs\n",
    "counts = vdf['Sequence'].value_counts()\n",
    "counts"
   ]
  },
  {
   "cell_type": "code",
   "execution_count": 370,
   "id": "f363eb3e-71a2-4ade-b910-57b5864be557",
   "metadata": {},
   "outputs": [
    {
     "data": {
      "image/png": "[encoded data removed]",
      "text/plain": [
       "<Figure size 1000x600 with 1 Axes>"
      ]
     },
     "metadata": {},
     "output_type": "display_data"
    }
   ],
   "source": [
    "counts.plot(kind='hist', color='indianred', figsize=(10,6), bins = 2)\n",
    "plt.yscale('log')\n",
    "plt.ylabel(None)\n",
    "plt.title('Frequency of total variable regions')\n",
    "plt.show()"
   ]
  },
  {
   "cell_type": "code",
   "execution_count": 375,
   "id": "ae4fb868-1b01-4dfc-976f-879fa1323ba0",
   "metadata": {},
   "outputs": [
    {
     "name": "stdout",
     "output_type": "stream",
     "text": [
      "        ID                    Sequence\n",
      "915    954  CCGCTTCACTCAGTAAGTAATGAGCG\n",
      "1735  1812  CCGCTTCACTCAGTAAGTAATGAGCG\n",
      "        ID                    Sequence\n",
      "4705  4943  CCTACTTCACTACCATCTATGGCAGC\n",
      "8012  8417  CCTACTTCACTACCATCTATGGCAGC\n"
     ]
    }
   ],
   "source": [
    "print(vdf[vdf['Sequence'] =='CCGCTTCACTCAGTAAGTAATGAGCG'])\n",
    "\n",
    "print(vdf[vdf['Sequence'] =='CCTACTTCACTACCATCTATGGCAGC'])"
   ]
  },
  {
   "cell_type": "markdown",
   "id": "f878ac84-8091-4166-bad6-3e2271af181b",
   "metadata": {},
   "source": [
    "#### Duplicate VRs\n",
    "| Sequence IDs | Sequence | Frequency |\n",
    "| --- | -------| ----|\n",
    "| 954, 1812 | CCGCTTCACTCAGTAAGTAATGAGCG | 2 |\n",
    "| 4943, 8417 | CCTACTTCACTACCATCTATGGCAGC | 2 |  \n",
    "\n",
    "We find that total variable regions had two sequences with a duplicate. We mark these as important for further study.  For the rest of the dataset, we will pursue clustering techniques instead of alignment to find potential similarit"
   ]
  },
  {
   "cell_type": "code",
   "execution_count": null,
   "id": "d1d1dc03-ecc5-4d7a-a578-f38fbaf97edb",
   "metadata": {},
   "outputs": [],
   "source": []
  },
  {
   "cell_type": "code",
   "execution_count": null,
   "id": "413599fc-0ca6-494a-8fbc-670af482c880",
   "metadata": {},
   "outputs": [],
   "source": []
  },
  {
   "cell_type": "code",
   "execution_count": null,
   "id": "562dfb9b-0c91-4c08-a799-de2d7b01bf71",
   "metadata": {},
   "outputs": [],
   "source": []
  },
  {
   "cell_type": "markdown",
   "id": "d1ee5f5e-a3a6-4978-b3cd-1eb2b1353825",
   "metadata": {},
   "source": [
    "#### c. kmer extraction from buffered variable regions"
   ]
  },
  {
   "cell_type": "code",
   "execution_count": 236,
   "id": "4a20b93e-1bc2-4289-8153-1d59acf2fabe",
   "metadata": {},
   "outputs": [],
   "source": [
    "def extract_kmers(seq, k):\n",
    "    \"\"\"Extracts kmers from a sequence. Saves position and kmer chunk to preserve order and distance information for downstream secondary structure analysis. Collects kmers from all k reading frames.\"\"\"\n",
    "    all_kmers = [(i, seq[i:i+k]) for i in range(len(seq)-k+1)]\n",
    "    return all_kmers"
   ]
  },
  {
   "cell_type": "code",
   "execution_count": 252,
   "id": "757994fe-d45e-4688-a532-0dc0de8304aa",
   "metadata": {},
   "outputs": [],
   "source": [
    "def getkmers(df, k, start=0, stop=len(df)):\n",
    "    \"\"\"Performs row-level extraction of kmers and returns long-form df. Default column is full sequence, specify variable region. Specify start position offset for variable region, or default is to 0.\"\"\"\n",
    "    kmer_data = []\n",
    "    for idx, row in df.iterrows():\n",
    "        kmers = extract_kmers(row['Sequence'][start:stop], k)\n",
    "        for position, kmer in kmers:\n",
    "            kmer_data.append({'Sequence_ID': idx, 'Position': position + start, 'k-mer': kmer})\n",
    "    \n",
    "    kmer_df = pd.DataFrame(kmer_data)\n",
    "    return kmer_df"
   ]
  },
  {
   "cell_type": "code",
   "execution_count": 242,
   "id": "4e4fa5a9-d633-4656-9183-61e853d5d233",
   "metadata": {},
   "outputs": [
    {
     "data": {
      "text/html": [
       "<div>\n",
       "<style scoped>\n",
       "    .dataframe tbody tr th:only-of-type {\n",
       "        vertical-align: middle;\n",
       "    }\n",
       "\n",
       "    .dataframe tbody tr th {\n",
       "        vertical-align: top;\n",
       "    }\n",
       "\n",
       "    .dataframe thead th {\n",
       "        text-align: right;\n",
       "    }\n",
       "</style>\n",
       "<table border=\"1\" class=\"dataframe\">\n",
       "  <thead>\n",
       "    <tr style=\"text-align: right;\">\n",
       "      <th></th>\n",
       "      <th>Sequence_ID</th>\n",
       "      <th>Position</th>\n",
       "      <th>k-mer</th>\n",
       "    </tr>\n",
       "  </thead>\n",
       "  <tbody>\n",
       "    <tr>\n",
       "      <th>0</th>\n",
       "      <td>0</td>\n",
       "      <td>0</td>\n",
       "      <td>AGTGCCATCG</td>\n",
       "    </tr>\n",
       "    <tr>\n",
       "      <th>1</th>\n",
       "      <td>0</td>\n",
       "      <td>1</td>\n",
       "      <td>GTGCCATCGT</td>\n",
       "    </tr>\n",
       "    <tr>\n",
       "      <th>2</th>\n",
       "      <td>0</td>\n",
       "      <td>2</td>\n",
       "      <td>TGCCATCGTG</td>\n",
       "    </tr>\n",
       "    <tr>\n",
       "      <th>3</th>\n",
       "      <td>0</td>\n",
       "      <td>3</td>\n",
       "      <td>GCCATCGTGC</td>\n",
       "    </tr>\n",
       "    <tr>\n",
       "      <th>4</th>\n",
       "      <td>0</td>\n",
       "      <td>4</td>\n",
       "      <td>CCATCGTGCG</td>\n",
       "    </tr>\n",
       "  </tbody>\n",
       "</table>\n",
       "</div>"
      ],
      "text/plain": [
       "   Sequence_ID  Position       k-mer\n",
       "0            0         0  AGTGCCATCG\n",
       "1            0         1  GTGCCATCGT\n",
       "2            0         2  TGCCATCGTG\n",
       "3            0         3  GCCATCGTGC\n",
       "4            0         4  CCATCGTGCG"
      ]
     },
     "execution_count": 242,
     "metadata": {},
     "output_type": "execute_result"
    }
   ],
   "source": [
    "getkmers(df=df, k=10).head()"
   ]
  },
  {
   "cell_type": "markdown",
   "id": "9863436a-bafb-44f4-9580-914822e7ce0e",
   "metadata": {},
   "source": [
    "### 3. k=21 (Full variable region) Frequency distribution"
   ]
  },
  {
   "cell_type": "code",
   "execution_count": 278,
   "id": "630c1182-99fd-4642-9111-5714dcec21b2",
   "metadata": {},
   "outputs": [],
   "source": [
    "k=21"
   ]
  },
  {
   "cell_type": "code",
   "execution_count": 259,
   "id": "ca67c9df-f4db-4283-990f-885d689c2a22",
   "metadata": {},
   "outputs": [],
   "source": [
    "# Build your conjoined df for both VRs\n",
    "vr1_kmers = getkmers(df=dfr, k=k, start=v1_st, stop=v1_end)\n",
    "vr2_kmers = getkmers(df=dfr, k=k, start=v2_st, stop=v2_end)\n",
    "\n",
    "k_df = pd.concat([vr1_kmers, vr2_kmers])\n"
   ]
  },
  {
   "cell_type": "code",
   "execution_count": 260,
   "id": "ae464c30-5f3a-4c99-ab6b-36f3905d6c75",
   "metadata": {},
   "outputs": [
    {
     "name": "stdout",
     "output_type": "stream",
     "text": [
      "   Sequence_ID  Position       k-mer\n",
      "0            0        17  CCTTCACTCC\n",
      "1            0        18  CTTCACTCCT\n",
      "2            0        19  TTCACTCCTT\n",
      "3            0        20  TCACTCCTTG\n",
      "4            0        21  CACTCCTTGC\n",
      "5            0        22  ACTCCTTGCT\n",
      "6            0        23  CTCCTTGCTC\n",
      "7            0        24  TCCTTGCTCG\n",
      "8            0        25  CCTTGCTCGA\n",
      "9            0        26  CTTGCTCGAC\n",
      "        Sequence_ID  Position       k-mer\n",
      "158278        10382        62  ACTCCTGCTG\n",
      "158279        10382        63  CTCCTGCTGA\n",
      "158280        10382        64  TCCTGCTGAA\n",
      "158281        10382        65  CCTGCTGAAC\n",
      "158282        10382        66  CTGCTGAACT\n",
      "158283        10382        67  TGCTGAACTC\n",
      "158284        10382        68  GCTGAACTCT\n",
      "158285        10382        69  CTGAACTCTA\n",
      "158286        10382        70  TGAACTCTAG\n",
      "158287        10382        71  GAACTCTAGT\n"
     ]
    }
   ],
   "source": [
    "print(k_df.head(10))\n",
    "print(k_df.tail(10))"
   ]
  },
  {
   "cell_type": "code",
   "execution_count": 261,
   "id": "17f190a2-5b15-44d4-8942-cae57ba55f1d",
   "metadata": {},
   "outputs": [
    {
     "data": {
      "text/plain": [
       "k-mer\n",
       "CCGCTTCACT    178\n",
       "CGCGCCCCCA    155\n",
       "CCTACTTCAC    140\n",
       "CCGCTTCACG     92\n",
       "CCGCTTCACC     92\n",
       "             ... \n",
       "TTTCGGTCCA      1\n",
       "TCGGTCCACG      1\n",
       "CGGTCCACGC      1\n",
       "TCTTGCTTCC      1\n",
       "CGCTACTCCT      1\n",
       "Name: count, Length: 230893, dtype: int64"
      ]
     },
     "execution_count": 261,
     "metadata": {},
     "output_type": "execute_result"
    }
   ],
   "source": [
    "k_count = k_df['k-mer'].value_counts()\n",
    "k_count"
   ]
  },
  {
   "cell_type": "code",
   "execution_count": 268,
   "id": "f5fdb60c-5b09-4475-9b12-11baac42bb0b",
   "metadata": {},
   "outputs": [
    {
     "data": {
      "image/png": "[encoded data removed]",
      "text/plain": [
       "<Figure size 640x480 with 1 Axes>"
      ]
     },
     "metadata": {},
     "output_type": "display_data"
    }
   ],
   "source": [
    "# Plot histogram to get overview of distribution\n",
    "k_count.plot(kind='hist', color='teal', bins=20)\n",
    "plt.yscale('log')\n",
    "plt.figsize=(10,6)\n",
    "plt.title(f'{k}-mer Frequency Distribution')\n",
    "plt.show()"
   ]
  },
  {
   "cell_type": "markdown",
   "id": "5922aa7c-d570-40b4-aa39-5225823fed62",
   "metadata": {},
   "source": [
    "There are only a handful of 10mers which have more than 100 occurrences, and more than 10,000 of the 10mers only have 1 occurrence.  But the kmers which occur with high frequency may be candidates for convergence motifs.\n",
    "\n",
    "Rarely occurring kmers are not necessarily indicative of no function because our pool average function was so high. I wonder if the large number of rare kmers may indicate that they are not random - we previously theorized functional diversity."
   ]
  },
  {
   "cell_type": "code",
   "execution_count": 271,
   "id": "dc6f5b12-7b35-4ed1-bc47-9a2568f63872",
   "metadata": {},
   "outputs": [],
   "source": [
    "import random\n",
    "\n",
    "def generate_random_kmers(num_sequences, k):\n",
    "    bases = \"ACTG\"\n",
    "    base_probs = [0.25, 0.25, 0.25, 0.25]\n",
    "    return [\"\".join(random.choices(bases, weights=base_probs, k=k)) for _ in range(num_sequences)]"
   ]
  },
  {
   "cell_type": "code",
   "execution_count": 276,
   "id": "5cbce574-fc28-4c5d-b894-df87fab74975",
   "metadata": {},
   "outputs": [
    {
     "data": {
      "text/plain": [
       "'5.20e-5'"
      ]
     },
     "execution_count": 276,
     "metadata": {},
     "output_type": "execute_result"
    }
   ],
   "source": [
    "import decimal\n",
    "x = 6e13 / 4**30 \n",
    "d = decimal.Decimal(x)\n",
    "format(d, '.2e')"
   ]
  },
  {
   "cell_type": "code",
   "execution_count": 277,
   "id": "9a091621-164c-4b80-b608-2973b90f16d9",
   "metadata": {},
   "outputs": [
    {
     "data": {
      "text/plain": [
       "0.51915"
      ]
     },
     "execution_count": 277,
     "metadata": {},
     "output_type": "execute_result"
    }
   ],
   "source": [
    "10383/2e6*100"
   ]
  },
  {
   "cell_type": "code",
   "execution_count": null,
   "id": "748fbe64-546f-464e-ba25-26f2e8f72fb5",
   "metadata": {},
   "outputs": [],
   "source": []
  }
 ],
 "metadata": {
  "kernelspec": {
   "display_name": "Python 3 (ipykernel)",
   "language": "python",
   "name": "python3"
  },
  "language_info": {
   "codemirror_mode": {
    "name": "ipython",
    "version": 3
   },
   "file_extension": ".py",
   "mimetype": "text/x-python",
   "name": "python",
   "nbconvert_exporter": "python",
   "pygments_lexer": "ipython3",
   "version": "3.11.5"
  }
 },
 "nbformat": 4,
 "nbformat_minor": 5
}
