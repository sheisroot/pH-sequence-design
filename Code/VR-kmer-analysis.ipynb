{
 "cells": [
  {
   "cell_type": "markdown",
   "id": "c3d7463c-71f4-4ea5-aedb-6d3fa376b072",
   "metadata": {},
   "source": [
    "# Sequence Level Features and Analysis"
   ]
  },
  {
   "cell_type": "code",
   "execution_count": 41,
   "id": "4742c9f4-89fa-49da-a45e-fba4dd519c80",
   "metadata": {},
   "outputs": [],
   "source": [
    "import pandas as pd\n",
    "import numpy as np\n",
    "import matplotlib.pyplot as plt\n",
    "from collections import Counter\n",
    "from scipy.stats import ttest_1samp, poisson\n",
    "from Bio import pairwise2\n",
    "from Bio.pairwise2 import format_alignment\n",
    "\n",
    "\n",
    "\n",
    "pd.set_option('display.float_format', '{:.10e}'.format)\n",
    "pd.set_option('display.max_colwidth', 30)"
   ]
  },
  {
   "cell_type": "code",
   "execution_count": 2,
   "id": "8a9408c5-ef61-4812-8752-32ebbc7049b1",
   "metadata": {},
   "outputs": [
    {
     "data": {
      "text/html": [
       "<div>\n",
       "<style scoped>\n",
       "    .dataframe tbody tr th:only-of-type {\n",
       "        vertical-align: middle;\n",
       "    }\n",
       "\n",
       "    .dataframe tbody tr th {\n",
       "        vertical-align: top;\n",
       "    }\n",
       "\n",
       "    .dataframe thead th {\n",
       "        text-align: right;\n",
       "    }\n",
       "</style>\n",
       "<table border=\"1\" class=\"dataframe\">\n",
       "  <thead>\n",
       "    <tr style=\"text-align: right;\">\n",
       "      <th></th>\n",
       "      <th>Sequence</th>\n",
       "      <th>Copy Num</th>\n",
       "      <th>Length</th>\n",
       "    </tr>\n",
       "  </thead>\n",
       "  <tbody>\n",
       "    <tr>\n",
       "      <th>0</th>\n",
       "      <td>AGTGCCATCGTGCGTATCCTTCACTC...</td>\n",
       "      <td>91</td>\n",
       "      <td>98</td>\n",
       "    </tr>\n",
       "    <tr>\n",
       "      <th>1</th>\n",
       "      <td>AGTGCCATCGTGCGTATCCTTCACGT...</td>\n",
       "      <td>86</td>\n",
       "      <td>98</td>\n",
       "    </tr>\n",
       "    <tr>\n",
       "      <th>2</th>\n",
       "      <td>AGTGCCATCGTGCGTATCCTGAACAT...</td>\n",
       "      <td>83</td>\n",
       "      <td>98</td>\n",
       "    </tr>\n",
       "    <tr>\n",
       "      <th>3</th>\n",
       "      <td>AGTGCCATCGTGCGTATCCCGCTCCG...</td>\n",
       "      <td>80</td>\n",
       "      <td>98</td>\n",
       "    </tr>\n",
       "    <tr>\n",
       "      <th>4</th>\n",
       "      <td>AGTGCCATCGTGCGTATCCTGAACAT...</td>\n",
       "      <td>78</td>\n",
       "      <td>98</td>\n",
       "    </tr>\n",
       "  </tbody>\n",
       "</table>\n",
       "</div>"
      ],
      "text/plain": [
       "                        Sequence  Copy Num  Length\n",
       "0  AGTGCCATCGTGCGTATCCTTCACTC...        91      98\n",
       "1  AGTGCCATCGTGCGTATCCTTCACGT...        86      98\n",
       "2  AGTGCCATCGTGCGTATCCTGAACAT...        83      98\n",
       "3  AGTGCCATCGTGCGTATCCCGCTCCG...        80      98\n",
       "4  AGTGCCATCGTGCGTATCCTGAACAT...        78      98"
      ]
     },
     "execution_count": 2,
     "metadata": {},
     "output_type": "execute_result"
    }
   ],
   "source": [
    "csv_file = \"../Data/R12-clean.csv\"\n",
    "df = pd.read_csv(csv_file)\n",
    "df.head(5)"
   ]
  },
  {
   "cell_type": "markdown",
   "id": "773e7749-5471-4725-a0eb-bc15de5fb134",
   "metadata": {},
   "source": [
    "### 1. k-mer Extraction"
   ]
  },
  {
   "cell_type": "code",
   "execution_count": 3,
   "id": "4a20b93e-1bc2-4289-8153-1d59acf2fabe",
   "metadata": {},
   "outputs": [],
   "source": [
    "def extract_kmers(seq, k):\n",
    "    \"\"\"Extracts kmers from a sequence. Saves position and kmer chunk to preserve order and distance information for downstream secondary structure analysis. Collects kmers from all k reading frames.\"\"\"\n",
    "    all_kmers = [(i, seq[i:i+k]) for i in range(len(seq)-k+1)]\n",
    "    return all_kmers"
   ]
  },
  {
   "cell_type": "code",
   "execution_count": 5,
   "id": "757994fe-d45e-4688-a532-0dc0de8304aa",
   "metadata": {},
   "outputs": [],
   "source": [
    "def getkmers(data, k):\n",
    "    \"\"\"Performs row-level extraction of kmers and returns long-form df.\"\"\"\n",
    "    kmer_data = []\n",
    "    for idx, row in df.iterrows():\n",
    "        kmers = extract_kmers(row['Sequence'], k)\n",
    "        for position, kmer in kmers:\n",
    "            kmer_data.append({'Sequence_ID': idx, 'Position': position, 'k-mer': kmer})\n",
    "    \n",
    "    kmer_df = pd.DataFrame(kmer_data)\n",
    "    return kmer_df"
   ]
  },
  {
   "cell_type": "code",
   "execution_count": 6,
   "id": "174db0d0-a934-45a5-b709-430301b36adb",
   "metadata": {},
   "outputs": [
    {
     "data": {
      "text/html": [
       "<div>\n",
       "<style scoped>\n",
       "    .dataframe tbody tr th:only-of-type {\n",
       "        vertical-align: middle;\n",
       "    }\n",
       "\n",
       "    .dataframe tbody tr th {\n",
       "        vertical-align: top;\n",
       "    }\n",
       "\n",
       "    .dataframe thead th {\n",
       "        text-align: right;\n",
       "    }\n",
       "</style>\n",
       "<table border=\"1\" class=\"dataframe\">\n",
       "  <thead>\n",
       "    <tr style=\"text-align: right;\">\n",
       "      <th></th>\n",
       "      <th>Sequence_ID</th>\n",
       "      <th>Position</th>\n",
       "      <th>k-mer</th>\n",
       "    </tr>\n",
       "  </thead>\n",
       "  <tbody>\n",
       "    <tr>\n",
       "      <th>0</th>\n",
       "      <td>0</td>\n",
       "      <td>0</td>\n",
       "      <td>AGTGCCATCG</td>\n",
       "    </tr>\n",
       "    <tr>\n",
       "      <th>1</th>\n",
       "      <td>0</td>\n",
       "      <td>1</td>\n",
       "      <td>GTGCCATCGT</td>\n",
       "    </tr>\n",
       "    <tr>\n",
       "      <th>2</th>\n",
       "      <td>0</td>\n",
       "      <td>2</td>\n",
       "      <td>TGCCATCGTG</td>\n",
       "    </tr>\n",
       "    <tr>\n",
       "      <th>3</th>\n",
       "      <td>0</td>\n",
       "      <td>3</td>\n",
       "      <td>GCCATCGTGC</td>\n",
       "    </tr>\n",
       "    <tr>\n",
       "      <th>4</th>\n",
       "      <td>0</td>\n",
       "      <td>4</td>\n",
       "      <td>CCATCGTGCG</td>\n",
       "    </tr>\n",
       "  </tbody>\n",
       "</table>\n",
       "</div>"
      ],
      "text/plain": [
       "   Sequence_ID  Position       k-mer\n",
       "0            0         0  AGTGCCATCG\n",
       "1            0         1  GTGCCATCGT\n",
       "2            0         2  TGCCATCGTG\n",
       "3            0         3  GCCATCGTGC\n",
       "4            0         4  CCATCGTGCG"
      ]
     },
     "execution_count": 6,
     "metadata": {},
     "output_type": "execute_result"
    }
   ],
   "source": [
    "getkmers(data=df, k=10).head()"
   ]
  },
  {
   "cell_type": "markdown",
   "id": "aad81bc5-715b-461a-8323-68f6fb376f13",
   "metadata": {},
   "source": [
    "### 2. Search for motifs in variable regions.  \n",
    "We previously considered a naive kmer search but there were too many false positives because high frequency kmers were arising from CRs. We pursue a new approach where we look for motifs only in the VRs and later add back potential overhangs into the CRs when we apply downstream secondary structure analysis to confirm active motifs.  \n",
    "\n",
    "#### Designed constant regions of selection library: \n",
    "The following describes the template of the starting selection library:\n",
    "\n",
    "forward primer | AAGTGCCATCGTGCGTATCC | 20 bp  \n",
    "variable region 1 | (N)^22 | 22 bp  \n",
    "mipomersen loading | GCGAAGCAGACTGAGGC | 17 bp  \n",
    "variable region 2 | (N)^21 | 21 bp  \n",
    "reverse primer | GTAGACTGGAGACACGACGA | 20 bp  \n",
    "\n",
    "Boundary positions are approximate because of PCR mutations/sequencing errors.  For sequences of length 98, the orignal library size (nb: 100bp but NGS discards first and last reads), we estimate the boundary positions but allow a tuneable buffer of a few bps to account for the errors.  For some sequences of non-standard length, we perform pairwise alignment with CRs to more accurately determine the boundary positions."
   ]
  },
  {
   "cell_type": "code",
   "execution_count": 120,
   "id": "9a81039d-662c-439f-b351-3289d6ddb7fd",
   "metadata": {},
   "outputs": [],
   "source": [
    "designed_FP =\"AAGTGCCATCGTGCGTATCC\"\n",
    "FP = designed_FP[1:]\n",
    "MIP = \"GCGAAGCAGACTGAGGC\"\n",
    "designed_RP = \"GTAGACTGGAGACACGACGA\"\n",
    "RP = designed_RP[:-1]"
   ]
  },
  {
   "cell_type": "code",
   "execution_count": 118,
   "id": "cde54df3-a22a-4dcc-b075-071b8056998f",
   "metadata": {},
   "outputs": [],
   "source": [
    "PADNA_1 = df.iloc[0, 0]"
   ]
  },
  {
   "cell_type": "markdown",
   "id": "9481f860-1883-4186-aeaf-918257526d28",
   "metadata": {},
   "source": [
    "#### a. Use PADNA-1 to set boundary estimates for standard length sequences\n",
    "PADNA_1 is an example of an ideal sequence, so we use it to get our boundary estimates."
   ]
  },
  {
   "cell_type": "code",
   "execution_count": 142,
   "id": "829c0d78-c4ac-4fc8-9c00-89cdb1e6ee5d",
   "metadata": {},
   "outputs": [
    {
     "name": "stdout",
     "output_type": "stream",
     "text": [
      "Boundary estimates\n",
      "----------------\n",
      "Forward primer: [0, 19]\n",
      "          VR 1: [19, 41]\n",
      "    Mipomersen: [41, 58]\n",
      "          VR 2: [58, 79]\n",
      "Reverse primer: [79, 98]\n"
     ]
    },
    {
     "data": {
      "text/plain": [
       "True"
      ]
     },
     "execution_count": 142,
     "metadata": {},
     "output_type": "execute_result"
    }
   ],
   "source": [
    "FP_start = PADNA_1.index(FP)\n",
    "FP_end = FP_start + len(FP)\n",
    "\n",
    "MIP_start = PADNA_1.index(MIP)\n",
    "MIP_end = MIP_start + len(MIP)\n",
    "\n",
    "RP_start = PADNA_1.index(RP)\n",
    "RP_end = RP_start + len(RP)\n",
    "\n",
    "# Variable region estimates\n",
    "V1_start = FP_end\n",
    "V1_end = MIP_start\n",
    "\n",
    "V2_start = MIP_end\n",
    "V2_end = RP_start\n",
    "\n",
    "print(f'Boundary estimates\\n----------------\\nForward primer: [{FP_start}, {FP_end}]\\n          VR 1: [{V1_start}, {V1_end}]\\n    Mipomersen: [{MIP_start}, {MIP_end}]\\n          VR 2: [{V2_start}, {V2_end}]\\nReverse primer: [{RP_start}, {RP_end}]')\n",
    "\n",
    "PADNA_1[FP_start:FP_end] == FP\n",
    "PADNA_1[MIP_start:MIP_end] == MIP\n",
    "PADNA_1[RP_start:RP_end] == RP"
   ]
  },
  {
   "cell_type": "code",
   "execution_count": 134,
   "id": "f41c9b5b-b966-4752-9f0b-9780975e743d",
   "metadata": {},
   "outputs": [
    {
     "name": "stdout",
     "output_type": "stream",
     "text": [
      "AGTGCCATCGTGCGTATCC|TTCACTCCTTGCTCGACAAGAA|GCGAAGCAGACTGAGGC|GTCCGATGGTCTAATTCTTCA|GTAGACTGGAGACACGACG\n",
      "Boundary estimates\n",
      "----------------\n",
      "VR 1: [19, 40]\n",
      "VR 2: [58, 78]\n"
     ]
    }
   ],
   "source": [
    "# PADNA_1\n",
    "print('AGTGCCATCGTGCGTATCC|TTCACTCCTTGCTCGACAAGAA|GCGAAGCAGACTGAGGC|GTCCGATGGTCTAATTCTTCA|GTAGACTGGAGACACGACG')\n",
    "\n",
    "print('Variable Regions:\\n')\n",
    "print(f'V1: {PADNA_1[V1_start:V1_end]}\\nV2: {PADNA_1[V2_start:V2_"
   ]
  },
  {
   "cell_type": "code",
   "execution_count": null,
   "id": "06570924-47d2-4730-b723-b88d02205560",
   "metadata": {},
   "outputs": [],
   "source": [
    "# Collect sequences of standard 98 bp length"
   ]
  }
 ],
 "metadata": {
  "kernelspec": {
   "display_name": "Python 3 (ipykernel)",
   "language": "python",
   "name": "python3"
  },
  "language_info": {
   "codemirror_mode": {
    "name": "ipython",
    "version": 3
   },
   "file_extension": ".py",
   "mimetype": "text/x-python",
   "name": "python",
   "nbconvert_exporter": "python",
   "pygments_lexer": "ipython3",
   "version": "3.11.5"
  }
 },
 "nbformat": 4,
 "nbformat_minor": 5
}
