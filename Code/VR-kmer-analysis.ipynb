{
 "cells": [
  {
   "cell_type": "markdown",
   "id": "c3d7463c-71f4-4ea5-aedb-6d3fa376b072",
   "metadata": {},
   "source": [
    "# Sequence Level Features and Analysis"
   ]
  },
  {
   "cell_type": "code",
   "execution_count": 41,
   "id": "4742c9f4-89fa-49da-a45e-fba4dd519c80",
   "metadata": {},
   "outputs": [],
   "source": [
    "import pandas as pd\n",
    "import numpy as np\n",
    "import matplotlib.pyplot as plt\n",
    "from collections import Counter\n",
    "from scipy.stats import ttest_1samp, poisson\n",
    "from Bio import pairwise2\n",
    "from Bio.pairwise2 import format_alignment\n",
    "\n",
    "\n",
    "\n",
    "pd.set_option('display.float_format', '{:.10e}'.format)\n",
    "pd.set_option('display.max_colwidth', 30)"
   ]
  },
  {
   "cell_type": "code",
   "execution_count": 2,
   "id": "8a9408c5-ef61-4812-8752-32ebbc7049b1",
   "metadata": {},
   "outputs": [
    {
     "data": {
      "text/html": [
       "<div>\n",
       "<style scoped>\n",
       "    .dataframe tbody tr th:only-of-type {\n",
       "        vertical-align: middle;\n",
       "    }\n",
       "\n",
       "    .dataframe tbody tr th {\n",
       "        vertical-align: top;\n",
       "    }\n",
       "\n",
       "    .dataframe thead th {\n",
       "        text-align: right;\n",
       "    }\n",
       "</style>\n",
       "<table border=\"1\" class=\"dataframe\">\n",
       "  <thead>\n",
       "    <tr style=\"text-align: right;\">\n",
       "      <th></th>\n",
       "      <th>Sequence</th>\n",
       "      <th>Copy Num</th>\n",
       "      <th>Length</th>\n",
       "    </tr>\n",
       "  </thead>\n",
       "  <tbody>\n",
       "    <tr>\n",
       "      <th>0</th>\n",
       "      <td>AGTGCCATCGTGCGTATCCTTCACTC...</td>\n",
       "      <td>91</td>\n",
       "      <td>98</td>\n",
       "    </tr>\n",
       "    <tr>\n",
       "      <th>1</th>\n",
       "      <td>AGTGCCATCGTGCGTATCCTTCACGT...</td>\n",
       "      <td>86</td>\n",
       "      <td>98</td>\n",
       "    </tr>\n",
       "    <tr>\n",
       "      <th>2</th>\n",
       "      <td>AGTGCCATCGTGCGTATCCTGAACAT...</td>\n",
       "      <td>83</td>\n",
       "      <td>98</td>\n",
       "    </tr>\n",
       "    <tr>\n",
       "      <th>3</th>\n",
       "      <td>AGTGCCATCGTGCGTATCCCGCTCCG...</td>\n",
       "      <td>80</td>\n",
       "      <td>98</td>\n",
       "    </tr>\n",
       "    <tr>\n",
       "      <th>4</th>\n",
       "      <td>AGTGCCATCGTGCGTATCCTGAACAT...</td>\n",
       "      <td>78</td>\n",
       "      <td>98</td>\n",
       "    </tr>\n",
       "  </tbody>\n",
       "</table>\n",
       "</div>"
      ],
      "text/plain": [
       "                        Sequence  Copy Num  Length\n",
       "0  AGTGCCATCGTGCGTATCCTTCACTC...        91      98\n",
       "1  AGTGCCATCGTGCGTATCCTTCACGT...        86      98\n",
       "2  AGTGCCATCGTGCGTATCCTGAACAT...        83      98\n",
       "3  AGTGCCATCGTGCGTATCCCGCTCCG...        80      98\n",
       "4  AGTGCCATCGTGCGTATCCTGAACAT...        78      98"
      ]
     },
     "execution_count": 2,
     "metadata": {},
     "output_type": "execute_result"
    }
   ],
   "source": [
    "csv_file = \"../Data/R12-clean.csv\"\n",
    "df = pd.read_csv(csv_file)\n",
    "df.head(5)"
   ]
  },
  {
   "cell_type": "markdown",
   "id": "773e7749-5471-4725-a0eb-bc15de5fb134",
   "metadata": {},
   "source": [
    "### 1. k-mer Extraction"
   ]
  },
  {
   "cell_type": "code",
   "execution_count": 3,
   "id": "4a20b93e-1bc2-4289-8153-1d59acf2fabe",
   "metadata": {},
   "outputs": [],
   "source": [
    "def extract_kmers(seq, k):\n",
    "    \"\"\"Extracts kmers from a sequence. Saves position and kmer chunk to preserve order and distance information for downstream secondary structure analysis. Collects kmers from all k reading frames.\"\"\"\n",
    "    all_kmers = [(i, seq[i:i+k]) for i in range(len(seq)-k+1)]\n",
    "    return all_kmers"
   ]
  },
  {
   "cell_type": "code",
   "execution_count": 5,
   "id": "757994fe-d45e-4688-a532-0dc0de8304aa",
   "metadata": {},
   "outputs": [],
   "source": [
    "def getkmers(data, k):\n",
    "    \"\"\"Performs row-level extraction of kmers and returns long-form df.\"\"\"\n",
    "    kmer_data = []\n",
    "    for idx, row in df.iterrows():\n",
    "        kmers = extract_kmers(row['Sequence'], k)\n",
    "        for position, kmer in kmers:\n",
    "            kmer_data.append({'Sequence_ID': idx, 'Position': position, 'k-mer': kmer})\n",
    "    \n",
    "    kmer_df = pd.DataFrame(kmer_data)\n",
    "    return kmer_df"
   ]
  },
  {
   "cell_type": "code",
   "execution_count": 6,
   "id": "174db0d0-a934-45a5-b709-430301b36adb",
   "metadata": {},
   "outputs": [
    {
     "data": {
      "text/html": [
       "<div>\n",
       "<style scoped>\n",
       "    .dataframe tbody tr th:only-of-type {\n",
       "        vertical-align: middle;\n",
       "    }\n",
       "\n",
       "    .dataframe tbody tr th {\n",
       "        vertical-align: top;\n",
       "    }\n",
       "\n",
       "    .dataframe thead th {\n",
       "        text-align: right;\n",
       "    }\n",
       "</style>\n",
       "<table border=\"1\" class=\"dataframe\">\n",
       "  <thead>\n",
       "    <tr style=\"text-align: right;\">\n",
       "      <th></th>\n",
       "      <th>Sequence_ID</th>\n",
       "      <th>Position</th>\n",
       "      <th>k-mer</th>\n",
       "    </tr>\n",
       "  </thead>\n",
       "  <tbody>\n",
       "    <tr>\n",
       "      <th>0</th>\n",
       "      <td>0</td>\n",
       "      <td>0</td>\n",
       "      <td>AGTGCCATCG</td>\n",
       "    </tr>\n",
       "    <tr>\n",
       "      <th>1</th>\n",
       "      <td>0</td>\n",
       "      <td>1</td>\n",
       "      <td>GTGCCATCGT</td>\n",
       "    </tr>\n",
       "    <tr>\n",
       "      <th>2</th>\n",
       "      <td>0</td>\n",
       "      <td>2</td>\n",
       "      <td>TGCCATCGTG</td>\n",
       "    </tr>\n",
       "    <tr>\n",
       "      <th>3</th>\n",
       "      <td>0</td>\n",
       "      <td>3</td>\n",
       "      <td>GCCATCGTGC</td>\n",
       "    </tr>\n",
       "    <tr>\n",
       "      <th>4</th>\n",
       "      <td>0</td>\n",
       "      <td>4</td>\n",
       "      <td>CCATCGTGCG</td>\n",
       "    </tr>\n",
       "  </tbody>\n",
       "</table>\n",
       "</div>"
      ],
      "text/plain": [
       "   Sequence_ID  Position       k-mer\n",
       "0            0         0  AGTGCCATCG\n",
       "1            0         1  GTGCCATCGT\n",
       "2            0         2  TGCCATCGTG\n",
       "3            0         3  GCCATCGTGC\n",
       "4            0         4  CCATCGTGCG"
      ]
     },
     "execution_count": 6,
     "metadata": {},
     "output_type": "execute_result"
    }
   ],
   "source": [
    "getkmers(data=df, k=10).head()"
   ]
  },
  {
   "cell_type": "markdown",
   "id": "aad81bc5-715b-461a-8323-68f6fb376f13",
   "metadata": {},
   "source": [
    "### 2. Search for motifs in variable regions.  \n",
    "We previously considered a naive kmer search but there were too many false positives because high frequency kmers were arising from CRs. We pursue a new approach where we look for motifs only in the VRs and later add back potential overhangs into the CRs when we apply downstream secondary structure analysis to confirm active motifs.  \n",
    "\n",
    "#### Designed constant regions of selection library: \n",
    "The following describes the template of the starting selection library:\n",
    "\n",
    "forward primer | AAGTGCCATCGTGCGTATCC | 20 bp  \n",
    "variable region 1 | (N)^22 | 22 bp  \n",
    "mipomersen loading | GCGAAGCAGACTGAGGC | 17 bp  \n",
    "variable region 2 | (N)^21 | 21 bp  \n",
    "reverse primer | GTAGACTGGAGACACGACGA | 20 bp  \n",
    "\n",
    "Boundary positions are approximate because of PCR mutations/sequencing errors.  For sequences of length 98, the orignal library size (nb: 100bp but NGS discards 1st and last reads), we estimate the boundary positions but allow a tuneable buffer of a few bps to account for the errors.  For some sequences of non-standard length, we perform pairwise alignment with CRs to more accurately determine the boundary positions."
   ]
  },
  {
   "cell_type": "code",
   "execution_count": 97,
   "id": "e9329234-b1ff-4db2-a759-4ca706827fe7",
   "metadata": {},
   "outputs": [
    {
     "name": "stdout",
     "output_type": "stream",
     "text": [
      "1 AGTGCCATCGTGCGTATCC\n",
      "  |||||||||||||||||||\n",
      "2 AGTGCCATCGTGCGTATCC\n",
      "  Score=38\n",
      "\n",
      "Start = 2, End = 21\n"
     ]
    }
   ],
   "source": [
    "# Define alignment function\n",
    "def align(cr, seq):\n",
    "    # Perform local alignment\n",
    "    alignments = pairwise2.align.localms(seq, cr, 2, -1, -2, -0.5)\n",
    "    best_alignment = alignments[0]\n",
    "    \n",
    "    # Extract aligned sequences\n",
    "    aligned_seq1 = best_alignment.seqA\n",
    "    aligned_seq2 = best_alignment.seqB\n",
    "\n",
    "    # Map the aligned region back to PADNA_1\n",
    "    start_in_seq2 = best_alignment.start + 1  # 1-based index for start\n",
    "    end_in_seq2 = best_alignment.start + aligned_seq2.replace(\"-\", \"\").rfind(next(c for c in reversed(aligned_seq2) if c != '-')) + 1\n",
    "\n",
    "    # Display alignment and summary\n",
    "    print(format_alignment(*best_alignment))\n",
    "    print(f\"Start = {start_in_seq2}, End = {end_in_seq2}\")\n",
    "\n",
    "# Define sequences\n",
    "PADNA_1 = \"AGTGCCATCGTGCGTATCCTTCACTCCTTGCTCGACAAGAAGCGAAGCAGACTGAGGCGTCCGATGGTCTAATTCTTCAGTAGACTGGAGACACGACG\"\n",
    "FP = \"AAGTGCCATCGTGCGTATCC\"\n",
    "\n",
    "# Run alignment\n",
    "align(FP, PADNA_1)"
   ]
  },
  {
   "cell_type": "code",
   "execution_count": 106,
   "id": "611d904a-3e96-4369-89a1-f2e60b24d923",
   "metadata": {},
   "outputs": [
    {
     "name": "stdout",
     "output_type": "stream",
     "text": [
      "42 GCGAAGCAGACTGAGGC\n",
      "   |||||||||||||||||\n",
      " 1 GCGAAGCAGACTGAGGC\n",
      "  Score=34\n",
      "\n",
      "Start = 42, End = 58\n"
     ]
    }
   ],
   "source": [
    "# Look at one 98 bp sequence, PADNA-1\n",
    "PADNA_1 = \"AGTGCCATCGTGCGTATCCTTCACTCCTTGCTCGACAAGAAGCGAAGCAGACTGAGGCGTCCGATGGTCTAATTCTTCA GTAGACTGGAGACACGACG\"\n",
    "FP = \"AAGTGCCATCGTGCGTATCC\"\n",
    "MIP = \"GCGAAGCAGACTGAGGC\"\n",
    "RP = \"GTAGACTGGAGACACGACGA\"\n",
    "\n",
    "align(MIP, PADNA_5)"
   ]
  },
  {
   "cell_type": "code",
   "execution_count": 102,
   "id": "b13a8d3f-5e95-48f5-b8d3-be98e56352b4",
   "metadata": {},
   "outputs": [
    {
     "name": "stdout",
     "output_type": "stream",
     "text": [
      "AGTGCCATCGTGCGTATCCTGAACATAGACGTTTAGTCTATGCGAAGCAGACTGAGGCGCGTGGATAGCCTATTTTCGGGTAGACTGGAGACACGACG\n"
     ]
    }
   ],
   "source": [
    "PADNA_5 = df.iloc[4,0]\n",
    "print(PADNA_5)"
   ]
  },
  {
   "cell_type": "code",
   "execution_count": 103,
   "id": "b65d071a-92a1-448e-8b5d-150e923c4fdf",
   "metadata": {},
   "outputs": [
    {
     "name": "stdout",
     "output_type": "stream",
     "text": [
      "80 GTAGACTGGAGACACGACG\n",
      "   |||||||||||||||||||\n",
      " 1 GTAGACTGGAGACACGACG\n",
      "  Score=38\n",
      "\n",
      "Start = 80, End = 99\n"
     ]
    }
   ],
   "source": [
    "align(RP, PADNA_5)"
   ]
  },
  {
   "cell_type": "code",
   "execution_count": 104,
   "id": "2c5c69d6-b369-47e3-8374-31b249c679a5",
   "metadata": {},
   "outputs": [
    {
     "name": "stdout",
     "output_type": "stream",
     "text": [
      "1 AGTGCCATCGTGCGTATCC\n",
      "  |||||||||||||||||||\n",
      "2 AGTGCCATCGTGCGTATCC\n",
      "  Score=38\n",
      "\n",
      "Start = 2, End = 21\n"
     ]
    }
   ],
   "source": [
    "align(FP, PADNA_5)"
   ]
  },
  {
   "cell_type": "code",
   "execution_count": null,
   "id": "cde54df3-a22a-4dcc-b075-071b8056998f",
   "metadata": {},
   "outputs": [],
   "source": []
  }
 ],
 "metadata": {
  "kernelspec": {
   "display_name": "Python 3 (ipykernel)",
   "language": "python",
   "name": "python3"
  },
  "language_info": {
   "codemirror_mode": {
    "name": "ipython",
    "version": 3
   },
   "file_extension": ".py",
   "mimetype": "text/x-python",
   "name": "python",
   "nbconvert_exporter": "python",
   "pygments_lexer": "ipython3",
   "version": "3.11.5"
  }
 },
 "nbformat": 4,
 "nbformat_minor": 5
}
