{
 "cells": [
  {
   "cell_type": "markdown",
   "id": "c3d7463c-71f4-4ea5-aedb-6d3fa376b072",
   "metadata": {},
   "source": [
    "# Sequence Level Features and Analysis"
   ]
  },
  {
   "cell_type": "code",
   "execution_count": 174,
   "id": "4742c9f4-89fa-49da-a45e-fba4dd519c80",
   "metadata": {},
   "outputs": [],
   "source": [
    "import pandas as pd\n",
    "import numpy as np\n",
    "import matplotlib.pyplot as plt\n",
    "from collections import Counter\n",
    "from scipy.stats import ttest_1samp, poisson\n",
    "from Bio import pairwise2\n",
    "from Bio.pairwise2 import format_alignment\n",
    "\n",
    "\n",
    "\n",
    "pd.set_option('display.float_format', '{:.10e}'.format)\n",
    "pd.set_option('display.max_colwidth', 30)"
   ]
  },
  {
   "cell_type": "code",
   "execution_count": 175,
   "id": "8a9408c5-ef61-4812-8752-32ebbc7049b1",
   "metadata": {},
   "outputs": [
    {
     "data": {
      "text/html": [
       "<div>\n",
       "<style scoped>\n",
       "    .dataframe tbody tr th:only-of-type {\n",
       "        vertical-align: middle;\n",
       "    }\n",
       "\n",
       "    .dataframe tbody tr th {\n",
       "        vertical-align: top;\n",
       "    }\n",
       "\n",
       "    .dataframe thead th {\n",
       "        text-align: right;\n",
       "    }\n",
       "</style>\n",
       "<table border=\"1\" class=\"dataframe\">\n",
       "  <thead>\n",
       "    <tr style=\"text-align: right;\">\n",
       "      <th></th>\n",
       "      <th>Sequence</th>\n",
       "      <th>Copy Num</th>\n",
       "      <th>Length</th>\n",
       "    </tr>\n",
       "  </thead>\n",
       "  <tbody>\n",
       "    <tr>\n",
       "      <th>0</th>\n",
       "      <td>AGTGCCATCGTGCGTATCCTTCACTC...</td>\n",
       "      <td>91</td>\n",
       "      <td>98</td>\n",
       "    </tr>\n",
       "    <tr>\n",
       "      <th>1</th>\n",
       "      <td>AGTGCCATCGTGCGTATCCTTCACGT...</td>\n",
       "      <td>86</td>\n",
       "      <td>98</td>\n",
       "    </tr>\n",
       "    <tr>\n",
       "      <th>2</th>\n",
       "      <td>AGTGCCATCGTGCGTATCCTGAACAT...</td>\n",
       "      <td>83</td>\n",
       "      <td>98</td>\n",
       "    </tr>\n",
       "    <tr>\n",
       "      <th>3</th>\n",
       "      <td>AGTGCCATCGTGCGTATCCCGCTCCG...</td>\n",
       "      <td>80</td>\n",
       "      <td>98</td>\n",
       "    </tr>\n",
       "    <tr>\n",
       "      <th>4</th>\n",
       "      <td>AGTGCCATCGTGCGTATCCTGAACAT...</td>\n",
       "      <td>78</td>\n",
       "      <td>98</td>\n",
       "    </tr>\n",
       "  </tbody>\n",
       "</table>\n",
       "</div>"
      ],
      "text/plain": [
       "                        Sequence  Copy Num  Length\n",
       "0  AGTGCCATCGTGCGTATCCTTCACTC...        91      98\n",
       "1  AGTGCCATCGTGCGTATCCTTCACGT...        86      98\n",
       "2  AGTGCCATCGTGCGTATCCTGAACAT...        83      98\n",
       "3  AGTGCCATCGTGCGTATCCCGCTCCG...        80      98\n",
       "4  AGTGCCATCGTGCGTATCCTGAACAT...        78      98"
      ]
     },
     "execution_count": 175,
     "metadata": {},
     "output_type": "execute_result"
    }
   ],
   "source": [
    "csv_file = \"../Data/R12-clean.csv\"\n",
    "df = pd.read_csv(csv_file)\n",
    "df.head(5)"
   ]
  },
  {
   "cell_type": "markdown",
   "id": "773e7749-5471-4725-a0eb-bc15de5fb134",
   "metadata": {},
   "source": [
    "### 1. k-mer Extraction"
   ]
  },
  {
   "cell_type": "code",
   "execution_count": 178,
   "id": "174db0d0-a934-45a5-b709-430301b36adb",
   "metadata": {},
   "outputs": [
    {
     "data": {
      "text/html": [
       "<div>\n",
       "<style scoped>\n",
       "    .dataframe tbody tr th:only-of-type {\n",
       "        vertical-align: middle;\n",
       "    }\n",
       "\n",
       "    .dataframe tbody tr th {\n",
       "        vertical-align: top;\n",
       "    }\n",
       "\n",
       "    .dataframe thead th {\n",
       "        text-align: right;\n",
       "    }\n",
       "</style>\n",
       "<table border=\"1\" class=\"dataframe\">\n",
       "  <thead>\n",
       "    <tr style=\"text-align: right;\">\n",
       "      <th></th>\n",
       "      <th>Sequence_ID</th>\n",
       "      <th>Position</th>\n",
       "      <th>k-mer</th>\n",
       "    </tr>\n",
       "  </thead>\n",
       "  <tbody>\n",
       "    <tr>\n",
       "      <th>0</th>\n",
       "      <td>0</td>\n",
       "      <td>0</td>\n",
       "      <td>AGTGCCATCG</td>\n",
       "    </tr>\n",
       "    <tr>\n",
       "      <th>1</th>\n",
       "      <td>0</td>\n",
       "      <td>1</td>\n",
       "      <td>GTGCCATCGT</td>\n",
       "    </tr>\n",
       "    <tr>\n",
       "      <th>2</th>\n",
       "      <td>0</td>\n",
       "      <td>2</td>\n",
       "      <td>TGCCATCGTG</td>\n",
       "    </tr>\n",
       "    <tr>\n",
       "      <th>3</th>\n",
       "      <td>0</td>\n",
       "      <td>3</td>\n",
       "      <td>GCCATCGTGC</td>\n",
       "    </tr>\n",
       "    <tr>\n",
       "      <th>4</th>\n",
       "      <td>0</td>\n",
       "      <td>4</td>\n",
       "      <td>CCATCGTGCG</td>\n",
       "    </tr>\n",
       "  </tbody>\n",
       "</table>\n",
       "</div>"
      ],
      "text/plain": [
       "   Sequence_ID  Position       k-mer\n",
       "0            0         0  AGTGCCATCG\n",
       "1            0         1  GTGCCATCGT\n",
       "2            0         2  TGCCATCGTG\n",
       "3            0         3  GCCATCGTGC\n",
       "4            0         4  CCATCGTGCG"
      ]
     },
     "execution_count": 178,
     "metadata": {},
     "output_type": "execute_result"
    }
   ],
   "source": [
    "getkmers(data=df, k=10).head()"
   ]
  },
  {
   "cell_type": "markdown",
   "id": "aad81bc5-715b-461a-8323-68f6fb376f13",
   "metadata": {},
   "source": [
    "### 2. Search for motifs in variable regions.  \n",
    "We previously considered a naive kmer search but there were too many false positives because high frequency kmers were arising from CRs. We pursue a new approach where we look for motifs only in the VRs and later add back potential overhangs into the CRs when we apply downstream secondary structure analysis to confirm active motifs.  \n",
    "\n",
    "#### Designed constant regions of selection library: \n",
    "The following describes the template of the starting selection library:\n",
    "\n",
    "forward primer | AAGTGCCATCGTGCGTATCC | 20 bp  \n",
    "variable region 1 | (N)^22 | 22 bp  \n",
    "mipomersen loading | GCGAAGCAGACTGAGGC | 17 bp  \n",
    "variable region 2 | (N)^21 | 21 bp  \n",
    "reverse primer | GTAGACTGGAGACACGACGA | 20 bp  \n",
    "\n",
    "Boundary positions are approximate because of PCR mutations/sequencing errors.  For sequences of length 98, the orignal library size (nb: 100bp but NGS discards first and last reads), we estimate the boundary positions but allow a tuneable buffer of a few bps to account for the errors.  For some sequences of non-standard length, we perform pairwise alignment with CRs to more accurately determine the boundary positions."
   ]
  },
  {
   "cell_type": "code",
   "execution_count": 179,
   "id": "9a81039d-662c-439f-b351-3289d6ddb7fd",
   "metadata": {},
   "outputs": [],
   "source": [
    "designed_FP =\"AAGTGCCATCGTGCGTATCC\"\n",
    "FP = designed_FP[1:]\n",
    "MIP = \"GCGAAGCAGACTGAGGC\"\n",
    "designed_RP = \"GTAGACTGGAGACACGACGA\"\n",
    "RP = designed_RP[:-1]"
   ]
  },
  {
   "cell_type": "code",
   "execution_count": 180,
   "id": "cde54df3-a22a-4dcc-b075-071b8056998f",
   "metadata": {},
   "outputs": [],
   "source": [
    "PADNA_1 = df.iloc[0, 0]"
   ]
  },
  {
   "cell_type": "markdown",
   "id": "9481f860-1883-4186-aeaf-918257526d28",
   "metadata": {},
   "source": [
    "#### a. Use PADNA-1 to set boundary estimates for standard length sequences\n",
    "PADNA_1 is an example of an ideal sequence, so we use it to get our boundary estimates."
   ]
  },
  {
   "cell_type": "code",
   "execution_count": 181,
   "id": "829c0d78-c4ac-4fc8-9c00-89cdb1e6ee5d",
   "metadata": {},
   "outputs": [
    {
     "name": "stdout",
     "output_type": "stream",
     "text": [
      "Boundary estimates\n",
      "----------------\n",
      "Forward primer: [0, 19]\n",
      "          VR 1: [19, 41]\n",
      "    Mipomersen: [41, 58]\n",
      "          VR 2: [58, 79]\n",
      "Reverse primer: [79, 98]\n"
     ]
    },
    {
     "data": {
      "text/plain": [
       "True"
      ]
     },
     "execution_count": 181,
     "metadata": {},
     "output_type": "execute_result"
    }
   ],
   "source": [
    "FP_start = PADNA_1.index(FP)\n",
    "FP_end = FP_start + len(FP)\n",
    "\n",
    "MIP_start = PADNA_1.index(MIP)\n",
    "MIP_end = MIP_start + len(MIP)\n",
    "\n",
    "RP_start = PADNA_1.index(RP)\n",
    "RP_end = RP_start + len(RP)\n",
    "\n",
    "# Variable region estimates\n",
    "V1_start = FP_end\n",
    "V1_end = MIP_start\n",
    "\n",
    "V2_start = MIP_end\n",
    "V2_end = RP_start\n",
    "\n",
    "print(f'Boundary estimates\\n----------------\\nForward primer: [{FP_start}, {FP_end}]\\n          VR 1: [{V1_start}, {V1_end}]\\n    Mipomersen: [{MIP_start}, {MIP_end}]\\n          VR 2: [{V2_start}, {V2_end}]\\nReverse primer: [{RP_start}, {RP_end}]')\n",
    "\n",
    "PADNA_1[FP_start:FP_end] == FP\n",
    "PADNA_1[MIP_start:MIP_end] == MIP\n",
    "PADNA_1[RP_start:RP_end] == RP"
   ]
  },
  {
   "cell_type": "code",
   "execution_count": 182,
   "id": "f41c9b5b-b966-4752-9f0b-9780975e743d",
   "metadata": {},
   "outputs": [
    {
     "name": "stdout",
     "output_type": "stream",
     "text": [
      "AGTGCCATCGTGCGTATCC|TTCACTCCTTGCTCGACAAGAA|GCGAAGCAGACTGAGGC|GTCCGATGGTCTAATTCTTCA|GTAGACTGGAGACACGACG\n",
      "\n",
      "Variable Regions\n",
      "V1: TTCACTCCTTGCTCGACAAGAA\n",
      "V2: GTCCGATGGTCTAATTCTTCA\n"
     ]
    }
   ],
   "source": [
    "V1 = PADNA_1[V1_start:V1_end]\n",
    "V2 = PADNA_1[V2_start:V2_end]\n",
    "\n",
    "# Visual check on VR boundaries\n",
    "print('AGTGCCATCGTGCGTATCC|TTCACTCCTTGCTCGACAAGAA|GCGAAGCAGACTGAGGC|GTCCGATGGTCTAATTCTTCA|GTAGACTGGAGACACGACG')\n",
    "\n",
    "print('\\nVariable Regions')\n",
    "print(f'V1: {V1}\\nV2: {V2}')"
   ]
  },
  {
   "cell_type": "code",
   "execution_count": 183,
   "id": "0f629da6-3d96-4c9e-a736-d33edb720c79",
   "metadata": {},
   "outputs": [
    {
     "name": "stdout",
     "output_type": "stream",
     "text": [
      "22\n",
      "21\n"
     ]
    }
   ],
   "source": [
    "print(len(V1))\n",
    "print(len(V2))"
   ]
  },
  {
   "cell_type": "code",
   "execution_count": 184,
   "id": "984d60bf-fbcd-45c9-820b-fadf26faa4a1",
   "metadata": {},
   "outputs": [],
   "source": [
    "buffer = 2 # set buffer for expanded boundary to account for library mutation"
   ]
  },
  {
   "cell_type": "markdown",
   "id": "24157f78-e9f0-4431-b4d3-20ffe255776c",
   "metadata": {},
   "source": [
    "#### b. Regular length sequences variable region extraction"
   ]
  },
  {
   "cell_type": "code",
   "execution_count": 185,
   "id": "06570924-47d2-4730-b723-b88d02205560",
   "metadata": {},
   "outputs": [],
   "source": [
    "# Bin sequences into regular 98 bp length, short, and long\n",
    "dfr = df[df['Length'] == 98].copy()\n",
    "dfl = df[df['Length'] > 98].copy()\n",
    "dfs = df[df['Length'] < 98].copy()"
   ]
  },
  {
   "cell_type": "code",
   "execution_count": 190,
   "id": "057c5296-56e4-4e22-b2f7-cf5888d699ac",
   "metadata": {},
   "outputs": [
    {
     "data": {
      "text/html": [
       "<div>\n",
       "<style scoped>\n",
       "    .dataframe tbody tr th:only-of-type {\n",
       "        vertical-align: middle;\n",
       "    }\n",
       "\n",
       "    .dataframe tbody tr th {\n",
       "        vertical-align: top;\n",
       "    }\n",
       "\n",
       "    .dataframe thead th {\n",
       "        text-align: right;\n",
       "    }\n",
       "</style>\n",
       "<table border=\"1\" class=\"dataframe\">\n",
       "  <thead>\n",
       "    <tr style=\"text-align: right;\">\n",
       "      <th></th>\n",
       "      <th>Length</th>\n",
       "      <th>VR 1</th>\n",
       "      <th>VR 2</th>\n",
       "    </tr>\n",
       "  </thead>\n",
       "  <tbody>\n",
       "    <tr>\n",
       "      <th>0</th>\n",
       "      <td>98</td>\n",
       "      <td>CCTTCACTCCTTGCTCGACAAGAAGC</td>\n",
       "      <td>GCGTCCGATGGTCTAATTCTTCAGT</td>\n",
       "    </tr>\n",
       "    <tr>\n",
       "      <th>1</th>\n",
       "      <td>98</td>\n",
       "      <td>CCTTCACGTTTGTTCTACAAAAGCGA</td>\n",
       "      <td>GCGTGCCCTGTCGTGCACCACGGGT</td>\n",
       "    </tr>\n",
       "    <tr>\n",
       "      <th>2</th>\n",
       "      <td>98</td>\n",
       "      <td>CCTGAACATTGACGTGTAGTCAATGC</td>\n",
       "      <td>GCGCCTCTCTAGTTTGACCTTGGGT</td>\n",
       "    </tr>\n",
       "    <tr>\n",
       "      <th>3</th>\n",
       "      <td>98</td>\n",
       "      <td>CCCGCTCCGCTAATATCTATGTTAGC</td>\n",
       "      <td>GCGCGATGATGTCTACACTGACGGT</td>\n",
       "    </tr>\n",
       "    <tr>\n",
       "      <th>4</th>\n",
       "      <td>98</td>\n",
       "      <td>CCTGAACATAGACGTTTAGTCTATGC</td>\n",
       "      <td>GCGCGTGGATAGCCTATTTTCGGGT</td>\n",
       "    </tr>\n",
       "  </tbody>\n",
       "</table>\n",
       "</div>"
      ],
      "text/plain": [
       "   Length                        VR 1                       VR 2\n",
       "0      98  CCTTCACTCCTTGCTCGACAAGAAGC  GCGTCCGATGGTCTAATTCTTCAGT\n",
       "1      98  CCTTCACGTTTGTTCTACAAAAGCGA  GCGTGCCCTGTCGTGCACCACGGGT\n",
       "2      98  CCTGAACATTGACGTGTAGTCAATGC  GCGCCTCTCTAGTTTGACCTTGGGT\n",
       "3      98  CCCGCTCCGCTAATATCTATGTTAGC  GCGCGATGATGTCTACACTGACGGT\n",
       "4      98  CCTGAACATAGACGTTTAGTCTATGC  GCGCGTGGATAGCCTATTTTCGGGT"
      ]
     },
     "execution_count": 190,
     "metadata": {},
     "output_type": "execute_result"
    }
   ],
   "source": [
    "# Make two new cols for v1 an v2\n",
    "dfr['VR 1'] = dfr['Sequence'].str[(V1_start - buffer):(V1_end + buffer)]\n",
    "\n",
    "dfr['VR 2'] = dfr['Sequence'].str[(V2_start - buffer):(V2_end + buffer)]\n",
    "dfr.iloc[:, 2:].head()"
   ]
  },
  {
   "cell_type": "markdown",
   "id": "d1ee5f5e-a3a6-4978-b3cd-1eb2b1353825",
   "metadata": {},
   "source": [
    "#### c. kmer extraction from buffered variable regions"
   ]
  },
  {
   "cell_type": "markdown",
   "id": "df32b42e-548a-4865-8499-f10d796fa761",
   "metadata": {},
   "source": [
    "#### Case (i): Entire variable region "
   ]
  },
  {
   "cell_type": "code",
   "execution_count": 176,
   "id": "4a20b93e-1bc2-4289-8153-1d59acf2fabe",
   "metadata": {},
   "outputs": [],
   "source": [
    "def extract_kmers(seq, k):\n",
    "    \"\"\"Extracts kmers from a sequence. Saves position and kmer chunk to preserve order and distance information for downstream secondary structure analysis. Collects kmers from all k reading frames.\"\"\"\n",
    "    all_kmers = [(i, seq[i:i+k]) for i in range(len(seq)-k+1)]\n",
    "    return all_kmers"
   ]
  },
  {
   "cell_type": "code",
   "execution_count": 177,
   "id": "757994fe-d45e-4688-a532-0dc0de8304aa",
   "metadata": {},
   "outputs": [],
   "source": [
    "def getkmers(data, k):\n",
    "    \"\"\"Performs row-level extraction of kmers and returns long-form df.\"\"\"\n",
    "    kmer_data = []\n",
    "    for idx, row in df.iterrows():\n",
    "        kmers = extract_kmers(row['Sequence'], k)\n",
    "        for position, kmer in kmers:\n",
    "            kmer_data.append({'Sequence_ID': idx, 'Position': position, 'k-mer': kmer})\n",
    "    \n",
    "    kmer_df = pd.DataFrame(kmer_data)\n",
    "    return kmer_df"
   ]
  },
  {
   "cell_type": "code",
   "execution_count": 191,
   "id": "83fe2326-f5f7-46df-86e4-2196e8118682",
   "metadata": {},
   "outputs": [
    {
     "data": {
      "text/html": [
       "<div>\n",
       "<style scoped>\n",
       "    .dataframe tbody tr th:only-of-type {\n",
       "        vertical-align: middle;\n",
       "    }\n",
       "\n",
       "    .dataframe tbody tr th {\n",
       "        vertical-align: top;\n",
       "    }\n",
       "\n",
       "    .dataframe thead th {\n",
       "        text-align: right;\n",
       "    }\n",
       "</style>\n",
       "<table border=\"1\" class=\"dataframe\">\n",
       "  <thead>\n",
       "    <tr style=\"text-align: right;\">\n",
       "      <th></th>\n",
       "      <th>Sequence_ID</th>\n",
       "      <th>Position</th>\n",
       "      <th>k-mer</th>\n",
       "    </tr>\n",
       "  </thead>\n",
       "  <tbody>\n",
       "    <tr>\n",
       "      <th>0</th>\n",
       "      <td>0</td>\n",
       "      <td>0</td>\n",
       "      <td>AGTGCCATCGTGCGTATCCTTC</td>\n",
       "    </tr>\n",
       "    <tr>\n",
       "      <th>1</th>\n",
       "      <td>0</td>\n",
       "      <td>1</td>\n",
       "      <td>GTGCCATCGTGCGTATCCTTCA</td>\n",
       "    </tr>\n",
       "    <tr>\n",
       "      <th>2</th>\n",
       "      <td>0</td>\n",
       "      <td>2</td>\n",
       "      <td>TGCCATCGTGCGTATCCTTCAC</td>\n",
       "    </tr>\n",
       "    <tr>\n",
       "      <th>3</th>\n",
       "      <td>0</td>\n",
       "      <td>3</td>\n",
       "      <td>GCCATCGTGCGTATCCTTCACT</td>\n",
       "    </tr>\n",
       "    <tr>\n",
       "      <th>4</th>\n",
       "      <td>0</td>\n",
       "      <td>4</td>\n",
       "      <td>CCATCGTGCGTATCCTTCACTC</td>\n",
       "    </tr>\n",
       "    <tr>\n",
       "      <th>5</th>\n",
       "      <td>0</td>\n",
       "      <td>5</td>\n",
       "      <td>CATCGTGCGTATCCTTCACTCC</td>\n",
       "    </tr>\n",
       "    <tr>\n",
       "      <th>6</th>\n",
       "      <td>0</td>\n",
       "      <td>6</td>\n",
       "      <td>ATCGTGCGTATCCTTCACTCCT</td>\n",
       "    </tr>\n",
       "    <tr>\n",
       "      <th>7</th>\n",
       "      <td>0</td>\n",
       "      <td>7</td>\n",
       "      <td>TCGTGCGTATCCTTCACTCCTT</td>\n",
       "    </tr>\n",
       "    <tr>\n",
       "      <th>8</th>\n",
       "      <td>0</td>\n",
       "      <td>8</td>\n",
       "      <td>CGTGCGTATCCTTCACTCCTTG</td>\n",
       "    </tr>\n",
       "    <tr>\n",
       "      <th>9</th>\n",
       "      <td>0</td>\n",
       "      <td>9</td>\n",
       "      <td>GTGCGTATCCTTCACTCCTTGC</td>\n",
       "    </tr>\n",
       "    <tr>\n",
       "      <th>10</th>\n",
       "      <td>0</td>\n",
       "      <td>10</td>\n",
       "      <td>TGCGTATCCTTCACTCCTTGCT</td>\n",
       "    </tr>\n",
       "    <tr>\n",
       "      <th>11</th>\n",
       "      <td>0</td>\n",
       "      <td>11</td>\n",
       "      <td>GCGTATCCTTCACTCCTTGCTC</td>\n",
       "    </tr>\n",
       "    <tr>\n",
       "      <th>12</th>\n",
       "      <td>0</td>\n",
       "      <td>12</td>\n",
       "      <td>CGTATCCTTCACTCCTTGCTCG</td>\n",
       "    </tr>\n",
       "    <tr>\n",
       "      <th>13</th>\n",
       "      <td>0</td>\n",
       "      <td>13</td>\n",
       "      <td>GTATCCTTCACTCCTTGCTCGA</td>\n",
       "    </tr>\n",
       "    <tr>\n",
       "      <th>14</th>\n",
       "      <td>0</td>\n",
       "      <td>14</td>\n",
       "      <td>TATCCTTCACTCCTTGCTCGAC</td>\n",
       "    </tr>\n",
       "    <tr>\n",
       "      <th>15</th>\n",
       "      <td>0</td>\n",
       "      <td>15</td>\n",
       "      <td>ATCCTTCACTCCTTGCTCGACA</td>\n",
       "    </tr>\n",
       "    <tr>\n",
       "      <th>16</th>\n",
       "      <td>0</td>\n",
       "      <td>16</td>\n",
       "      <td>TCCTTCACTCCTTGCTCGACAA</td>\n",
       "    </tr>\n",
       "    <tr>\n",
       "      <th>17</th>\n",
       "      <td>0</td>\n",
       "      <td>17</td>\n",
       "      <td>CCTTCACTCCTTGCTCGACAAG</td>\n",
       "    </tr>\n",
       "    <tr>\n",
       "      <th>18</th>\n",
       "      <td>0</td>\n",
       "      <td>18</td>\n",
       "      <td>CTTCACTCCTTGCTCGACAAGA</td>\n",
       "    </tr>\n",
       "    <tr>\n",
       "      <th>19</th>\n",
       "      <td>0</td>\n",
       "      <td>19</td>\n",
       "      <td>TTCACTCCTTGCTCGACAAGAA</td>\n",
       "    </tr>\n",
       "  </tbody>\n",
       "</table>\n",
       "</div>"
      ],
      "text/plain": [
       "    Sequence_ID  Position                   k-mer\n",
       "0             0         0  AGTGCCATCGTGCGTATCCTTC\n",
       "1             0         1  GTGCCATCGTGCGTATCCTTCA\n",
       "2             0         2  TGCCATCGTGCGTATCCTTCAC\n",
       "3             0         3  GCCATCGTGCGTATCCTTCACT\n",
       "4             0         4  CCATCGTGCGTATCCTTCACTC\n",
       "5             0         5  CATCGTGCGTATCCTTCACTCC\n",
       "6             0         6  ATCGTGCGTATCCTTCACTCCT\n",
       "7             0         7  TCGTGCGTATCCTTCACTCCTT\n",
       "8             0         8  CGTGCGTATCCTTCACTCCTTG\n",
       "9             0         9  GTGCGTATCCTTCACTCCTTGC\n",
       "10            0        10  TGCGTATCCTTCACTCCTTGCT\n",
       "11            0        11  GCGTATCCTTCACTCCTTGCTC\n",
       "12            0        12  CGTATCCTTCACTCCTTGCTCG\n",
       "13            0        13  GTATCCTTCACTCCTTGCTCGA\n",
       "14            0        14  TATCCTTCACTCCTTGCTCGAC\n",
       "15            0        15  ATCCTTCACTCCTTGCTCGACA\n",
       "16            0        16  TCCTTCACTCCTTGCTCGACAA\n",
       "17            0        17  CCTTCACTCCTTGCTCGACAAG\n",
       "18            0        18  CTTCACTCCTTGCTCGACAAGA\n",
       "19            0        19  TTCACTCCTTGCTCGACAAGAA"
      ]
     },
     "execution_count": 191,
     "metadata": {},
     "output_type": "execute_result"
    }
   ],
   "source": [
    "# k = 22 : whole vr\n",
    "getkmers(data=dfr, k=22).head(20)"
   ]
  },
  {
   "cell_type": "code",
   "execution_count": null,
   "id": "dc6f5b12-7b35-4ed1-bc47-9a2568f63872",
   "metadata": {},
   "outputs": [],
   "source": []
  }
 ],
 "metadata": {
  "kernelspec": {
   "display_name": "Python 3 (ipykernel)",
   "language": "python",
   "name": "python3"
  },
  "language_info": {
   "codemirror_mode": {
    "name": "ipython",
    "version": 3
   },
   "file_extension": ".py",
   "mimetype": "text/x-python",
   "name": "python",
   "nbconvert_exporter": "python",
   "pygments_lexer": "ipython3",
   "version": "3.11.5"
  }
 },
 "nbformat": 4,
 "nbformat_minor": 5
}
