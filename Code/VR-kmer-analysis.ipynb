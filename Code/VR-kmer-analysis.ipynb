{
 "cells": [
  {
   "cell_type": "markdown",
   "id": "c3d7463c-71f4-4ea5-aedb-6d3fa376b072",
   "metadata": {},
   "source": [
    "# Sequence Level Features and Analysis"
   ]
  },
  {
   "cell_type": "code",
   "execution_count": 506,
   "id": "4742c9f4-89fa-49da-a45e-fba4dd519c80",
   "metadata": {},
   "outputs": [],
   "source": [
    "import pandas as pd\n",
    "import numpy as np\n",
    "import matplotlib.pyplot as plt\n",
    "from collections import Counter\n",
    "from scipy.stats import ttest_1samp, poisson\n",
    "from Bio import pairwise2\n",
    "from Bio.pairwise2 import format_alignment\n",
    "\n",
    "\n",
    "\n",
    "pd.set_option('display.float_format', '{:.10e}'.format)\n",
    "pd.set_option('display.max_colwidth', 30)"
   ]
  },
  {
   "cell_type": "code",
   "execution_count": 507,
   "id": "8a9408c5-ef61-4812-8752-32ebbc7049b1",
   "metadata": {},
   "outputs": [
    {
     "data": {
      "text/html": [
       "<div>\n",
       "<style scoped>\n",
       "    .dataframe tbody tr th:only-of-type {\n",
       "        vertical-align: middle;\n",
       "    }\n",
       "\n",
       "    .dataframe tbody tr th {\n",
       "        vertical-align: top;\n",
       "    }\n",
       "\n",
       "    .dataframe thead th {\n",
       "        text-align: right;\n",
       "    }\n",
       "</style>\n",
       "<table border=\"1\" class=\"dataframe\">\n",
       "  <thead>\n",
       "    <tr style=\"text-align: right;\">\n",
       "      <th></th>\n",
       "      <th>Sequence</th>\n",
       "      <th>Copy Num</th>\n",
       "      <th>Length</th>\n",
       "    </tr>\n",
       "  </thead>\n",
       "  <tbody>\n",
       "    <tr>\n",
       "      <th>0</th>\n",
       "      <td>AGTGCCATCGTGCGTATCCTTCACTC...</td>\n",
       "      <td>91</td>\n",
       "      <td>98</td>\n",
       "    </tr>\n",
       "    <tr>\n",
       "      <th>1</th>\n",
       "      <td>AGTGCCATCGTGCGTATCCTTCACGT...</td>\n",
       "      <td>86</td>\n",
       "      <td>98</td>\n",
       "    </tr>\n",
       "    <tr>\n",
       "      <th>2</th>\n",
       "      <td>AGTGCCATCGTGCGTATCCTGAACAT...</td>\n",
       "      <td>83</td>\n",
       "      <td>98</td>\n",
       "    </tr>\n",
       "    <tr>\n",
       "      <th>3</th>\n",
       "      <td>AGTGCCATCGTGCGTATCCCGCTCCG...</td>\n",
       "      <td>80</td>\n",
       "      <td>98</td>\n",
       "    </tr>\n",
       "    <tr>\n",
       "      <th>4</th>\n",
       "      <td>AGTGCCATCGTGCGTATCCTGAACAT...</td>\n",
       "      <td>78</td>\n",
       "      <td>98</td>\n",
       "    </tr>\n",
       "  </tbody>\n",
       "</table>\n",
       "</div>"
      ],
      "text/plain": [
       "                        Sequence  Copy Num  Length\n",
       "0  AGTGCCATCGTGCGTATCCTTCACTC...        91      98\n",
       "1  AGTGCCATCGTGCGTATCCTTCACGT...        86      98\n",
       "2  AGTGCCATCGTGCGTATCCTGAACAT...        83      98\n",
       "3  AGTGCCATCGTGCGTATCCCGCTCCG...        80      98\n",
       "4  AGTGCCATCGTGCGTATCCTGAACAT...        78      98"
      ]
     },
     "execution_count": 507,
     "metadata": {},
     "output_type": "execute_result"
    }
   ],
   "source": [
    "csv_file = \"../Data/R12-clean.csv\"\n",
    "df = pd.read_csv(csv_file)\n",
    "df.head(5)"
   ]
  },
  {
   "cell_type": "markdown",
   "id": "edd2ac60-3a88-41c8-8c04-91327b280a54",
   "metadata": {},
   "source": [
    "### 1. TODO Frequency and alignment of full sequences  \n",
    "Previously, I was only able to perform limited, basic alignments of the R12 pool and found no sequence convergence. However, I will now revisit this full sequence frequency and alignment with more flexible tools to see if anything pops out."
   ]
  },
  {
   "cell_type": "markdown",
   "id": "aad81bc5-715b-461a-8323-68f6fb376f13",
   "metadata": {},
   "source": [
    "### 2. Search for motifs in variable regions.  \n",
    "We previously considered a naive kmer search but there were too many false positives because high frequency kmers were arising from CRs. We pursue a new approach where we look for motifs only in the VRs and later add back potential overhangs into the CRs when we apply downstream secondary structure analysis to confirm active motifs.  \n",
    "\n",
    "**Designed constant regions of selection library:**  \n",
    "The following describes the template of the starting selection library:\n",
    "\n",
    "| Region | Sequence | Length |\n",
    "| ------- | -------| -------- |\n",
    "|forward primer | AAGTGCCATCGTGCGTATCC | 20 bp|\n",
    "|variable region 1 | (N)^22 | 22 bp |\n",
    "|mipomersen loading | GCGAAGCAGACTGAGGC | 17 bp |\n",
    "|variable region 2 | (N)^21 | 21 bp |\n",
    "|reverse primer | GTAGACTGGAGACACGACGA | 20 bp|\n",
    "\n",
    "Boundary positions are approximate because of PCR mutations/sequencing errors.  For sequences of length 98, the orignal library size (nb: 100bp but NGS discards first and last reads), we estimate the boundary positions but allow a tuneable buffer of a few bps to account for the errors.  For some sequences of non-standard length, we perform pairwise alignment with CRs to more accurately determine the boundary positions."
   ]
  },
  {
   "cell_type": "code",
   "execution_count": 508,
   "id": "9a81039d-662c-439f-b351-3289d6ddb7fd",
   "metadata": {},
   "outputs": [],
   "source": [
    "# Constants\n",
    "designed_FP =\"AAGTGCCATCGTGCGTATCC\"\n",
    "FP = designed_FP[1:]\n",
    "MIP = \"GCGAAGCAGACTGAGGC\"\n",
    "designed_RP = \"GTAGACTGGAGACACGACGA\"\n",
    "RP = designed_RP[:-1]"
   ]
  },
  {
   "cell_type": "code",
   "execution_count": 509,
   "id": "cde54df3-a22a-4dcc-b075-071b8056998f",
   "metadata": {},
   "outputs": [],
   "source": [
    "PADNA_1 = df.iloc[0, 0]"
   ]
  },
  {
   "cell_type": "markdown",
   "id": "9481f860-1883-4186-aeaf-918257526d28",
   "metadata": {},
   "source": [
    "#### a. Define boundary estimates of variable regions\n",
    "PADNA_1 is an example of an ideal sequence, so we use it to get our boundary estimates."
   ]
  },
  {
   "cell_type": "code",
   "execution_count": 510,
   "id": "829c0d78-c4ac-4fc8-9c00-89cdb1e6ee5d",
   "metadata": {},
   "outputs": [
    {
     "name": "stdout",
     "output_type": "stream",
     "text": [
      "Boundary estimates\n",
      "----------------\n",
      "Forward primer: [0, 19]\n",
      "          VR 1: [19, 41]\n",
      "    Mipomersen: [41, 58]\n",
      "          VR 2: [58, 79]\n",
      "Reverse primer: [79, 98]\n"
     ]
    },
    {
     "data": {
      "text/plain": [
       "True"
      ]
     },
     "execution_count": 510,
     "metadata": {},
     "output_type": "execute_result"
    }
   ],
   "source": [
    "FP_start = PADNA_1.index(FP)\n",
    "FP_end = FP_start + len(FP)\n",
    "\n",
    "MIP_start = PADNA_1.index(MIP)\n",
    "MIP_end = MIP_start + len(MIP)\n",
    "\n",
    "RP_start = PADNA_1.index(RP)\n",
    "RP_end = RP_start + len(RP)\n",
    "\n",
    "# Variable region estimates\n",
    "V1_start = FP_end\n",
    "V1_end = MIP_start\n",
    "\n",
    "V2_start = MIP_end\n",
    "V2_end = RP_start\n",
    "\n",
    "print(f'Boundary estimates\\n----------------\\nForward primer: [{FP_start}, {FP_end}]\\n          VR 1: [{V1_start}, {V1_end}]\\n    Mipomersen: [{MIP_start}, {MIP_end}]\\n          VR 2: [{V2_start}, {V2_end}]\\nReverse primer: [{RP_start}, {RP_end}]')\n",
    "\n",
    "PADNA_1[FP_start:FP_end] == FP\n",
    "PADNA_1[MIP_start:MIP_end] == MIP\n",
    "PADNA_1[RP_start:RP_end] == RP"
   ]
  },
  {
   "cell_type": "code",
   "execution_count": 511,
   "id": "f41c9b5b-b966-4752-9f0b-9780975e743d",
   "metadata": {},
   "outputs": [
    {
     "name": "stdout",
     "output_type": "stream",
     "text": [
      "AGTGCCATCGTGCGTATCC|TTCACTCCTTGCTCGACAAGAA|GCGAAGCAGACTGAGGC|GTCCGATGGTCTAATTCTTCA|GTAGACTGGAGACACGACG\n",
      "\n",
      "Variable Regions\n",
      "V1: TTCACTCCTTGCTCGACAAGAA\n",
      "V2: GTCCGATGGTCTAATTCTTCA\n"
     ]
    }
   ],
   "source": [
    "V1 = PADNA_1[V1_start:V1_end]\n",
    "V2 = PADNA_1[V2_start:V2_end]\n",
    "\n",
    "# Visual check on VR boundaries\n",
    "print('AGTGCCATCGTGCGTATCC|TTCACTCCTTGCTCGACAAGAA|GCGAAGCAGACTGAGGC|GTCCGATGGTCTAATTCTTCA|GTAGACTGGAGACACGACG')\n",
    "\n",
    "print('\\nVariable Regions')\n",
    "print(f'V1: {V1}\\nV2: {V2}')"
   ]
  },
  {
   "cell_type": "code",
   "execution_count": 512,
   "id": "0f629da6-3d96-4c9e-a736-d33edb720c79",
   "metadata": {},
   "outputs": [
    {
     "name": "stdout",
     "output_type": "stream",
     "text": [
      "22\n",
      "21\n"
     ]
    }
   ],
   "source": [
    "print(len(V1))\n",
    "print(len(V2))"
   ]
  },
  {
   "cell_type": "markdown",
   "id": "24157f78-e9f0-4431-b4d3-20ffe255776c",
   "metadata": {},
   "source": [
    "#### b. Extract Variable Regions from subset of regular length (98 bp) sequences"
   ]
  },
  {
   "cell_type": "code",
   "execution_count": 513,
   "id": "06570924-47d2-4730-b723-b88d02205560",
   "metadata": {},
   "outputs": [],
   "source": [
    "# Bin sequences into regular 98 bp length, short, and long\n",
    "dfr = df[df['Length'] == 98].copy()\n",
    "dfl = df[df['Length'] > 98].copy()\n",
    "dfs = df[df['Length'] < 98].copy()"
   ]
  },
  {
   "cell_type": "code",
   "execution_count": 514,
   "id": "057c5296-56e4-4e22-b2f7-cf5888d699ac",
   "metadata": {},
   "outputs": [
    {
     "data": {
      "text/html": [
       "<div>\n",
       "<style scoped>\n",
       "    .dataframe tbody tr th:only-of-type {\n",
       "        vertical-align: middle;\n",
       "    }\n",
       "\n",
       "    .dataframe tbody tr th {\n",
       "        vertical-align: top;\n",
       "    }\n",
       "\n",
       "    .dataframe thead th {\n",
       "        text-align: right;\n",
       "    }\n",
       "</style>\n",
       "<table border=\"1\" class=\"dataframe\">\n",
       "  <thead>\n",
       "    <tr style=\"text-align: right;\">\n",
       "      <th></th>\n",
       "      <th>Sequence</th>\n",
       "      <th>Copy Num</th>\n",
       "      <th>Length</th>\n",
       "      <th>VR 1</th>\n",
       "      <th>VR 2</th>\n",
       "    </tr>\n",
       "  </thead>\n",
       "  <tbody>\n",
       "    <tr>\n",
       "      <th>0</th>\n",
       "      <td>AGTGCCATCGTGCGTATCCTTCACTC...</td>\n",
       "      <td>91</td>\n",
       "      <td>98</td>\n",
       "      <td>CCTTCACTCCTTGCTCGACAAGAAGC</td>\n",
       "      <td>GCGTCCGATGGTCTAATTCTTCAGT</td>\n",
       "    </tr>\n",
       "    <tr>\n",
       "      <th>1</th>\n",
       "      <td>AGTGCCATCGTGCGTATCCTTCACGT...</td>\n",
       "      <td>86</td>\n",
       "      <td>98</td>\n",
       "      <td>CCTTCACGTTTGTTCTACAAAAGCGA</td>\n",
       "      <td>GCGTGCCCTGTCGTGCACCACGGGT</td>\n",
       "    </tr>\n",
       "    <tr>\n",
       "      <th>2</th>\n",
       "      <td>AGTGCCATCGTGCGTATCCTGAACAT...</td>\n",
       "      <td>83</td>\n",
       "      <td>98</td>\n",
       "      <td>CCTGAACATTGACGTGTAGTCAATGC</td>\n",
       "      <td>GCGCCTCTCTAGTTTGACCTTGGGT</td>\n",
       "    </tr>\n",
       "    <tr>\n",
       "      <th>3</th>\n",
       "      <td>AGTGCCATCGTGCGTATCCCGCTCCG...</td>\n",
       "      <td>80</td>\n",
       "      <td>98</td>\n",
       "      <td>CCCGCTCCGCTAATATCTATGTTAGC</td>\n",
       "      <td>GCGCGATGATGTCTACACTGACGGT</td>\n",
       "    </tr>\n",
       "    <tr>\n",
       "      <th>4</th>\n",
       "      <td>AGTGCCATCGTGCGTATCCTGAACAT...</td>\n",
       "      <td>78</td>\n",
       "      <td>98</td>\n",
       "      <td>CCTGAACATAGACGTTTAGTCTATGC</td>\n",
       "      <td>GCGCGTGGATAGCCTATTTTCGGGT</td>\n",
       "    </tr>\n",
       "  </tbody>\n",
       "</table>\n",
       "</div>"
      ],
      "text/plain": [
       "                        Sequence  Copy Num  Length  \\\n",
       "0  AGTGCCATCGTGCGTATCCTTCACTC...        91      98   \n",
       "1  AGTGCCATCGTGCGTATCCTTCACGT...        86      98   \n",
       "2  AGTGCCATCGTGCGTATCCTGAACAT...        83      98   \n",
       "3  AGTGCCATCGTGCGTATCCCGCTCCG...        80      98   \n",
       "4  AGTGCCATCGTGCGTATCCTGAACAT...        78      98   \n",
       "\n",
       "                         VR 1                       VR 2  \n",
       "0  CCTTCACTCCTTGCTCGACAAGAAGC  GCGTCCGATGGTCTAATTCTTCAGT  \n",
       "1  CCTTCACGTTTGTTCTACAAAAGCGA  GCGTGCCCTGTCGTGCACCACGGGT  \n",
       "2  CCTGAACATTGACGTGTAGTCAATGC  GCGCCTCTCTAGTTTGACCTTGGGT  \n",
       "3  CCCGCTCCGCTAATATCTATGTTAGC  GCGCGATGATGTCTACACTGACGGT  \n",
       "4  CCTGAACATAGACGTTTAGTCTATGC  GCGCGTGGATAGCCTATTTTCGGGT  "
      ]
     },
     "execution_count": 514,
     "metadata": {},
     "output_type": "execute_result"
    }
   ],
   "source": [
    "buffer = 2 # set buffer for expanded boundary to account for library mutation\n",
    "\n",
    "v1_st = V1_start - buffer\n",
    "v1_end = V1_end + buffer\n",
    "\n",
    "v2_st = V2_start - buffer\n",
    "v2_end = V2_end + buffer\n",
    "\n",
    "# Make two new cols for v1 an v2\n",
    "dfr['VR 1'] = dfr['Sequence'].str[(v1_st):(v1_end)]\n",
    "\n",
    "dfr['VR 2'] = dfr['Sequence'].str[(v2_st):(v2_end)]\n",
    "dfr.head()"
   ]
  },
  {
   "cell_type": "code",
   "execution_count": 515,
   "id": "5380ca76-8e91-4b01-8f70-2a4cbedec704",
   "metadata": {},
   "outputs": [
    {
     "name": "stdout",
     "output_type": "stream",
     "text": [
      "VR 1\n",
      "26    9893\n",
      "Name: count, dtype: int64\n",
      "VR 2\n",
      "25    9893\n",
      "Name: count, dtype: int64\n"
     ]
    }
   ],
   "source": [
    "# Confirm the length of extracted VRs\n",
    "# Should be VR1: 22 + 4 = 26\n",
    "#           VR2: 21 + 4 = 25\n",
    "print(dfr['VR 1'].apply(len).value_counts())\n",
    "print(dfr['VR 2'].apply(len).value_counts())"
   ]
  },
  {
   "cell_type": "code",
   "execution_count": 516,
   "id": "49ca201d-cfeb-4cc9-a57b-07b663aeb51b",
   "metadata": {},
   "outputs": [
    {
     "name": "stdout",
     "output_type": "stream",
     "text": [
      "   ID                    Sequence\n",
      "0   0  CCTTCACTCCTTGCTCGACAAGAAGC\n",
      "1   1  CCTTCACGTTTGTTCTACAAAAGCGA\n",
      "2   2  CCTGAACATTGACGTGTAGTCAATGC\n",
      "3   3  CCCGCTCCGCTAATATCTATGTTAGC\n",
      "4   4  CCTGAACATAGACGTTTAGTCTATGC           ID                   Sequence\n",
      "19781  10378  CATGTCTCGCACCTCAAACGTTTGT\n",
      "19782  10379  GCGCGGGCCCTTTTAGCTTTCAGGT\n",
      "19783  10380  CGCGCCCCCTAGGCGTCGGTCACGT\n",
      "19784  10381  GCTTGCACGCGACGGCATCGGCGGT\n",
      "19785  10382  CGCGCTACTCCTGCTGAACTCTAGT\n"
     ]
    }
   ],
   "source": [
    "# make a sequence ID column\n",
    "seqIDs = dfr.index.tolist()\n",
    "seqIDs.extend(seqIDs)\n",
    "\n",
    "# make a new df with VRs combined for freq analysis\n",
    "vdf = pd.DataFrame({\n",
    "    'ID': seqIDs,\n",
    "    'Sequence': pd.concat([dfr['VR 1'], dfr['VR 2']])\n",
    "}).reset_index(drop=True)\n",
    "\n",
    "print(vdf.head(), vdf.tail())"
   ]
  },
  {
   "cell_type": "markdown",
   "id": "631dc9f6-b021-476d-8de7-d972688a04e1",
   "metadata": {},
   "source": [
    "#### c. Simple frequency analysis of VRs"
   ]
  },
  {
   "cell_type": "code",
   "execution_count": 517,
   "id": "65172ddd-f542-4c1f-a053-b7d94814d32b",
   "metadata": {},
   "outputs": [
    {
     "data": {
      "text/plain": [
       "Sequence\n",
       "CCGCTTCACTCAGTAAGTAATGAGCG    2\n",
       "CCTACTTCACTACCATCTATGGCAGC    2\n",
       "CCTTCACTCCTTGCTCGACAAGAAGC    1\n",
       "CGCGCCTTTTGTCGTACTTCAAGGT     1\n",
       "CGCGTATCTATCCTAAGCTACTCGT     1\n",
       "                             ..\n",
       "CCTTCGCAGAATTAAAGTAATCCTGC    1\n",
       "CCTTCACCTGTACTTTAGTTATAGGC    1\n",
       "CCGAGCAAAGCGCCGAATTCCCGGTG    1\n",
       "CCTTATTGTGCCAACTGCCTACAGGG    1\n",
       "CGCGCTACTCCTGCTGAACTCTAGT     1\n",
       "Name: count, Length: 19784, dtype: int64"
      ]
     },
     "execution_count": 517,
     "metadata": {},
     "output_type": "execute_result"
    }
   ],
   "source": [
    "counts = vdf['Sequence'].value_counts()\n",
    "counts"
   ]
  },
  {
   "cell_type": "code",
   "execution_count": 518,
   "id": "f363eb3e-71a2-4ade-b910-57b5864be557",
   "metadata": {},
   "outputs": [
    {
     "data": {
      "image/png": "[encoded data removed]",
      "text/plain": [
       "<Figure size 1000x600 with 1 Axes>"
      ]
     },
     "metadata": {},
     "output_type": "display_data"
    }
   ],
   "source": [
    "counts.plot(kind='hist', color='indianred', figsize=(10,6), bins = 2)\n",
    "plt.yscale('log')\n",
    "plt.ylabel(None)\n",
    "plt.title('Frequency of total variable regions')\n",
    "plt.show()"
   ]
  },
  {
   "cell_type": "code",
   "execution_count": 519,
   "id": "ae4fb868-1b01-4dfc-976f-879fa1323ba0",
   "metadata": {},
   "outputs": [
    {
     "data": {
      "text/html": [
       "<div>\n",
       "<style scoped>\n",
       "    .dataframe tbody tr th:only-of-type {\n",
       "        vertical-align: middle;\n",
       "    }\n",
       "\n",
       "    .dataframe tbody tr th {\n",
       "        vertical-align: top;\n",
       "    }\n",
       "\n",
       "    .dataframe thead th {\n",
       "        text-align: right;\n",
       "    }\n",
       "</style>\n",
       "<table border=\"1\" class=\"dataframe\">\n",
       "  <thead>\n",
       "    <tr style=\"text-align: right;\">\n",
       "      <th></th>\n",
       "      <th>ID</th>\n",
       "      <th>Sequence</th>\n",
       "    </tr>\n",
       "  </thead>\n",
       "  <tbody>\n",
       "    <tr>\n",
       "      <th>915</th>\n",
       "      <td>954</td>\n",
       "      <td>CCGCTTCACTCAGTAAGTAATGAGCG</td>\n",
       "    </tr>\n",
       "    <tr>\n",
       "      <th>1735</th>\n",
       "      <td>1812</td>\n",
       "      <td>CCGCTTCACTCAGTAAGTAATGAGCG</td>\n",
       "    </tr>\n",
       "    <tr>\n",
       "      <th>4705</th>\n",
       "      <td>4943</td>\n",
       "      <td>CCTACTTCACTACCATCTATGGCAGC</td>\n",
       "    </tr>\n",
       "    <tr>\n",
       "      <th>8012</th>\n",
       "      <td>8417</td>\n",
       "      <td>CCTACTTCACTACCATCTATGGCAGC</td>\n",
       "    </tr>\n",
       "  </tbody>\n",
       "</table>\n",
       "</div>"
      ],
      "text/plain": [
       "        ID                    Sequence\n",
       "915    954  CCGCTTCACTCAGTAAGTAATGAGCG\n",
       "1735  1812  CCGCTTCACTCAGTAAGTAATGAGCG\n",
       "4705  4943  CCTACTTCACTACCATCTATGGCAGC\n",
       "8012  8417  CCTACTTCACTACCATCTATGGCAGC"
      ]
     },
     "execution_count": 519,
     "metadata": {},
     "output_type": "execute_result"
    }
   ],
   "source": [
    "vdf[vdf['Sequence'].isin(['CCGCTTCACTCAGTAAGTAATGAGCG', 'CCTACTTCACTACCATCTATGGCAGC'])]"
   ]
  },
  {
   "cell_type": "markdown",
   "id": "f878ac84-8091-4166-bad6-3e2271af181b",
   "metadata": {},
   "source": [
    "#### Duplicate VRs\n",
    "| Sequence IDs | Sequence | Frequency |\n",
    "| --- | -------| ----|\n",
    "| 954, 1812 | CCGCTTCACTCAGTAAGTAATGAGCG | 2 |\n",
    "| 4943, 8417 | CCTACTTCACTACCATCTATGGCAGC | 2 |  \n",
    "\n",
    "We find that total variable regions had two sequences with a duplicate. We mark these as important for further study.  For the rest of the dataset, we will pursue clustering techniques instead of alignment to find potential similarities."
   ]
  },
  {
   "cell_type": "markdown",
   "id": "db5deb21-7918-49d0-8925-e90eef4aa7d6",
   "metadata": {},
   "source": [
    "#### d. Calculate observed/expected frequency of sequences to confirm enrichment"
   ]
  },
  {
   "cell_type": "code",
   "execution_count": 520,
   "id": "562dfb9b-0c91-4c08-a799-de2d7b01bf71",
   "metadata": {},
   "outputs": [
    {
     "name": "stdout",
     "output_type": "stream",
     "text": [
      "      Copy Num  Length\n",
      "954         23      98\n",
      "1812        19      98\n",
      "      Copy Num  Length\n",
      "4943        13      98\n",
      "8417        10      98\n"
     ]
    }
   ],
   "source": [
    "# Get copy numbers of the duplicated VRs\n",
    "print(df[df['Sequence'].str.contains('CCGCTTCACTCAGTAAGTAATGAGCG')].drop('Sequence', axis=1))\n",
    "\n",
    "print(df[df['Sequence'].str.contains('CCTACTTCACTACCATCTATGGCAGC')].drop('Sequence', axis=1))"
   ]
  },
  {
   "cell_type": "markdown",
   "id": "152fcb3b-a5d5-4e26-b495-8a48f025c8ab",
   "metadata": {},
   "source": [
    "Seq 954,1812 had copy numbers 23 and 19 respectively.  \n",
    "Seq 4943, 8417 had copy numbers 13 and 10 respectively."
   ]
  },
  {
   "cell_type": "code",
   "execution_count": 521,
   "id": "fc15ff56-3552-42dd-9900-2d0ae43a55db",
   "metadata": {},
   "outputs": [
    {
     "name": "stdout",
     "output_type": "stream",
     "text": [
      "26\n",
      "26\n"
     ]
    }
   ],
   "source": [
    "\n",
    "print(len('CCGCTTCACTCAGTAAGTAATGAGCG'))\n",
    "print(len('CCTACTTCACTACCATCTATGGCAGC'))"
   ]
  },
  {
   "cell_type": "markdown",
   "id": "846522c3-af70-4169-baac-0503617243a5",
   "metadata": {},
   "source": [
    "Both of the duplicates came from VR1 which has a length of 22."
   ]
  },
  {
   "cell_type": "code",
   "execution_count": 522,
   "id": "bee51970-98e0-4b7a-bc94-233fcd33c016",
   "metadata": {},
   "outputs": [
    {
     "name": "stdout",
     "output_type": "stream",
     "text": [
      "5.684342e-14\n",
      "Expected Count of kmer: 3.410605e-07\n"
     ]
    }
   ],
   "source": [
    "# Assess background probability\n",
    "p_vr1 = 1/4**22\n",
    "print(f'{p_vr1:2e}')\n",
    "\n",
    "# Calculate expected occurrences in 6e6 reads\n",
    "expected = p_vr1 * 6e6\n",
    "print(f'Expected Count of kmer: {expected:2e}')"
   ]
  },
  {
   "cell_type": "markdown",
   "id": "a4d59431-5b46-4215-95dd-527c8770b9c8",
   "metadata": {},
   "source": [
    "Expected count of the 22mer is << observed counts, which suggests the observed frequency is signficant. We need to look more closely at these newly found 26mer motifs because the sequences do not seem to have identical buffer regions. "
   ]
  },
  {
   "cell_type": "code",
   "execution_count": 523,
   "id": "b6a80fee-2d09-40fb-8ca2-e49ef6e8fdff",
   "metadata": {
    "scrolled": true
   },
   "outputs": [],
   "source": [
    "from Bio import pairwise2\n",
    "from Bio.pairwise2 import format_alignment\n",
    "\n",
    "def align(seq1, seq2):\n",
    "    alignments = pairwise2.align.localms(seq1, seq2, 2, -1, -2, -0.5)\n",
    "    print(format_alignment(*alignments[0]))"
   ]
  },
  {
   "cell_type": "code",
   "execution_count": 524,
   "id": "17d817f9-b5b3-4990-8657-98afb425c0d0",
   "metadata": {},
   "outputs": [
    {
     "data": {
      "text/plain": [
       "'AGTGCCATCGTGCGTATCCGCTTCACTCAGTAAGTAATGAGCGAAGCAGACTGAGGCGTATGTCCACTCCATCACCCGGGTAGACTGGAGACACGACG'"
      ]
     },
     "execution_count": 524,
     "metadata": {},
     "output_type": "execute_result"
    }
   ],
   "source": [
    "df.iloc[954, 0]"
   ]
  },
  {
   "cell_type": "code",
   "execution_count": 525,
   "id": "a9f80f6e-5e56-4508-90ab-e2f0161461d8",
   "metadata": {
    "scrolled": true
   },
   "outputs": [
    {
     "name": "stdout",
     "output_type": "stream",
     "text": [
      "1 AGTGCCATCGTGCGTATCC\n",
      "  |||||||||||||||||||\n",
      "1 AGTGCCATCGTGCGTATCC\n",
      "  Score=38\n",
      "\n",
      "41 GCGAAGCAGACTGAGGC\n",
      "   |||||||||||||||||\n",
      " 1 GCGAAGCAGACTGAGGC\n",
      "  Score=34\n",
      "\n",
      "80 GTAGACTGGAGACACGACG\n",
      "   |||||||||||||||||||\n",
      " 1 GTAGACTGGAGACACGACG\n",
      "  Score=38\n",
      "\n",
      "-------------------------\n",
      "1 AGTGCCATCGTGCGTATCC\n",
      "  |||||||||||||||||||\n",
      "1 AGTGCCATCGTGCGTATCC\n",
      "  Score=38\n",
      "\n",
      "41 GCGAAGCAGACTGAGGC\n",
      "   |||||||||||||||||\n",
      " 1 GCGAAGCAGACTGAGGC\n",
      "  Score=34\n",
      "\n",
      "80 GTAGACTGGAGACACGACG\n",
      "   |||||||||||||||||||\n",
      " 1 GTAGACTGGAGACACGACG\n",
      "  Score=38\n",
      "\n",
      "-------------------------\n",
      "1 AGTGCCATCGTGCGTATCC\n",
      "  |||||||||||||||||||\n",
      "1 AGTGCCATCGTGCGTATCC\n",
      "  Score=38\n",
      "\n",
      "42 GCGAAGCAGACTGAGGC\n",
      "   |||||||||||||||||\n",
      " 1 GCGAAGCAGACTGAGGC\n",
      "  Score=34\n",
      "\n",
      "80 GTAGACTGGAGACACGACG\n",
      "   |||||||||||||||||||\n",
      " 1 GTAGACTGGAGACACGACG\n",
      "  Score=38\n",
      "\n",
      "-------------------------\n",
      "1 AGTGCCATCGTGCGTATCC\n",
      "  |||||||||||||||||||\n",
      "1 AGTGCCATCGTGCGTATCC\n",
      "  Score=38\n",
      "\n",
      "42 GCGAAGCAGACTGAGGC\n",
      "   |||||||||||||||||\n",
      " 1 GCGAAGCAGACTGAGGC\n",
      "  Score=34\n",
      "\n",
      "80 GTAGACTGGAGACACGACG\n",
      "   |||||||||||||||||||\n",
      " 1 GTAGACTGGAGACACGACG\n",
      "  Score=38\n",
      "\n",
      "-------------------------\n"
     ]
    }
   ],
   "source": [
    "SEQ954 = df.iloc[954, 0]\n",
    "SEQ1812 = df.iloc[1812, 0]\n",
    "SEQ4943 = df.iloc[4943, 0]\n",
    "SEQ8417 = df.iloc[8417, 0]\n",
    "\n",
    "for s in [SEQ954, SEQ1812, SEQ4943, SEQ8417]:\n",
    "    for _ in [FP, MIP, RP]:\n",
    "        align(s, _)\n",
    "    print('-------------------------')"
   ]
  },
  {
   "cell_type": "code",
   "execution_count": 526,
   "id": "23b4443e-9b10-4ccd-8cbb-de23c8c328f6",
   "metadata": {},
   "outputs": [],
   "source": [
    "# 954 CC|GCTTCACTCAGTAAGTAATGAG|CG"
   ]
  },
  {
   "cell_type": "code",
   "execution_count": 527,
   "id": "540b0c2d-ea62-4796-87fb-538591d911a3",
   "metadata": {},
   "outputs": [
    {
     "name": "stdout",
     "output_type": "stream",
     "text": [
      "AGTGCCATCGTGCGTAT|CCGCTTCACTCAGTAAGTAATGAGCG|AAGCAGACTGAGG|CGTATGTCCACTCCATCACCCGGGT|AGACTGGAGACACGACG\n"
     ]
    }
   ],
   "source": [
    "print(f'{SEQ954[:v1_st]}|{SEQ954[v1_st:v1_end]}|{SEQ954[v1_end:v2_st]}|{SEQ954[v2_st:v2_end]}|{SEQ954[v2_end:]}') # found that I sliced up the buffer zones a bit wrong but nbd"
   ]
  },
  {
   "cell_type": "code",
   "execution_count": 528,
   "id": "ccd4a5ba-0f84-4f4d-8184-6d012d3627bb",
   "metadata": {},
   "outputs": [
    {
     "data": {
      "text/plain": [
       "13"
      ]
     },
     "execution_count": 528,
     "metadata": {},
     "output_type": "execute_result"
    }
   ],
   "source": [
    "len(SEQ954[v1_end:v2_st])"
   ]
  },
  {
   "cell_type": "markdown",
   "id": "38e0ecc7-14fe-4a22-80e2-768bf14cc65f",
   "metadata": {},
   "source": [
    "#### e. Looking a bit closer at the duplicated whole VR motifs"
   ]
  },
  {
   "cell_type": "code",
   "execution_count": 529,
   "id": "e602e8f2-8835-4d63-bd28-c93be1a90362",
   "metadata": {},
   "outputs": [
    {
     "name": "stdout",
     "output_type": "stream",
     "text": [
      "AGTGCCATCGTGCGTATCCGCTTCACTCAGTAAGTAATGAGCGAAGCAGACTGAGGCGTATGTCCACTCCATCACCCGGGTAGACTGGAGACACGACG\n",
      "|||||||||||||||||||||||||||||||||||||||||||||||||||||||||||||||||||||||||||||.||||||||||||||||||||\n",
      "AGTGCCATCGTGCGTATCCGCTTCACTCAGTAAGTAATGAGCGAAGCAGACTGAGGCGTATGTCCACTCCATCACCCTGGTAGACTGGAGACACGACG\n",
      "  Score=193\n",
      "\n"
     ]
    }
   ],
   "source": [
    "align(SEQ954, SEQ1812)"
   ]
  },
  {
   "cell_type": "code",
   "execution_count": 530,
   "id": "0ff3fa55-194b-483a-92b1-507c0bae336f",
   "metadata": {},
   "outputs": [
    {
     "name": "stdout",
     "output_type": "stream",
     "text": [
      "AGTGCCATCGTGCGTATCCTACTTCACTACCATCTATGGCAGCGAAGCAGACTGAGGCGTGTCATGTTTATACATAATCGTAGACTGGAGACACGACG\n",
      "||||||||||||||||||||||||||||||||||||||||||||||||||||||||||||||||.|||||||||||||||||||||||||||||||||\n",
      "AGTGCCATCGTGCGTATCCTACTTCACTACCATCTATGGCAGCGAAGCAGACTGAGGCGTGTCACGTTTATACATAATCGTAGACTGGAGACACGACG\n",
      "  Score=193\n",
      "\n"
     ]
    }
   ],
   "source": [
    "align(SEQ4943, SEQ8417)"
   ]
  },
  {
   "cell_type": "markdown",
   "id": "92e0c1e6-77f8-4831-b6f9-88dfaae04013",
   "metadata": {},
   "source": [
    "Seq954 and 1812 are duplicates with a single mismatch in VR2, suggesting a sequence error. Same for SEQ4943 and SEQ8417.  Which means the total VR2 21mers are the same as well and should add to duplicate motif count."
   ]
  },
  {
   "cell_type": "code",
   "execution_count": 531,
   "id": "2ea59f35-92d2-44e5-8c7b-ada06a6e5375",
   "metadata": {},
   "outputs": [
    {
     "name": "stdout",
     "output_type": "stream",
     "text": [
      "1 CCG-CTTCACTCAGTAAGTAATG--AGC\n",
      "  ||. ||||||| |..|..| |||  |||\n",
      "1 CCTACTTCACT-ACCATCT-ATGGCAGC\n",
      "  Score=22.5\n",
      "\n",
      "1 CGT---ATGTCCACTCCATCACCCGGGT\n",
      "  |||   ||||..| |.|||.|.|   ||\n",
      "2 CGTGTCATGTTTA-TACATAATC---GT\n",
      "  Score=19\n",
      "\n"
     ]
    }
   ],
   "source": [
    "align(SEQ954[v1_st:v1_end], SEQ4943[v1_st:v1_end])\n",
    "\n",
    "align(SEQ954[v2_st:v2_end], SEQ4943[v2_st:v2_end])"
   ]
  },
  {
   "cell_type": "markdown",
   "id": "afc6d5f5-7d75-4f77-8203-8849749ae572",
   "metadata": {},
   "source": [
    "No alignment between VRs, so they are distinct."
   ]
  },
  {
   "cell_type": "markdown",
   "id": "d1ee5f5e-a3a6-4978-b3cd-1eb2b1353825",
   "metadata": {},
   "source": [
    "### 3. Sub-total variable regions analysis: \n",
    "#### kmer extraction from buffered variable regions"
   ]
  },
  {
   "cell_type": "code",
   "execution_count": 532,
   "id": "4a20b93e-1bc2-4289-8153-1d59acf2fabe",
   "metadata": {},
   "outputs": [],
   "source": [
    "def extract_kmers(seq, k):\n",
    "    \"\"\"Extracts kmers from a sequence. Saves position and kmer chunk to preserve order and distance information for downstream secondary structure analysis. Collects kmers from all k reading frames.\"\"\"\n",
    "    all_kmers = [(i, seq[i:i+k]) for i in range(len(seq)-k+1)]\n",
    "    return all_kmers"
   ]
  },
  {
   "cell_type": "code",
   "execution_count": 533,
   "id": "757994fe-d45e-4688-a532-0dc0de8304aa",
   "metadata": {},
   "outputs": [],
   "source": [
    "def getkmers(df, k, start=0, stop=len(df)):\n",
    "    \"\"\"Performs row-level extraction of kmers and returns long-form df. Default column is full sequence, specify variable region. Specify start position offset for variable region, or default is to 0.\"\"\"\n",
    "    kmer_data = []\n",
    "    for idx, row in df.iterrows():\n",
    "        kmers = extract_kmers(row['Sequence'][start:stop], k)\n",
    "        for position, kmer in kmers:\n",
    "            kmer_data.append({'Sequence_ID': idx, 'Position': position + start, 'k-mer': kmer})\n",
    "    \n",
    "    kmer_df = pd.DataFrame(kmer_data)\n",
    "    return kmer_df"
   ]
  },
  {
   "cell_type": "code",
   "execution_count": 534,
   "id": "4e4fa5a9-d633-4656-9183-61e853d5d233",
   "metadata": {},
   "outputs": [
    {
     "name": "stdout",
     "output_type": "stream",
     "text": [
      "<class 'pandas.core.frame.DataFrame'>\n",
      "RangeIndex: 326469 entries, 0 to 326468\n",
      "Data columns (total 3 columns):\n",
      " #   Column       Non-Null Count   Dtype \n",
      "---  ------       --------------   ----- \n",
      " 0   Sequence_ID  326469 non-null  int64 \n",
      " 1   Position     326469 non-null  int64 \n",
      " 2   k-mer        326469 non-null  object\n",
      "dtypes: int64(2), object(1)\n",
      "memory usage: 7.5+ MB\n"
     ]
    }
   ],
   "source": [
    "# Recall: vdf is combined VRs of length 98 sequences\n",
    "df10 = getkmers(df=vdf, k=10)\n",
    "df10.info()"
   ]
  },
  {
   "cell_type": "markdown",
   "id": "9863436a-bafb-44f4-9580-914822e7ce0e",
   "metadata": {},
   "source": [
    "### a. k=10 Frequency distribution"
   ]
  },
  {
   "cell_type": "code",
   "execution_count": 538,
   "id": "17f190a2-5b15-44d4-8942-cae57ba55f1d",
   "metadata": {},
   "outputs": [
    {
     "data": {
      "text/plain": [
       "k-mer\n",
       "CCGCTTCACT    178\n",
       "CGCGCCCCCA    155\n",
       "CCTACTTCAC    140\n",
       "CCGCTTCACG     92\n",
       "CCGCTTCACC     92\n",
       "             ... \n",
       "TTTCGGTCCA      1\n",
       "TCGGTCCACG      1\n",
       "CGGTCCACGC      1\n",
       "TCTTGCTTCC      1\n",
       "CGCTACTCCT      1\n",
       "Name: count, Length: 230893, dtype: int64"
      ]
     },
     "execution_count": 538,
     "metadata": {},
     "output_type": "execute_result"
    }
   ],
   "source": [
    "count_10 = df10['k-mer'].value_counts()\n",
    "count_10"
   ]
  },
  {
   "cell_type": "code",
   "execution_count": 542,
   "id": "f5fdb60c-5b09-4475-9b12-11baac42bb0b",
   "metadata": {},
   "outputs": [
    {
     "data": {
      "image/png": "[encoded data removed]",
      "text/plain": [
       "<Figure size 640x480 with 1 Axes>"
      ]
     },
     "metadata": {},
     "output_type": "display_data"
    }
   ],
   "source": [
    "# Plot histogram to get overview of distribution\n",
    "k=10\n",
    "count_10.plot(kind='hist', color='mediumturquoise', bins=20)\n",
    "plt.yscale('log')\n",
    "plt.figsize=(10,6)\n",
    "plt.title(f'{k}-mer Frequency Distribution')\n",
    "plt.show()"
   ]
  },
  {
   "cell_type": "markdown",
   "id": "5922aa7c-d570-40b4-aa39-5225823fed62",
   "metadata": {},
   "source": [
    "There are only a handful of 10mers which have more than 100 occurrences, and more than 10,000 of the 10mers only have 1 occurrence.  But the kmers which occur with high frequency may be candidates for convergence motifs. \n",
    "\n",
    "Rarely occurring kmers are not necessarily indicative of no function because our pool average function was so high. I wonder if the large number of rare kmers may indicate that they are not random - we previously theorized functional diversity.  \n",
    "\n",
    "We observe that compared to 22 and 21nt TVRs where there were literally only 2 sequences with duplicates, distribution is pulling to the right.  This may be because the functional motif is smaller than the TVR length and may appear more populous when measured this way.  Slicing into kmers may also make the alignment more robust to sequencing errors and single point mutations as there is less dependence on a complete match to register as a duplicate motif.\n",
    "\n",
    "However, a smaller kmer may also occur more frequently."
   ]
  },
  {
   "cell_type": "code",
   "execution_count": null,
   "id": "591fb313-ff15-4304-9458-f21c218856d6",
   "metadata": {},
   "outputs": [],
   "source": []
  }
 ],
 "metadata": {
  "kernelspec": {
   "display_name": "Python 3 (ipykernel)",
   "language": "python",
   "name": "python3"
  },
  "language_info": {
   "codemirror_mode": {
    "name": "ipython",
    "version": 3
   },
   "file_extension": ".py",
   "mimetype": "text/x-python",
   "name": "python",
   "nbconvert_exporter": "python",
   "pygments_lexer": "ipython3",
   "version": "3.11.5"
  }
 },
 "nbformat": 4,
 "nbformat_minor": 5
}
