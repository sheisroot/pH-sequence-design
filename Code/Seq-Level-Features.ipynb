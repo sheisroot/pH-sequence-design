{
 "cells": [
  {
   "cell_type": "markdown",
   "id": "c3d7463c-71f4-4ea5-aedb-6d3fa376b072",
   "metadata": {},
   "source": [
    "# Sequence Level Features and Analysis"
   ]
  },
  {
   "cell_type": "code",
   "execution_count": 101,
   "id": "4742c9f4-89fa-49da-a45e-fba4dd519c80",
   "metadata": {},
   "outputs": [
    {
     "ename": "ModuleNotFoundError",
     "evalue": "No module named 'Bio'",
     "output_type": "error",
     "traceback": [
      "\u001b[0;31m---------------------------------------------------------------------------\u001b[0m",
      "\u001b[0;31mModuleNotFoundError\u001b[0m                       Traceback (most recent call last)",
      "Cell \u001b[0;32mIn[101], line 6\u001b[0m\n\u001b[1;32m      4\u001b[0m \u001b[38;5;28;01mfrom\u001b[39;00m \u001b[38;5;21;01mcollections\u001b[39;00m \u001b[38;5;28;01mimport\u001b[39;00m Counter\n\u001b[1;32m      5\u001b[0m \u001b[38;5;28;01mfrom\u001b[39;00m \u001b[38;5;21;01mscipy\u001b[39;00m\u001b[38;5;21;01m.\u001b[39;00m\u001b[38;5;21;01mstats\u001b[39;00m \u001b[38;5;28;01mimport\u001b[39;00m ttest_1samp, poisson\n\u001b[0;32m----> 6\u001b[0m \u001b[38;5;28;01mfrom\u001b[39;00m \u001b[38;5;21;01mBio\u001b[39;00m \u001b[38;5;28;01mimport\u001b[39;00m pairwise2\n\u001b[1;32m      7\u001b[0m \u001b[38;5;28;01mfrom\u001b[39;00m \u001b[38;5;21;01mBio\u001b[39;00m\u001b[38;5;21;01m.\u001b[39;00m\u001b[38;5;21;01mpairwise2\u001b[39;00m \u001b[38;5;28;01mimport\u001b[39;00m format_alignment\n\u001b[1;32m     10\u001b[0m pd\u001b[38;5;241m.\u001b[39mset_option(\u001b[38;5;124m'\u001b[39m\u001b[38;5;124mdisplay.float_format\u001b[39m\u001b[38;5;124m'\u001b[39m, \u001b[38;5;124m'\u001b[39m\u001b[38;5;132;01m{:.10e}\u001b[39;00m\u001b[38;5;124m'\u001b[39m\u001b[38;5;241m.\u001b[39mformat)\n",
      "\u001b[0;31mModuleNotFoundError\u001b[0m: No module named 'Bio'"
     ]
    }
   ],
   "source": [
    "import pandas as pd\n",
    "import numpy as np\n",
    "import matplotlib.pyplot as plt\n",
    "from collections import Counter\n",
    "from scipy.stats import ttest_1samp, poisson\n",
    "from Bio import pairwise2\n",
    "from Bio.pairwise2 import format_alignment\n",
    "\n",
    "\n",
    "pd.set_option('display.float_format', '{:.10e}'.format)\n",
    "pd.set_option('display.max_colwidth', 30)"
   ]
  },
  {
   "cell_type": "code",
   "execution_count": 43,
   "id": "8a9408c5-ef61-4812-8752-32ebbc7049b1",
   "metadata": {},
   "outputs": [
    {
     "data": {
      "text/html": [
       "<div>\n",
       "<style scoped>\n",
       "    .dataframe tbody tr th:only-of-type {\n",
       "        vertical-align: middle;\n",
       "    }\n",
       "\n",
       "    .dataframe tbody tr th {\n",
       "        vertical-align: top;\n",
       "    }\n",
       "\n",
       "    .dataframe thead th {\n",
       "        text-align: right;\n",
       "    }\n",
       "</style>\n",
       "<table border=\"1\" class=\"dataframe\">\n",
       "  <thead>\n",
       "    <tr style=\"text-align: right;\">\n",
       "      <th></th>\n",
       "      <th>Sequence</th>\n",
       "      <th>Copy Num</th>\n",
       "      <th>Length</th>\n",
       "    </tr>\n",
       "  </thead>\n",
       "  <tbody>\n",
       "    <tr>\n",
       "      <th>0</th>\n",
       "      <td>AGTGCCATCGTGCGTATCCTTCACTC...</td>\n",
       "      <td>91</td>\n",
       "      <td>98</td>\n",
       "    </tr>\n",
       "    <tr>\n",
       "      <th>1</th>\n",
       "      <td>AGTGCCATCGTGCGTATCCTTCACGT...</td>\n",
       "      <td>86</td>\n",
       "      <td>98</td>\n",
       "    </tr>\n",
       "    <tr>\n",
       "      <th>2</th>\n",
       "      <td>AGTGCCATCGTGCGTATCCTGAACAT...</td>\n",
       "      <td>83</td>\n",
       "      <td>98</td>\n",
       "    </tr>\n",
       "    <tr>\n",
       "      <th>3</th>\n",
       "      <td>AGTGCCATCGTGCGTATCCCGCTCCG...</td>\n",
       "      <td>80</td>\n",
       "      <td>98</td>\n",
       "    </tr>\n",
       "    <tr>\n",
       "      <th>4</th>\n",
       "      <td>AGTGCCATCGTGCGTATCCTGAACAT...</td>\n",
       "      <td>78</td>\n",
       "      <td>98</td>\n",
       "    </tr>\n",
       "  </tbody>\n",
       "</table>\n",
       "</div>"
      ],
      "text/plain": [
       "                        Sequence  Copy Num  Length\n",
       "0  AGTGCCATCGTGCGTATCCTTCACTC...        91      98\n",
       "1  AGTGCCATCGTGCGTATCCTTCACGT...        86      98\n",
       "2  AGTGCCATCGTGCGTATCCTGAACAT...        83      98\n",
       "3  AGTGCCATCGTGCGTATCCCGCTCCG...        80      98\n",
       "4  AGTGCCATCGTGCGTATCCTGAACAT...        78      98"
      ]
     },
     "execution_count": 43,
     "metadata": {},
     "output_type": "execute_result"
    }
   ],
   "source": [
    "csv_file = \"../Data/R12-clean.csv\"\n",
    "df = pd.read_csv(csv_file)\n",
    "df.head(5)"
   ]
  },
  {
   "cell_type": "markdown",
   "id": "0c0f3387-92a0-4931-bcd5-68e67d5d76e3",
   "metadata": {},
   "source": [
    "### 1. Base Composition"
   ]
  },
  {
   "cell_type": "code",
   "execution_count": 44,
   "id": "631edd95-7a44-48c1-9016-cbea82a56767",
   "metadata": {},
   "outputs": [],
   "source": [
    "# Ratio of GC to AT content\n",
    "def GC_content(sequence):\n",
    "    count = Counter(sequence)\n",
    "    return (count['G'] + count['C'])/len(sequence)"
   ]
  },
  {
   "cell_type": "code",
   "execution_count": 45,
   "id": "aeda7c93-c4c3-434e-8b5c-9cf8019a1811",
   "metadata": {},
   "outputs": [],
   "source": [
    "df['GC content'] = df['Sequence'].apply(GC_content)"
   ]
  },
  {
   "cell_type": "code",
   "execution_count": 46,
   "id": "346d37d7-68a4-4e9d-a579-fa9807dc8d72",
   "metadata": {},
   "outputs": [
    {
     "name": "stdout",
     "output_type": "stream",
     "text": [
      "Mean: 0.53351\n",
      "Median: 0.53061\n"
     ]
    }
   ],
   "source": [
    "mean_GC = np.mean(df['GC content'])\n",
    "median_GC = np.median(df['GC content'])\n",
    "print(f'Mean: {np.round(mean_GC, 5)}\\nMedian: {np.round(median_GC, 5)}')"
   ]
  },
  {
   "cell_type": "code",
   "execution_count": 47,
   "id": "49293b6a-3515-4e98-951f-001c1a88e7b5",
   "metadata": {},
   "outputs": [
    {
     "data": {
      "image/png": "[encoded data removed]",
      "text/plain": [
       "<Figure size 640x480 with 1 Axes>"
      ]
     },
     "metadata": {},
     "output_type": "display_data"
    }
   ],
   "source": [
    "plt.hist(df['GC content'], color= 'teal')\n",
    "plt.title('GC content')\n",
    "plt.xlim(0.3, 0.7)\n",
    "plt.axvline(x=0.5, color='red')\n",
    "# show mean and median lines\n",
    "plt.axvline(x=mean_GC, color='navy', linestyle='--', label='Mean')\n",
    "plt.axvline(x=median_GC, color='skyblue', linestyle='dotted', label='Median')\n",
    "plt.text(mean_GC, 3500, 'mean', rotation=45)\n",
    "plt.text(median_GC, 3000, 'median', rotation=45)\n",
    "plt.show()"
   ]
  },
  {
   "cell_type": "code",
   "execution_count": 48,
   "id": "472d0069-d9d7-49e7-93f2-7fb5d5d399a5",
   "metadata": {},
   "outputs": [
    {
     "data": {
      "text/plain": [
       "0.8247134739477993"
      ]
     },
     "execution_count": 48,
     "metadata": {},
     "output_type": "execute_result"
    }
   ],
   "source": [
    "np.sum(df['GC content'] > 0.5)/len(df['GC content'])"
   ]
  },
  {
   "cell_type": "markdown",
   "id": "2d579004-3604-45d2-94eb-5b59a0c4472a",
   "metadata": {},
   "source": [
    "Interestingly, the GC content seems to skew left.  An unbiased set of sequences might expect the GC% to be around 0.5, but we can see a majority of sequences have higher than expected GC content. In fact, about 82.5% of the sequences have higher than 50% GC content. Specific motifs or structural elements that are GC-rich may have been selected.  GC rich sequences often form more stable secondary structures."
   ]
  },
  {
   "cell_type": "markdown",
   "id": "42d430ab-372c-4ca4-919d-ee946ca8b6f2",
   "metadata": {},
   "source": [
    "#### a. One sample t-test"
   ]
  },
  {
   "cell_type": "code",
   "execution_count": 49,
   "id": "0e37ef7e-f032-4eae-a0a9-eaa29c55cbb1",
   "metadata": {},
   "outputs": [
    {
     "name": "stdout",
     "output_type": "stream",
     "text": [
      "T-statistic: 110.4588265736308, P-value: 0.0\n"
     ]
    }
   ],
   "source": [
    "t_stat, p_val = ttest_1samp(df['GC content'], 0.5)\n",
    "print(f'T-statistic: {t_stat}, P-value: {p_val}')"
   ]
  },
  {
   "cell_type": "markdown",
   "id": "1a7115b0-4308-40a4-83b7-1b598140790c",
   "metadata": {},
   "source": [
    "The GC content being higher is statistically significant.  We cannot be sure of biological importance, however."
   ]
  },
  {
   "cell_type": "markdown",
   "id": "773e7749-5471-4725-a0eb-bc15de5fb134",
   "metadata": {},
   "source": [
    "### 2. k-mer Frequency  "
   ]
  },
  {
   "cell_type": "code",
   "execution_count": 86,
   "id": "4a20b93e-1bc2-4289-8153-1d59acf2fabe",
   "metadata": {},
   "outputs": [],
   "source": [
    "def extract_kmers(seq, k):\n",
    "    \"\"\"Extracts kmers from a sequence. Saves position and kmer chunk to preserve order and distance information for downstream secondary structure analysis. Collects kmers from all k reading frames.\"\"\"\n",
    "    all_kmers = [(i, seq[i:i+k]) for i in range(len(seq)-k+1)]\n",
    "    return all_kmers"
   ]
  },
  {
   "cell_type": "code",
   "execution_count": 87,
   "id": "757994fe-d45e-4688-a532-0dc0de8304aa",
   "metadata": {},
   "outputs": [],
   "source": [
    "def getkmers(data, k):\n",
    "    kmer_data = []\n",
    "    for idx, row in df.iterrows():\n",
    "        kmers = extract_kmers(row['Sequence'], k)\n",
    "        for position, kmer in kmers:\n",
    "            kmer_data.append({'Sequence_ID': idx, 'Position': position, 'k-mer': kmer})\n",
    "    \n",
    "    kmer_df = pd.DataFrame(kmer_data)\n",
    "    return kmer_df"
   ]
  },
  {
   "cell_type": "code",
   "execution_count": 88,
   "id": "174db0d0-a934-45a5-b709-430301b36adb",
   "metadata": {},
   "outputs": [
    {
     "data": {
      "text/html": [
       "<div>\n",
       "<style scoped>\n",
       "    .dataframe tbody tr th:only-of-type {\n",
       "        vertical-align: middle;\n",
       "    }\n",
       "\n",
       "    .dataframe tbody tr th {\n",
       "        vertical-align: top;\n",
       "    }\n",
       "\n",
       "    .dataframe thead th {\n",
       "        text-align: right;\n",
       "    }\n",
       "</style>\n",
       "<table border=\"1\" class=\"dataframe\">\n",
       "  <thead>\n",
       "    <tr style=\"text-align: right;\">\n",
       "      <th></th>\n",
       "      <th>Sequence_ID</th>\n",
       "      <th>Position</th>\n",
       "      <th>k-mer</th>\n",
       "    </tr>\n",
       "  </thead>\n",
       "  <tbody>\n",
       "    <tr>\n",
       "      <th>0</th>\n",
       "      <td>0</td>\n",
       "      <td>0</td>\n",
       "      <td>AGTGCCATCG</td>\n",
       "    </tr>\n",
       "    <tr>\n",
       "      <th>1</th>\n",
       "      <td>0</td>\n",
       "      <td>1</td>\n",
       "      <td>GTGCCATCGT</td>\n",
       "    </tr>\n",
       "    <tr>\n",
       "      <th>2</th>\n",
       "      <td>0</td>\n",
       "      <td>2</td>\n",
       "      <td>TGCCATCGTG</td>\n",
       "    </tr>\n",
       "    <tr>\n",
       "      <th>3</th>\n",
       "      <td>0</td>\n",
       "      <td>3</td>\n",
       "      <td>GCCATCGTGC</td>\n",
       "    </tr>\n",
       "    <tr>\n",
       "      <th>4</th>\n",
       "      <td>0</td>\n",
       "      <td>4</td>\n",
       "      <td>CCATCGTGCG</td>\n",
       "    </tr>\n",
       "  </tbody>\n",
       "</table>\n",
       "</div>"
      ],
      "text/plain": [
       "   Sequence_ID  Position       k-mer\n",
       "0            0         0  AGTGCCATCG\n",
       "1            0         1  GTGCCATCGT\n",
       "2            0         2  TGCCATCGTG\n",
       "3            0         3  GCCATCGTGC\n",
       "4            0         4  CCATCGTGCG"
      ]
     },
     "execution_count": 88,
     "metadata": {},
     "output_type": "execute_result"
    }
   ],
   "source": [
    "getkmers(data=df, k=10).head()"
   ]
  },
  {
   "cell_type": "markdown",
   "id": "05eba9d0-891e-43ff-b51d-7fad965ac127",
   "metadata": {},
   "source": [
    "#### kmer Frequency across enriched pool"
   ]
  },
  {
   "cell_type": "code",
   "execution_count": 95,
   "id": "ff3e1514-36a8-4546-a5cc-36b66d0b6656",
   "metadata": {},
   "outputs": [
    {
     "data": {
      "text/html": [
       "<div>\n",
       "<style scoped>\n",
       "    .dataframe tbody tr th:only-of-type {\n",
       "        vertical-align: middle;\n",
       "    }\n",
       "\n",
       "    .dataframe tbody tr th {\n",
       "        vertical-align: top;\n",
       "    }\n",
       "\n",
       "    .dataframe thead th {\n",
       "        text-align: right;\n",
       "    }\n",
       "</style>\n",
       "<table border=\"1\" class=\"dataframe\">\n",
       "  <thead>\n",
       "    <tr style=\"text-align: right;\">\n",
       "      <th></th>\n",
       "      <th>Sequence_ID</th>\n",
       "      <th>Position</th>\n",
       "      <th>k-mer</th>\n",
       "    </tr>\n",
       "  </thead>\n",
       "  <tbody>\n",
       "    <tr>\n",
       "      <th>0</th>\n",
       "      <td>0</td>\n",
       "      <td>0</td>\n",
       "      <td>AGTGCCATCG</td>\n",
       "    </tr>\n",
       "    <tr>\n",
       "      <th>1</th>\n",
       "      <td>0</td>\n",
       "      <td>1</td>\n",
       "      <td>GTGCCATCGT</td>\n",
       "    </tr>\n",
       "    <tr>\n",
       "      <th>2</th>\n",
       "      <td>0</td>\n",
       "      <td>2</td>\n",
       "      <td>TGCCATCGTG</td>\n",
       "    </tr>\n",
       "    <tr>\n",
       "      <th>3</th>\n",
       "      <td>0</td>\n",
       "      <td>3</td>\n",
       "      <td>GCCATCGTGC</td>\n",
       "    </tr>\n",
       "    <tr>\n",
       "      <th>4</th>\n",
       "      <td>0</td>\n",
       "      <td>4</td>\n",
       "      <td>CCATCGTGCG</td>\n",
       "    </tr>\n",
       "  </tbody>\n",
       "</table>\n",
       "</div>"
      ],
      "text/plain": [
       "   Sequence_ID  Position       k-mer\n",
       "0            0         0  AGTGCCATCG\n",
       "1            0         1  GTGCCATCGT\n",
       "2            0         2  TGCCATCGTG\n",
       "3            0         3  GCCATCGTGC\n",
       "4            0         4  CCATCGTGCG"
      ]
     },
     "execution_count": 95,
     "metadata": {},
     "output_type": "execute_result"
    }
   ],
   "source": [
    "# k=10\n",
    "kmers = getkmers(df, 10)\n",
    "kmers.head()\n"
   ]
  },
  {
   "cell_type": "code",
   "execution_count": 96,
   "id": "081d8220-bc03-4560-beea-c0e905787fb9",
   "metadata": {},
   "outputs": [
    {
     "data": {
      "text/plain": [
       "k-mer\n",
       "CATCGTGCGT    10384\n",
       "ATCGTGCGTA    10384\n",
       "TCGTGCGTAT    10384\n",
       "GTGCGTATCC    10384\n",
       "GGAGACACGA    10384\n",
       "Name: count, dtype: int64"
      ]
     },
     "execution_count": 96,
     "metadata": {},
     "output_type": "execute_result"
    }
   ],
   "source": [
    "kmers_count = kmers['k-mer'].value_counts()\n",
    "kmers_count.head()"
   ]
  },
  {
   "cell_type": "code",
   "execution_count": 97,
   "id": "24e8fc30-19d1-4480-878a-febdf330a488",
   "metadata": {},
   "outputs": [
    {
     "data": {
      "image/png": "[encoded data removed]",
      "text/plain": [
       "<Figure size 640x480 with 1 Axes>"
      ]
     },
     "metadata": {},
     "output_type": "display_data"
    }
   ],
   "source": [
    "# Plot histogram to get overview of distribution\n",
    "kmers_count.plot(kind='hist', bins=50, color='teal')\n",
    "plt.yscale('log')\n",
    "plt.figsize=(10,6)\n",
    "plt.title(f'{k}-mer Frequency Distribution')\n",
    "plt.show()"
   ]
  },
  {
   "cell_type": "markdown",
   "id": "7bfe1477-6413-4797-933f-4a2d8a0894c0",
   "metadata": {},
   "source": [
    "#### Designed constant regions of selection library: \n",
    "The following describes the template of the starting selection library:\n",
    "\n",
    "forward primer | AAGTGCCATCGTGCGTATCC | 20 bp  \n",
    "variable region 1 | (N)^22 | 22 bp  \n",
    "mipomersen loading | GCGAAGCAGACTGAGGC | 17 bp  \n",
    "variable region 2 | (N)^21 | 21 bp  \n",
    "reverse primer | GTAGACTGGAGACACGACGA | 20 bp  \n",
    "\n",
    "kmers which occur in all sequences likely correspond to constant regions. The constant regions will not be excluded from study since they may contribute to the pH-function via interactions with the variable regions. We note that we can proceed with study by masking off sequences with count > 10,000 because the constant regions alone were shown in control studies not to have pH-activity themselves.  We will be able to indirectly pick up on these interactions by finding repeated motifs in the variable regions.\n",
    "\n",
    "Short kmers may also have high counts because the probability for a random hit goes up and masking high counts will help reduce this effect as well."
   ]
  },
  {
   "cell_type": "code",
   "execution_count": 100,
   "id": "00bb4c98-1cb8-4a39-98d1-a043d09c51ce",
   "metadata": {},
   "outputs": [
    {
     "data": {
      "text/plain": [
       "k-mer\n",
       "CGAAGCAGAC    8008\n",
       "GACTGAGGCG    6897\n",
       "TGCGTATCCT    5093\n",
       "ACTGAGGCGC    4714\n",
       "GCGAAGCAGA    4497\n",
       "              ... \n",
       "TAGACTCTAT       1\n",
       "AGACTCTATG       1\n",
       "GACTCTATGA       1\n",
       "GCGTTGACCA       1\n",
       "AACTCTAGTA       1\n",
       "Name: count, Length: 271611, dtype: int64"
      ]
     },
     "execution_count": 100,
     "metadata": {},
     "output_type": "execute_result"
    }
   ],
   "source": [
    "# Exclude k-mers from constant regions\n",
    "mask = kmers_count < 0.9 * len(df)\n",
    "filtered_kmers = kmers_count[mask]\n",
    "filtered_kmers"
   ]
  },
  {
   "cell_type": "markdown",
   "id": "3552b9b5-8b14-4c4a-af51-74ddb9c59f58",
   "metadata": {},
   "source": [
    "What about kmers which have a very low count in the pool? kmers_count < 10, for example. While these are rare kmers, they may have pH-function or they may be noise. For the study, we could focus first on kmers which are repeated often in the pool to search for convergence. "
   ]
  },
  {
   "cell_type": "markdown",
   "id": "632646d3-0263-4e8d-90b5-2a1a3249cb50",
   "metadata": {},
   "source": [
    "#### Search mid-range frequency k-mers for possible pH-active motifs"
   ]
  },
  {
   "cell_type": "markdown",
   "id": "7164555c-b335-4b3d-8b19-ac8c06b29066",
   "metadata": {},
   "source": [
    "For a start, check out kmers between 2,000 and 8,008 count.  To reconcile, we should perform an alignment against the constant regions to discard artifacts of library design."
   ]
  },
  {
   "cell_type": "code",
   "execution_count": null,
   "id": "c0cc2712-f27f-4838-850f-dc76ce1e8566",
   "metadata": {},
   "outputs": [],
   "source": []
  },
  {
   "cell_type": "code",
   "execution_count": null,
   "id": "5251a99c-afdc-4572-bf07-8c48493abb3e",
   "metadata": {},
   "outputs": [],
   "source": []
  },
  {
   "cell_type": "code",
   "execution_count": null,
   "id": "10ee0eee-ca69-491d-acf8-21fe9fad8f8c",
   "metadata": {},
   "outputs": [],
   "source": []
  },
  {
   "cell_type": "code",
   "execution_count": null,
   "id": "c37fae0c-d954-488d-ae76-fa9239e82d22",
   "metadata": {},
   "outputs": [],
   "source": []
  },
  {
   "cell_type": "code",
   "execution_count": 73,
   "id": "b5943610-a660-4ffc-a847-c172c1319f5e",
   "metadata": {},
   "outputs": [
    {
     "name": "stdout",
     "output_type": "stream",
     "text": [
      "Expected Occurrences: 8.806e-01\n"
     ]
    }
   ],
   "source": [
    "# Probability of random kmer occurrence\n",
    "p_rkmer = (0.25)**k\n",
    "\n",
    "# Total number of positions across the dataset\n",
    "npos = len(df) * (np.mean(df['Length']) - k + 1)\n",
    "\n",
    "# Expectation value\n",
    "exp_occ = p_rkmer*npos\n",
    "print(f'Expected Occurrences: {exp_occ:.3e}')"
   ]
  },
  {
   "cell_type": "markdown",
   "id": "27b6c270-3bcd-446f-b50c-01639440c7a2",
   "metadata": {},
   "source": [
    "A random 10-mer can be expected to occur <1 times in my dataset, so it looks like the minimum cutoff is quite low.  That's good news and may reflect the high sequence variance which persisted into my enriched pool."
   ]
  },
  {
   "cell_type": "code",
   "execution_count": 78,
   "id": "058b0959-0c26-4340-b754-4abfbe2379f4",
   "metadata": {},
   "outputs": [
    {
     "name": "stdout",
     "output_type": "stream",
     "text": [
      "Poisson threshold: 0.000e+00\n"
     ]
    }
   ],
   "source": [
    "minimum = poisson.ppf(0.05, exp_occ)\n",
    "print(f'Poisson threshold: {minimum:.3e}')"
   ]
  },
  {
   "cell_type": "markdown",
   "id": "9ba57d5a-a5ee-4d99-b0c6-a8b54c41cb75",
   "metadata": {},
   "source": [
    "# HOWEVER\n",
    "(1) the low threshold may be because the constant regions are not randomly arising\n",
    "(2) the primer region kmers should not be gated out because they may form part of the pH function\n",
    "\n",
    "this suggests that constant regions and variable regions should be analyzed in parallel"
   ]
  }
 ],
 "metadata": {
  "kernelspec": {
   "display_name": "Python 3 (ipykernel)",
   "language": "python",
   "name": "python3"
  },
  "language_info": {
   "codemirror_mode": {
    "name": "ipython",
    "version": 3
   },
   "file_extension": ".py",
   "mimetype": "text/x-python",
   "name": "python",
   "nbconvert_exporter": "python",
   "pygments_lexer": "ipython3",
   "version": "3.11.5"
  }
 },
 "nbformat": 4,
 "nbformat_minor": 5
}
