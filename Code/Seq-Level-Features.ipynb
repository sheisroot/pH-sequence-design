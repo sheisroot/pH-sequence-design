{
 "cells": [
  {
   "cell_type": "markdown",
   "id": "c3d7463c-71f4-4ea5-aedb-6d3fa376b072",
   "metadata": {},
   "source": [
    "# Sequence Level Features and Analysis"
   ]
  },
  {
   "cell_type": "code",
   "execution_count": 69,
   "id": "4742c9f4-89fa-49da-a45e-fba4dd519c80",
   "metadata": {},
   "outputs": [],
   "source": [
    "import pandas as pd\n",
    "import numpy as np\n",
    "import matplotlib.pyplot as plt\n",
    "from collections import Counter\n",
    "from scipy.stats import ttest_1samp\n",
    "\n",
    "pd.set_option('display.float_format', '{:.10e}'.format)\n",
    "pd.set_option('display.max_colwidth', 30)"
   ]
  },
  {
   "cell_type": "code",
   "execution_count": 5,
   "id": "8a9408c5-ef61-4812-8752-32ebbc7049b1",
   "metadata": {},
   "outputs": [
    {
     "data": {
      "text/html": [
       "<div>\n",
       "<style scoped>\n",
       "    .dataframe tbody tr th:only-of-type {\n",
       "        vertical-align: middle;\n",
       "    }\n",
       "\n",
       "    .dataframe tbody tr th {\n",
       "        vertical-align: top;\n",
       "    }\n",
       "\n",
       "    .dataframe thead th {\n",
       "        text-align: right;\n",
       "    }\n",
       "</style>\n",
       "<table border=\"1\" class=\"dataframe\">\n",
       "  <thead>\n",
       "    <tr style=\"text-align: right;\">\n",
       "      <th></th>\n",
       "      <th>Sequence</th>\n",
       "      <th>Copy Num</th>\n",
       "      <th>Length</th>\n",
       "    </tr>\n",
       "  </thead>\n",
       "  <tbody>\n",
       "    <tr>\n",
       "      <th>0</th>\n",
       "      <td>AGTGCCATCGTGCGTATCCTTCACTC...</td>\n",
       "      <td>91</td>\n",
       "      <td>98</td>\n",
       "    </tr>\n",
       "    <tr>\n",
       "      <th>1</th>\n",
       "      <td>AGTGCCATCGTGCGTATCCTTCACGT...</td>\n",
       "      <td>86</td>\n",
       "      <td>98</td>\n",
       "    </tr>\n",
       "    <tr>\n",
       "      <th>2</th>\n",
       "      <td>AGTGCCATCGTGCGTATCCTGAACAT...</td>\n",
       "      <td>83</td>\n",
       "      <td>98</td>\n",
       "    </tr>\n",
       "    <tr>\n",
       "      <th>3</th>\n",
       "      <td>AGTGCCATCGTGCGTATCCCGCTCCG...</td>\n",
       "      <td>80</td>\n",
       "      <td>98</td>\n",
       "    </tr>\n",
       "    <tr>\n",
       "      <th>4</th>\n",
       "      <td>AGTGCCATCGTGCGTATCCTGAACAT...</td>\n",
       "      <td>78</td>\n",
       "      <td>98</td>\n",
       "    </tr>\n",
       "  </tbody>\n",
       "</table>\n",
       "</div>"
      ],
      "text/plain": [
       "                        Sequence  Copy Num  Length\n",
       "0  AGTGCCATCGTGCGTATCCTTCACTC...        91      98\n",
       "1  AGTGCCATCGTGCGTATCCTTCACGT...        86      98\n",
       "2  AGTGCCATCGTGCGTATCCTGAACAT...        83      98\n",
       "3  AGTGCCATCGTGCGTATCCCGCTCCG...        80      98\n",
       "4  AGTGCCATCGTGCGTATCCTGAACAT...        78      98"
      ]
     },
     "execution_count": 5,
     "metadata": {},
     "output_type": "execute_result"
    }
   ],
   "source": [
    "csv_file = \"../Data/R12-clean.csv\"\n",
    "df = pd.read_csv(csv_file)\n",
    "df.head(5)"
   ]
  },
  {
   "cell_type": "markdown",
   "id": "0c0f3387-92a0-4931-bcd5-68e67d5d76e3",
   "metadata": {},
   "source": [
    "### 1. Base Composition"
   ]
  },
  {
   "cell_type": "code",
   "execution_count": 25,
   "id": "631edd95-7a44-48c1-9016-cbea82a56767",
   "metadata": {},
   "outputs": [],
   "source": [
    "# Ratio of GC to AT content\n",
    "def GC_content(sequence):\n",
    "    count = Counter(sequence)\n",
    "    return (count['G'] + count['C'])/len(sequence)"
   ]
  },
  {
   "cell_type": "code",
   "execution_count": 27,
   "id": "aeda7c93-c4c3-434e-8b5c-9cf8019a1811",
   "metadata": {},
   "outputs": [],
   "source": [
    "df['GC content'] = df['Sequence'].apply(GC_content)"
   ]
  },
  {
   "cell_type": "code",
   "execution_count": 53,
   "id": "346d37d7-68a4-4e9d-a579-fa9807dc8d72",
   "metadata": {},
   "outputs": [
    {
     "name": "stdout",
     "output_type": "stream",
     "text": [
      "Mean: 0.53351\n",
      "Median: 0.53061\n"
     ]
    }
   ],
   "source": [
    "mean_GC = np.mean(df['GC content'])\n",
    "median_GC = np.median(df['GC content'])\n",
    "print(f'Mean: {np.round(mean_GC, 5)}\\nMedian: {np.round(median_GC, 5)}')"
   ]
  },
  {
   "cell_type": "code",
   "execution_count": 54,
   "id": "49293b6a-3515-4e98-951f-001c1a88e7b5",
   "metadata": {},
   "outputs": [
    {
     "data": {
      "image/png": "[encoded data removed]",
      "text/plain": [
       "<Figure size 640x480 with 1 Axes>"
      ]
     },
     "metadata": {},
     "output_type": "display_data"
    }
   ],
   "source": [
    "plt.hist(df['GC content'], color= 'teal')\n",
    "plt.title('GC content')\n",
    "plt.xlim(0.3, 0.7)\n",
    "plt.axvline(x=0.5, color='red')\n",
    "# show mean and median lines\n",
    "plt.axvline(x=mean_GC, color='navy', linestyle='--', label='Mean')\n",
    "plt.axvline(x=median_GC, color='skyblue', linestyle='dotted', label='Median')\n",
    "plt.text(mean_GC, 3500, 'mean', rotation=45)\n",
    "plt.text(median_GC, 3000, 'median', rotation=45)\n",
    "plt.show()"
   ]
  },
  {
   "cell_type": "code",
   "execution_count": 59,
   "id": "472d0069-d9d7-49e7-93f2-7fb5d5d399a5",
   "metadata": {},
   "outputs": [
    {
     "data": {
      "text/plain": [
       "0.8247134739477993"
      ]
     },
     "execution_count": 59,
     "metadata": {},
     "output_type": "execute_result"
    }
   ],
   "source": [
    "np.sum(df['GC content'] > 0.5)/len(df['GC content'])"
   ]
  },
  {
   "cell_type": "markdown",
   "id": "2d579004-3604-45d2-94eb-5b59a0c4472a",
   "metadata": {},
   "source": [
    "Interestingly, the GC content seems to skew left.  An unbiased set of sequences might expect the GC% to be around 0.5, but we can see a majority of sequences have higher than expected GC content. In fact, about 82.5% of the sequences have higher than 50% GC content. Specific motifs or structural elements that are GC-rich may have been selected.  GC rich sequences often form more stable secondary structures."
   ]
  },
  {
   "cell_type": "markdown",
   "id": "42d430ab-372c-4ca4-919d-ee946ca8b6f2",
   "metadata": {},
   "source": [
    "#### a. One sample t-test"
   ]
  },
  {
   "cell_type": "code",
   "execution_count": 70,
   "id": "0e37ef7e-f032-4eae-a0a9-eaa29c55cbb1",
   "metadata": {},
   "outputs": [
    {
     "name": "stdout",
     "output_type": "stream",
     "text": [
      "T-statistic: 110.4588265736308, P-value: 0.0\n"
     ]
    }
   ],
   "source": [
    "t_stat, p_val = ttest_1samp(df['GC content'], 0.5)\n",
    "print(f'T-statistic: {t_stat}, P-value: {p_val}')"
   ]
  },
  {
   "cell_type": "markdown",
   "id": "1a7115b0-4308-40a4-83b7-1b598140790c",
   "metadata": {},
   "source": [
    "The GC content being higher is statistically significant.  We cannot be sure of biological importance, however."
   ]
  },
  {
   "cell_type": "markdown",
   "id": "773e7749-5471-4725-a0eb-bc15de5fb134",
   "metadata": {},
   "source": [
    "### 2. k-mer Frequency  \n",
    "Importantly, we have to normalize for the presence of FP, RP, and Mipomersen loading constant regions."
   ]
  },
  {
   "cell_type": "code",
   "execution_count": 75,
   "id": "4a20b93e-1bc2-4289-8153-1d59acf2fabe",
   "metadata": {},
   "outputs": [],
   "source": [
    "def extract_kmers(seq, k):\n",
    "    \"\"\"Extracts kmers from a sequence and saves them as a sublist\n",
    "    which preserves order and distance from each other. Returns a list\n",
    "    of sublists which represent the k-1 possible reading frames.\"\"\"\n",
    "    all_kmers = [\n",
    "        [seq[i:i+k] for i in range(frame, len(seq), k)]\n",
    "        for frame in range(k)\n",
    "    ]\n",
    "    return all_kmers"
   ]
  },
  {
   "cell_type": "code",
   "execution_count": 77,
   "id": "7f6c5410-d91c-4f8c-a3f9-a21bede77329",
   "metadata": {},
   "outputs": [],
   "source": [
    "def kmer_frequency(kmers):\n",
    "    \"\"\"Calculate kmer frequencies.\"\"\"\n",
    "    kmer_counts = Counter(kmers)\n",
    "    total_kmers = sum(kmer_counts.values())\n",
    "    return {kmer: count/total_kmers for kmer, count in kmer_counts.items()}"
   ]
  },
  {
   "cell_type": "markdown",
   "id": "ea3f985a-363b-4aee-9ad0-d04f960180ca",
   "metadata": {},
   "source": [
    "#### a. 3-mers"
   ]
  },
  {
   "cell_type": "code",
   "execution_count": 88,
   "id": "4e8c8f58-6b19-4d29-89fc-e816ef78d77b",
   "metadata": {},
   "outputs": [
    {
     "data": {
      "text/plain": [
       "{'AGT': 0.06060606060606061,\n",
       " 'GCC': 0.030303030303030304,\n",
       " 'ATC': 0.06060606060606061,\n",
       " 'GTG': 0.030303030303030304,\n",
       " 'CGT': 0.06060606060606061,\n",
       " 'CTT': 0.030303030303030304,\n",
       " 'CAC': 0.030303030303030304,\n",
       " 'TCC': 0.030303030303030304,\n",
       " 'TTG': 0.030303030303030304,\n",
       " 'CTC': 0.030303030303030304,\n",
       " 'GAC': 0.030303030303030304,\n",
       " 'AAG': 0.06060606060606061,\n",
       " 'CGA': 0.06060606060606061,\n",
       " 'AGC': 0.030303030303030304,\n",
       " 'AGA': 0.06060606060606061,\n",
       " 'CTG': 0.06060606060606061,\n",
       " 'AGG': 0.030303030303030304,\n",
       " 'CCG': 0.030303030303030304,\n",
       " 'ATG': 0.030303030303030304,\n",
       " 'GTC': 0.030303030303030304,\n",
       " 'TAA': 0.030303030303030304,\n",
       " 'TTC': 0.06060606060606061,\n",
       " 'GAG': 0.030303030303030304,\n",
       " 'ACA': 0.030303030303030304,\n",
       " 'CG': 0.030303030303030304}"
      ]
     },
     "execution_count": 88,
     "metadata": {},
     "output_type": "execute_result"
    }
   ],
   "source": [
    "# Make a new dataframe with k-1 columns for each frame\n",
    "k=3\n",
    "kmer_df = pd.DataFrame(df['Sequence'])\n",
    "  \n",
    "extracted = kmer_df['Sequence'].apply(lambda seq: extract_kmers(seq, k))\n",
    "\n",
    "kmer_frequency(extracted[0][0])"
   ]
  },
  {
   "cell_type": "code",
   "execution_count": null,
   "id": "23aa6fe6-51c2-4ecd-b360-0ce4a9268736",
   "metadata": {},
   "outputs": [],
   "source": [
    "# Get kmer frequencies\n",
    "kmer_df[f'Frequency'] = df['Frame_0'].apply(lambda kmers: kmer_frequency(kmers"
   ]
  }
 ],
 "metadata": {
  "kernelspec": {
   "display_name": "Python 3 (ipykernel)",
   "language": "python",
   "name": "python3"
  },
  "language_info": {
   "codemirror_mode": {
    "name": "ipython",
    "version": 3
   },
   "file_extension": ".py",
   "mimetype": "text/x-python",
   "name": "python",
   "nbconvert_exporter": "python",
   "pygments_lexer": "ipython3",
   "version": "3.11.5"
  }
 },
 "nbformat": 4,
 "nbformat_minor": 5
}
