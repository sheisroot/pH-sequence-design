


import pandas as pd
import numpy as np
import matplotlib.pyplot as plt
from collections import Counter
from scipy.stats import ttest_1samp, poisson
from Bio import pairwise2
from Bio.pairwise2 import format_alignment



pd.set_option('display.float_format', '{:.10e}'.format)
pd.set_option('display.max_colwidth', 30)


csv_file = "../Data/R12-clean.csv"
df = pd.read_csv(csv_file)
df.head(5)





def extract_kmers(seq, k):
    """Extracts kmers from a sequence. Saves position and kmer chunk to preserve order and distance information for downstream secondary structure analysis. Collects kmers from all k reading frames."""
    all_kmers = [(i, seq[i:i+k]) for i in range(len(seq)-k+1)]
    return all_kmers


def getkmers(data, k):
    """Performs row-level extraction of kmers and returns long-form df."""
    kmer_data = []
    for idx, row in df.iterrows():
        kmers = extract_kmers(row['Sequence'], k)
        for position, kmer in kmers:
            kmer_data.append({'Sequence_ID': idx, 'Position': position, 'k-mer': kmer})
    
    kmer_df = pd.DataFrame(kmer_data)
    return kmer_df


getkmers(data=df, k=10).head()





designed_FP ="AAGTGCCATCGTGCGTATCC"
FP = designed_FP[1:]
MIP = "GCGAAGCAGACTGAGGC"
designed_RP = "GTAGACTGGAGACACGACGA"
RP = designed_RP[:-1]


PADNA_1 = df.iloc[0, 0]





FP_start = PADNA_1.index(FP)
FP_end = FP_start + len(FP)

MIP_start = PADNA_1.index(MIP)
MIP_end = MIP_start + len(MIP)

RP_start = PADNA_1.index(RP)
RP_end = RP_start + len(RP)

# Variable region estimates
V1_start = FP_end
V1_end = MIP_start

V2_start = MIP_end
V2_end = RP_start

print(f'Boundary estimates\n----------------\nForward primer: [{FP_start}, {FP_end}]\n          VR 1: [{V1_start}, {V1_end}]\n    Mipomersen: [{MIP_start}, {MIP_end}]\n          VR 2: [{V2_start}, {V2_end}]\nReverse primer: [{RP_start}, {RP_end}]')

PADNA_1[FP_start:FP_end] == FP
PADNA_1[MIP_start:MIP_end] == MIP
PADNA_1[RP_start:RP_end] == RP


# Visual check on VR boundaries
print('AGTGCCATCGTGCGTATCC|TTCACTCCTTGCTCGACAAGAA|GCGAAGCAGACTGAGGC|GTCCGATGGTCTAATTCTTCA|GTAGACTGGAGACACGACG')

print('\nVariable Regions')
print(f'V1: {PADNA_1[V1_start:V1_end]}\nV2: {PADNA_1[V2_start:V2_end]}')


# Collect sequences of standard 98 bp length
