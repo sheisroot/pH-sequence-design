


import pandas as pd
import numpy as np
import matplotlib.pyplot as plt
from collections import Counter
from scipy.stats import ttest_1samp, poisson
from Bio import pairwise2
from Bio.pairwise2 import format_alignment



pd.set_option('display.float_format', '{:.10e}'.format)
pd.set_option('display.max_colwidth', 30)


csv_file = "../Data/R12-clean.csv"
df = pd.read_csv(csv_file)
df.head(5)





def extract_kmers(seq, k):
    """Extracts kmers from a sequence. Saves position and kmer chunk to preserve order and distance information for downstream secondary structure analysis. Collects kmers from all k reading frames."""
    all_kmers = [(i, seq[i:i+k]) for i in range(len(seq)-k+1)]
    return all_kmers


def getkmers(data, k):
    """Performs row-level extraction of kmers and returns long-form df."""
    kmer_data = []
    for idx, row in df.iterrows():
        kmers = extract_kmers(row['Sequence'], k)
        for position, kmer in kmers:
            kmer_data.append({'Sequence_ID': idx, 'Position': position, 'k-mer': kmer})
    
    kmer_df = pd.DataFrame(kmer_data)
    return kmer_df


getkmers(data=df, k=10).head()





# Define alignment function
def align(cr, seq):
    # Perform local alignment
    alignments = pairwise2.align.localms(seq, cr, 2, -1, -2, -0.5)
    best_alignment = alignments[0]
    
    # Extract aligned sequences
    aligned_seq1 = best_alignment.seqA
    aligned_seq2 = best_alignment.seqB

    # Map the aligned region back to PADNA_1
    start_in_seq2 = best_alignment.start + 1  # 1-based index for start
    end_in_seq2 = best_alignment.start + aligned_seq2.replace("-", "").rfind(next(c for c in reversed(aligned_seq2) if c != '-')) + 1

    # Display alignment and summary
    print(format_alignment(*best_alignment))
    print(f"Start = {start_in_seq2}, End = {end_in_seq2}")

# Define sequences
PADNA_1 = "AGTGCCATCGTGCGTATCCTTCACTCCTTGCTCGACAAGAAGCGAAGCAGACTGAGGCGTCCGATGGTCTAATTCTTCAGTAGACTGGAGACACGACG"
FP = "AAGTGCCATCGTGCGTATCC"

# Run alignment
align(FP, PADNA_1)


# Look at one 98 bp sequence, PADNA-1
PADNA_1 = "AGTGCCATCGTGCGTATCCTTCACTCCTTGCTCGACAAGAAGCGAAGCAGACTGAGGCGTCCGATGGTCTAATTCTTCA GTAGACTGGAGACACGACG"
FP = "AAGTGCCATCGTGCGTATCC"
MIP = "GCGAAGCAGACTGAGGC"
RP = "GTAGACTGGAGACACGACGA"

align(MIP, PADNA_5)


PADNA_5 = df.iloc[4,0]
print(PADNA_5)


align(RP, PADNA_5)


align(FP, PADNA_5)



