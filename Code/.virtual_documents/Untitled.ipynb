


import pandas as pd
import numpy as np
import matplotlib.pyplot as plt

pd.set_option('display.max_colwidth', 30)


csv_file = "../Data/R12-clean.csv"
df = pd.read_csv(csv_file)
df.head(5)


df['Sequence'][0]




