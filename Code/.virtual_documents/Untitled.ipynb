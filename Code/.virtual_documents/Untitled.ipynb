


import pandas as pd
import numpy as np
import matplotlib.pyplot as plt

pd.set_option('display.max_colwidth', 30)
