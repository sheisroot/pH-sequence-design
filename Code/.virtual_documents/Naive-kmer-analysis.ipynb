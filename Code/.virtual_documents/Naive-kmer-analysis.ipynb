


import pandas as pd
import numpy as np
import matplotlib.pyplot as plt
from collections import Counter
from scipy.stats import ttest_1samp, poisson
from Bio import pairwise2
from Bio.pairwise2 import format_alignment


pd.set_option('display.float_format', '{:.10e}'.format)
pd.set_option('display.max_colwidth', 30)


csv_file = "../Data/R12-clean.csv"
df = pd.read_csv(csv_file)
df.head(5)





# Ratio of GC to AT content
def GC_content(sequence):
    count = Counter(sequence)
    return (count['G'] + count['C'])/len(sequence)


df['GC content'] = df['Sequence'].apply(GC_content)


mean_GC = np.mean(df['GC content'])
median_GC = np.median(df['GC content'])
print(f'Mean: {np.round(mean_GC, 5)}\nMedian: {np.round(median_GC, 5)}')


plt.hist(df['GC content'], color= 'teal')
plt.title('GC content')
plt.xlim(0.3, 0.7)
plt.axvline(x=0.5, color='red')
# show mean and median lines
plt.axvline(x=mean_GC, color='navy', linestyle='--', label='Mean')
plt.axvline(x=median_GC, color='skyblue', linestyle='dotted', label='Median')
plt.text(mean_GC, 3500, 'mean', rotation=45)
plt.text(median_GC, 3000, 'median', rotation=45)
plt.show()


np.sum(df['GC content'] > 0.5)/len(df['GC content'])








t_stat, p_val = ttest_1samp(df['GC content'], 0.5)
print(f'T-statistic: {t_stat}, P-value: {p_val}')








def extract_kmers(seq, k):
    """Extracts kmers from a sequence. Saves position and kmer chunk to preserve order and distance information for downstream secondary structure analysis. Collects kmers from all k reading frames."""
    all_kmers = [(i, seq[i:i+k]) for i in range(len(seq)-k+1)]
    return all_kmers


def getkmers(data, k):
    kmer_data = []
    for idx, row in df.iterrows():
        kmers = extract_kmers(row['Sequence'], k)
        for position, kmer in kmers:
            kmer_data.append({'Sequence_ID': idx, 'Position': position, 'k-mer': kmer})
    
    kmer_df = pd.DataFrame(kmer_data)
    return kmer_df


getkmers(data=df, k=10).head()





# k=10
kmers = getkmers(df, 10)
kmers.head()



kmers_count = kmers['k-mer'].value_counts()
kmers_count.head()


# Plot histogram to get overview of distribution
kmers_count.plot(kind='hist', bins=50, color='teal')
plt.yscale('log')
plt.figsize=(10,6)
plt.title(f'{k}-mer Frequency Distribution')
plt.show()





# Exclude k-mers from constant regions
upper = 0.9 * len(df)
kmers_count[kmers_count < upper]











def align(kmer, constant_region):
    alignments = pairwise2.align.localms(kmer, constant_region, 2, -1, -5, -2, score_only=True)
    return alignments


def show_align(alignments):
    for alignment in alignments:
        print(format_alignment(*alignment))


FP = "AAGTGCCATCGTGCGTATCC"
MIP = "GCGAAGCAGACTGAGGC"
RP = "GTAGACTGGAGACACGACGA"
CRs = [FP, MIP, RP]
lower = 2_000
mid_candidates = kmers_count[(kmers_count > lower) & (kmers_count < upper)]
mid_candidates



kmer = "AGCGAAGCAG"
for c in CRs:
    show_align(align(kmer, c))





kmer = "GCGAAGCAGACTGAGGC"
np.sum(df['Sequence'].str.contains(kmer))





result = df['Sequence'].apply(lambda seq: align(seq, MIP))

result.value_counts()





kmer = "CGAAGCAGAC"
show_align(align(kmer, constant_region))


# Probability of random kmer occurrence
p_rkmer = (0.25)**k

# Total number of positions across the dataset
npos = len(df) * (np.mean(df['Length']) - k + 1)

# Expectation value
exp_occ = p_rkmer*npos
print(f'Expected Occurrences: {exp_occ:.3e}')





minimum = poisson.ppf(0.05, exp_occ)
print(f'Poisson threshold: {minimum:.3e}')



