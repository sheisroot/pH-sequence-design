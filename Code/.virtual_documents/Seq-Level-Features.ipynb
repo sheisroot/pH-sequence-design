


import pandas as pd
import numpy as np
import matplotlib.pyplot as plt
from collections import Counter
from scipy.stats import ttest_1samp, poisson

pd.set_option('display.float_format', '{:.10e}'.format)
pd.set_option('display.max_colwidth', 30)


csv_file = "../Data/R12-clean.csv"
df = pd.read_csv(csv_file)
df.head(5)





# Ratio of GC to AT content
def GC_content(sequence):
    count = Counter(sequence)
    return (count['G'] + count['C'])/len(sequence)


df['GC content'] = df['Sequence'].apply(GC_content)


mean_GC = np.mean(df['GC content'])
median_GC = np.median(df['GC content'])
print(f'Mean: {np.round(mean_GC, 5)}\nMedian: {np.round(median_GC, 5)}')


plt.hist(df['GC content'], color= 'teal')
plt.title('GC content')
plt.xlim(0.3, 0.7)
plt.axvline(x=0.5, color='red')
# show mean and median lines
plt.axvline(x=mean_GC, color='navy', linestyle='--', label='Mean')
plt.axvline(x=median_GC, color='skyblue', linestyle='dotted', label='Median')
plt.text(mean_GC, 3500, 'mean', rotation=45)
plt.text(median_GC, 3000, 'median', rotation=45)
plt.show()


np.sum(df['GC content'] > 0.5)/len(df['GC content'])








t_stat, p_val = ttest_1samp(df['GC content'], 0.5)
print(f'T-statistic: {t_stat}, P-value: {p_val}')








def extract_kmers(seq, k):
    """Extracts kmers from a sequence.
    Saves position and kmer chunk to preserve order and 
    distance information for downstream secondary structure
    analysis. Collects kmers from all k reading frames.
    """
    all_kmers = [(i, seq[i:i+k]) for i in range(len(seq)-k+1)]
    return all_kmers











# Convert to a new long-form df to leverage pd for analysis
kmer_data = []

for idx, row in df.iterrows():
    for position, kmer in row[f'{k}mers']:
        kmer_data.append({'Sequence_ID': idx, 'Position': position, 'k-mer': kmer})

kmer_df = pd.DataFrame(kmer_data)
kmer_df.head()


# Count k-mers across pool
kmer_counts = kmer_df['k-mer'].value_counts()
kmer_counts.tail()





# Plot histogram to get overview of distribution
kmer_counts.plot(kind='hist', bins=50, color='teal')
plt.yscale('log')
plt.figsize=(10,6)
plt.title(f'{k}-mer Frequency Distribution')
plt.show()








mask = (kmer_counts < 0.9 * len(df))
kmer_counts[mask].plot(kind='hist', bins=50, color='green')
plt.yscale('log')
plt.figsize=(10,6)
plt.title(f'{k}-mer Frequency Distribution\n(Excludes constant regions)')
plt.show()


# Probability of random kmer occurrence
p_rkmer = (0.25)**k

# Total number of positions across the dataset
npos = len(df) * (np.mean(df['Length']) - k + 1)

# Expectation value
exp_occ = p_rkmer*npos
print(f'Expected Occurrences: {exp_occ:.3e}')





minimum = poisson.ppf(0.05, exp_occ)
print(f'Poisson threshold: {minimum:.3e}')






