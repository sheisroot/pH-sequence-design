{
 "cells": [
  {
   "cell_type": "markdown",
   "id": "73e43723-2bf5-4c4a-ba28-e61e827e2ab0",
   "metadata": {},
   "source": [
    "# Starting EDA of pH project"
   ]
  },
  {
   "cell_type": "code",
   "execution_count": 36,
   "id": "ba40c155-e793-40b0-bd56-279295588974",
   "metadata": {},
   "outputs": [],
   "source": [
    "import pandas as pd\n",
    "import numpy as np\n",
    "import matplotlib.pyplot as plt\n",
    "import seaborn as sns\n",
    "from collections import Counter"
   ]
  },
  {
   "cell_type": "code",
   "execution_count": 37,
   "id": "2236e686-8e59-4c12-9435-3cb83580acd7",
   "metadata": {},
   "outputs": [
    {
     "data": {
      "text/html": [
       "<div>\n",
       "<style scoped>\n",
       "    .dataframe tbody tr th:only-of-type {\n",
       "        vertical-align: middle;\n",
       "    }\n",
       "\n",
       "    .dataframe tbody tr th {\n",
       "        vertical-align: top;\n",
       "    }\n",
       "\n",
       "    .dataframe thead th {\n",
       "        text-align: right;\n",
       "    }\n",
       "</style>\n",
       "<table border=\"1\" class=\"dataframe\">\n",
       "  <thead>\n",
       "    <tr style=\"text-align: right;\">\n",
       "      <th></th>\n",
       "      <th>Sequence</th>\n",
       "      <th>Count</th>\n",
       "    </tr>\n",
       "  </thead>\n",
       "  <tbody>\n",
       "    <tr>\n",
       "      <th>0</th>\n",
       "      <td>AGTGCCATCGTGCGTATCCTTCACTCCTTGCTCGACAAGAAGCGAA...</td>\n",
       "      <td>91</td>\n",
       "    </tr>\n",
       "    <tr>\n",
       "      <th>1</th>\n",
       "      <td>AGTGCCATCGTGCGTATCCTTCACGTTTGTTCTACAAAAGCGAAGC...</td>\n",
       "      <td>86</td>\n",
       "    </tr>\n",
       "    <tr>\n",
       "      <th>2</th>\n",
       "      <td>AGTGCCATCGTGCGTATCCTGAACATTGACGTGTAGTCAATGCGAA...</td>\n",
       "      <td>83</td>\n",
       "    </tr>\n",
       "    <tr>\n",
       "      <th>3</th>\n",
       "      <td>AGTGCCATCGTGCGTATCCCGCTCCGCTAATATCTATGTTAGCGAA...</td>\n",
       "      <td>80</td>\n",
       "    </tr>\n",
       "    <tr>\n",
       "      <th>4</th>\n",
       "      <td>AGTGCCATCGTGCGTATCCTGAACATAGACGTTTAGTCTATGCGAA...</td>\n",
       "      <td>78</td>\n",
       "    </tr>\n",
       "  </tbody>\n",
       "</table>\n",
       "</div>"
      ],
      "text/plain": [
       "                                            Sequence  Count\n",
       "0  AGTGCCATCGTGCGTATCCTTCACTCCTTGCTCGACAAGAAGCGAA...     91\n",
       "1  AGTGCCATCGTGCGTATCCTTCACGTTTGTTCTACAAAAGCGAAGC...     86\n",
       "2  AGTGCCATCGTGCGTATCCTGAACATTGACGTGTAGTCAATGCGAA...     83\n",
       "3  AGTGCCATCGTGCGTATCCCGCTCCGCTAATATCTATGTTAGCGAA...     80\n",
       "4  AGTGCCATCGTGCGTATCCTGAACATAGACGTTTAGTCTATGCGAA...     78"
      ]
     },
     "execution_count": 37,
     "metadata": {},
     "output_type": "execute_result"
    }
   ],
   "source": [
    "csv_file = \"output_file.csv\"\n",
    "df = pd.read_csv(csv_file)\n",
    "df.head()"
   ]
  },
  {
   "cell_type": "code",
   "execution_count": 38,
   "id": "ee74d87f-20d3-4008-8867-928c6265f3a6",
   "metadata": {},
   "outputs": [
    {
     "data": {
      "text/plain": [
       "(10383, 2)"
      ]
     },
     "execution_count": 38,
     "metadata": {},
     "output_type": "execute_result"
    }
   ],
   "source": [
    "df.shape"
   ]
  },
  {
   "cell_type": "code",
   "execution_count": 39,
   "id": "848df361-f6ce-4ac0-8dfa-931a2a0bc063",
   "metadata": {},
   "outputs": [
    {
     "data": {
      "text/plain": [
       "0"
      ]
     },
     "execution_count": 39,
     "metadata": {},
     "output_type": "execute_result"
    }
   ],
   "source": [
    "sum(df.iloc[:, 0].isnull())"
   ]
  },
  {
   "cell_type": "code",
   "execution_count": 40,
   "id": "ecbb6735-61ef-46aa-9a8c-6f75c236faae",
   "metadata": {},
   "outputs": [
    {
     "data": {
      "text/plain": [
       "0"
      ]
     },
     "execution_count": 40,
     "metadata": {},
     "output_type": "execute_result"
    }
   ],
   "source": [
    "sum(df.iloc[:, 1].isnull())"
   ]
  },
  {
   "cell_type": "code",
   "execution_count": 41,
   "id": "d6eb68d3-df11-43bc-9c93-638d90819682",
   "metadata": {},
   "outputs": [
    {
     "data": {
      "text/plain": [
       "Sequence    object\n",
       "Count        int64\n",
       "dtype: object"
      ]
     },
     "execution_count": 41,
     "metadata": {},
     "output_type": "execute_result"
    }
   ],
   "source": [
    "df.dtypes"
   ]
  },
  {
   "cell_type": "code",
   "execution_count": 42,
   "id": "e8dc8709-f882-49cb-9d81-db1cdd1b610a",
   "metadata": {},
   "outputs": [],
   "source": [
    "# check base type proportions\n",
    "def base_count(text):\n",
    "    return dict(Counter(text))   "
   ]
  },
  {
   "cell_type": "code",
   "execution_count": 43,
   "id": "2562f60c-8510-4c2f-b7ea-6fad625b130b",
   "metadata": {},
   "outputs": [],
   "source": [
    "df['Base Counts'] = df['Sequence'].apply(base_count)\n",
    "# df['Base Counts'][1]['A']\n",
    "df['A'] = df['Base Counts'].astype(object).apply(lambda x: x.get('A', np.nan))\n",
    "df['C'] = df['Base Counts'].astype(object).apply(lambda x: x.get('C', np.nan))\n",
    "df['T'] = df['Base Counts'].astype(object).apply(lambda x: x.get('G', np.nan))\n",
    "df['G'] = df['Base Counts'].astype(object).apply(lambda x: x.get('T', np.nan))"
   ]
  },
  {
   "cell_type": "code",
   "execution_count": 44,
   "id": "b016a41d-3b52-4587-993f-9a5c47e3ff04",
   "metadata": {},
   "outputs": [
    {
     "data": {
      "text/html": [
       "<div>\n",
       "<style scoped>\n",
       "    .dataframe tbody tr th:only-of-type {\n",
       "        vertical-align: middle;\n",
       "    }\n",
       "\n",
       "    .dataframe tbody tr th {\n",
       "        vertical-align: top;\n",
       "    }\n",
       "\n",
       "    .dataframe thead th {\n",
       "        text-align: right;\n",
       "    }\n",
       "</style>\n",
       "<table border=\"1\" class=\"dataframe\">\n",
       "  <thead>\n",
       "    <tr style=\"text-align: right;\">\n",
       "      <th></th>\n",
       "      <th>A</th>\n",
       "      <th>C</th>\n",
       "      <th>T</th>\n",
       "      <th>G</th>\n",
       "    </tr>\n",
       "  </thead>\n",
       "  <tbody>\n",
       "    <tr>\n",
       "      <th>0</th>\n",
       "      <td>24</td>\n",
       "      <td>26</td>\n",
       "      <td>26</td>\n",
       "      <td>22</td>\n",
       "    </tr>\n",
       "    <tr>\n",
       "      <th>1</th>\n",
       "      <td>22</td>\n",
       "      <td>27</td>\n",
       "      <td>29</td>\n",
       "      <td>20</td>\n",
       "    </tr>\n",
       "    <tr>\n",
       "      <th>2</th>\n",
       "      <td>23</td>\n",
       "      <td>23</td>\n",
       "      <td>29</td>\n",
       "      <td>23</td>\n",
       "    </tr>\n",
       "    <tr>\n",
       "      <th>3</th>\n",
       "      <td>24</td>\n",
       "      <td>25</td>\n",
       "      <td>28</td>\n",
       "      <td>21</td>\n",
       "    </tr>\n",
       "    <tr>\n",
       "      <th>4</th>\n",
       "      <td>24</td>\n",
       "      <td>21</td>\n",
       "      <td>30</td>\n",
       "      <td>23</td>\n",
       "    </tr>\n",
       "  </tbody>\n",
       "</table>\n",
       "</div>"
      ],
      "text/plain": [
       "    A   C   T   G\n",
       "0  24  26  26  22\n",
       "1  22  27  29  20\n",
       "2  23  23  29  23\n",
       "3  24  25  28  21\n",
       "4  24  21  30  23"
      ]
     },
     "execution_count": 44,
     "metadata": {},
     "output_type": "execute_result"
    }
   ],
   "source": [
    "df.head().iloc[:, 3:]"
   ]
  },
  {
   "cell_type": "code",
   "execution_count": 45,
   "id": "82187302-2d62-4847-b0a9-bebab93cf7f8",
   "metadata": {},
   "outputs": [],
   "source": [
    "df['Length'] = df['Sequence'].apply(len)"
   ]
  },
  {
   "cell_type": "code",
   "execution_count": 46,
   "id": "39528d80-fb8a-42f3-811f-e0973bed4c85",
   "metadata": {},
   "outputs": [
    {
     "data": {
      "text/plain": [
       "0"
      ]
     },
     "execution_count": 46,
     "metadata": {},
     "output_type": "execute_result"
    }
   ],
   "source": [
    "sum((np.sum(df[['A', 'C', 'T', 'G']], axis=1) == df['Length']).isnull()) # Checks base counts add up to length of sequence"
   ]
  },
  {
   "cell_type": "code",
   "execution_count": 47,
   "id": "57e21c8b-fb35-426d-b3ef-145a859e2de3",
   "metadata": {},
   "outputs": [
    {
     "data": {
      "text/plain": [
       "0"
      ]
     },
     "execution_count": 47,
     "metadata": {},
     "output_type": "execute_result"
    }
   ],
   "source": [
    "allowed_keys = {'A', 'C', 'T', 'G'} # Checks that there are no weird nonstandard bases\n",
    "df['Nonstandard base'] = df['Base Counts'].astype(object).apply(lambda x: not set(x.keys()).issubset(allowed_keys))\n",
    "np.sum(df['Nonstandard base'])"
   ]
  },
  {
   "cell_type": "code",
   "execution_count": 48,
   "id": "90feae3b-dc0f-4975-a6c9-f03214da53ad",
   "metadata": {},
   "outputs": [
    {
     "data": {
      "text/html": [
       "<div>\n",
       "<style scoped>\n",
       "    .dataframe tbody tr th:only-of-type {\n",
       "        vertical-align: middle;\n",
       "    }\n",
       "\n",
       "    .dataframe tbody tr th {\n",
       "        vertical-align: top;\n",
       "    }\n",
       "\n",
       "    .dataframe thead th {\n",
       "        text-align: right;\n",
       "    }\n",
       "</style>\n",
       "<table border=\"1\" class=\"dataframe\">\n",
       "  <thead>\n",
       "    <tr style=\"text-align: right;\">\n",
       "      <th></th>\n",
       "      <th>Sequence</th>\n",
       "      <th>Count</th>\n",
       "      <th>Base Counts</th>\n",
       "      <th>A</th>\n",
       "      <th>C</th>\n",
       "      <th>T</th>\n",
       "      <th>G</th>\n",
       "      <th>Length</th>\n",
       "      <th>Nonstandard base</th>\n",
       "    </tr>\n",
       "  </thead>\n",
       "  <tbody>\n",
       "    <tr>\n",
       "      <th>0</th>\n",
       "      <td>AGTGCCATCGTGCGTATCCTTCACTCCTTGCTCGACAAGAAGCGAA...</td>\n",
       "      <td>91</td>\n",
       "      <td>{'A': 24, 'G': 26, 'T': 22, 'C': 26}</td>\n",
       "      <td>24</td>\n",
       "      <td>26</td>\n",
       "      <td>26</td>\n",
       "      <td>22</td>\n",
       "      <td>98</td>\n",
       "      <td>False</td>\n",
       "    </tr>\n",
       "    <tr>\n",
       "      <th>1</th>\n",
       "      <td>AGTGCCATCGTGCGTATCCTTCACGTTTGTTCTACAAAAGCGAAGC...</td>\n",
       "      <td>86</td>\n",
       "      <td>{'A': 22, 'G': 29, 'T': 20, 'C': 27}</td>\n",
       "      <td>22</td>\n",
       "      <td>27</td>\n",
       "      <td>29</td>\n",
       "      <td>20</td>\n",
       "      <td>98</td>\n",
       "      <td>False</td>\n",
       "    </tr>\n",
       "    <tr>\n",
       "      <th>2</th>\n",
       "      <td>AGTGCCATCGTGCGTATCCTGAACATTGACGTGTAGTCAATGCGAA...</td>\n",
       "      <td>83</td>\n",
       "      <td>{'A': 23, 'G': 29, 'T': 23, 'C': 23}</td>\n",
       "      <td>23</td>\n",
       "      <td>23</td>\n",
       "      <td>29</td>\n",
       "      <td>23</td>\n",
       "      <td>98</td>\n",
       "      <td>False</td>\n",
       "    </tr>\n",
       "    <tr>\n",
       "      <th>3</th>\n",
       "      <td>AGTGCCATCGTGCGTATCCCGCTCCGCTAATATCTATGTTAGCGAA...</td>\n",
       "      <td>80</td>\n",
       "      <td>{'A': 24, 'G': 28, 'T': 21, 'C': 25}</td>\n",
       "      <td>24</td>\n",
       "      <td>25</td>\n",
       "      <td>28</td>\n",
       "      <td>21</td>\n",
       "      <td>98</td>\n",
       "      <td>False</td>\n",
       "    </tr>\n",
       "    <tr>\n",
       "      <th>4</th>\n",
       "      <td>AGTGCCATCGTGCGTATCCTGAACATAGACGTTTAGTCTATGCGAA...</td>\n",
       "      <td>78</td>\n",
       "      <td>{'A': 24, 'G': 30, 'T': 23, 'C': 21}</td>\n",
       "      <td>24</td>\n",
       "      <td>21</td>\n",
       "      <td>30</td>\n",
       "      <td>23</td>\n",
       "      <td>98</td>\n",
       "      <td>False</td>\n",
       "    </tr>\n",
       "  </tbody>\n",
       "</table>\n",
       "</div>"
      ],
      "text/plain": [
       "                                            Sequence  Count  \\\n",
       "0  AGTGCCATCGTGCGTATCCTTCACTCCTTGCTCGACAAGAAGCGAA...     91   \n",
       "1  AGTGCCATCGTGCGTATCCTTCACGTTTGTTCTACAAAAGCGAAGC...     86   \n",
       "2  AGTGCCATCGTGCGTATCCTGAACATTGACGTGTAGTCAATGCGAA...     83   \n",
       "3  AGTGCCATCGTGCGTATCCCGCTCCGCTAATATCTATGTTAGCGAA...     80   \n",
       "4  AGTGCCATCGTGCGTATCCTGAACATAGACGTTTAGTCTATGCGAA...     78   \n",
       "\n",
       "                            Base Counts   A   C   T   G  Length  \\\n",
       "0  {'A': 24, 'G': 26, 'T': 22, 'C': 26}  24  26  26  22      98   \n",
       "1  {'A': 22, 'G': 29, 'T': 20, 'C': 27}  22  27  29  20      98   \n",
       "2  {'A': 23, 'G': 29, 'T': 23, 'C': 23}  23  23  29  23      98   \n",
       "3  {'A': 24, 'G': 28, 'T': 21, 'C': 25}  24  25  28  21      98   \n",
       "4  {'A': 24, 'G': 30, 'T': 23, 'C': 21}  24  21  30  23      98   \n",
       "\n",
       "   Nonstandard base  \n",
       "0             False  \n",
       "1             False  \n",
       "2             False  \n",
       "3             False  \n",
       "4             False  "
      ]
     },
     "execution_count": 48,
     "metadata": {},
     "output_type": "execute_result"
    }
   ],
   "source": [
    "df.head()"
   ]
  },
  {
   "cell_type": "code",
   "execution_count": 56,
   "id": "700a2839-4864-4fc1-b533-31b095e1ffa1",
   "metadata": {},
   "outputs": [
    {
     "data": {
      "text/plain": [
       "Length\n",
       "98     9893\n",
       "97      325\n",
       "99       65\n",
       "96       42\n",
       "95       11\n",
       "94        7\n",
       "88        7\n",
       "87        4\n",
       "91        4\n",
       "84        3\n",
       "90        3\n",
       "93        3\n",
       "86        3\n",
       "85        3\n",
       "92        3\n",
       "89        1\n",
       "107       1\n",
       "102       1\n",
       "108       1\n",
       "82        1\n",
       "100       1\n",
       "83        1\n",
       "Name: count, dtype: int64"
      ]
     },
     "execution_count": 56,
     "metadata": {},
     "output_type": "execute_result"
    }
   ],
   "source": [
    "df['Length'].value_counts().sort_values(ascending=False)"
   ]
  },
  {
   "cell_type": "markdown",
   "id": "3dadf1fc-b3a2-4aa5-aac4-cddbf4a4f0d5",
   "metadata": {},
   "source": [
    "The sequences range in length from 82 to 108, but most commonly at 98.\n",
    "As I recally, NGS clips the first few base pairs down from nominal 100 because of poor quality.\n",
    "The other variants in sequence length are likely due to mutations from PCR errors."
   ]
  },
  {
   "cell_type": "code",
   "execution_count": null,
   "id": "d0cef6d7-5d8b-471c-829f-4ec6390d04cd",
   "metadata": {},
   "outputs": [],
   "source": []
  }
 ],
 "metadata": {
  "kernelspec": {
   "display_name": "Python 3 (ipykernel)",
   "language": "python",
   "name": "python3"
  },
  "language_info": {
   "codemirror_mode": {
    "name": "ipython",
    "version": 3
   },
   "file_extension": ".py",
   "mimetype": "text/x-python",
   "name": "python",
   "nbconvert_exporter": "python",
   "pygments_lexer": "ipython3",
   "version": "3.11.5"
  }
 },
 "nbformat": 4,
 "nbformat_minor": 5
}
