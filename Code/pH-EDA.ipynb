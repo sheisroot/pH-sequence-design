{
 "cells": [
  {
   "cell_type": "markdown",
   "id": "73e43723-2bf5-4c4a-ba28-e61e827e2ab0",
   "metadata": {},
   "source": [
    "# Starting EDA of pH project"
   ]
  },
  {
   "cell_type": "code",
   "execution_count": 115,
   "id": "ba40c155-e793-40b0-bd56-279295588974",
   "metadata": {},
   "outputs": [],
   "source": [
    "import pandas as pd\n",
    "import numpy as np\n",
    "import matplotlib.pyplot as plt\n",
    "import statsmodels.api as sm\n",
    "from collections import Counter\n",
    "from sklearn.linear_model import LinearRegression\n",
    "import seaborn as sns\n",
    "\n",
    "pd.set_option('display.max_colwidth', 30)"
   ]
  },
  {
   "cell_type": "code",
   "execution_count": 116,
   "id": "2236e686-8e59-4c12-9435-3cb83580acd7",
   "metadata": {},
   "outputs": [
    {
     "data": {
      "text/html": [
       "<div>\n",
       "<style scoped>\n",
       "    .dataframe tbody tr th:only-of-type {\n",
       "        vertical-align: middle;\n",
       "    }\n",
       "\n",
       "    .dataframe tbody tr th {\n",
       "        vertical-align: top;\n",
       "    }\n",
       "\n",
       "    .dataframe thead th {\n",
       "        text-align: right;\n",
       "    }\n",
       "</style>\n",
       "<table border=\"1\" class=\"dataframe\">\n",
       "  <thead>\n",
       "    <tr style=\"text-align: right;\">\n",
       "      <th></th>\n",
       "      <th>Sequence</th>\n",
       "      <th>Copy Num</th>\n",
       "    </tr>\n",
       "  </thead>\n",
       "  <tbody>\n",
       "    <tr>\n",
       "      <th>0</th>\n",
       "      <td>AGTGCCATCGTGCGTATCCTTCACTC...</td>\n",
       "      <td>91</td>\n",
       "    </tr>\n",
       "    <tr>\n",
       "      <th>1</th>\n",
       "      <td>AGTGCCATCGTGCGTATCCTTCACGT...</td>\n",
       "      <td>86</td>\n",
       "    </tr>\n",
       "    <tr>\n",
       "      <th>2</th>\n",
       "      <td>AGTGCCATCGTGCGTATCCTGAACAT...</td>\n",
       "      <td>83</td>\n",
       "    </tr>\n",
       "    <tr>\n",
       "      <th>3</th>\n",
       "      <td>AGTGCCATCGTGCGTATCCCGCTCCG...</td>\n",
       "      <td>80</td>\n",
       "    </tr>\n",
       "    <tr>\n",
       "      <th>4</th>\n",
       "      <td>AGTGCCATCGTGCGTATCCTGAACAT...</td>\n",
       "      <td>78</td>\n",
       "    </tr>\n",
       "  </tbody>\n",
       "</table>\n",
       "</div>"
      ],
      "text/plain": [
       "                        Sequence  Copy Num\n",
       "0  AGTGCCATCGTGCGTATCCTTCACTC...        91\n",
       "1  AGTGCCATCGTGCGTATCCTTCACGT...        86\n",
       "2  AGTGCCATCGTGCGTATCCTGAACAT...        83\n",
       "3  AGTGCCATCGTGCGTATCCCGCTCCG...        80\n",
       "4  AGTGCCATCGTGCGTATCCTGAACAT...        78"
      ]
     },
     "execution_count": 116,
     "metadata": {},
     "output_type": "execute_result"
    }
   ],
   "source": [
    "csv_file = \"../Data/R12-over-10-copies.csv\"\n",
    "df = pd.read_csv(csv_file)\n",
    "df.rename(columns={'Count':'Copy Num'}, inplace=True)\n",
    "df.head()"
   ]
  },
  {
   "cell_type": "code",
   "execution_count": 117,
   "id": "ee74d87f-20d3-4008-8867-928c6265f3a6",
   "metadata": {},
   "outputs": [
    {
     "data": {
      "text/plain": [
       "(10383, 2)"
      ]
     },
     "execution_count": 117,
     "metadata": {},
     "output_type": "execute_result"
    }
   ],
   "source": [
    "df.shape"
   ]
  },
  {
   "cell_type": "code",
   "execution_count": 118,
   "id": "848df361-f6ce-4ac0-8dfa-931a2a0bc063",
   "metadata": {},
   "outputs": [
    {
     "data": {
      "text/plain": [
       "0"
      ]
     },
     "execution_count": 118,
     "metadata": {},
     "output_type": "execute_result"
    }
   ],
   "source": [
    "sum(df.iloc[:, 0].isnull())"
   ]
  },
  {
   "cell_type": "code",
   "execution_count": 119,
   "id": "ecbb6735-61ef-46aa-9a8c-6f75c236faae",
   "metadata": {},
   "outputs": [
    {
     "data": {
      "text/plain": [
       "0"
      ]
     },
     "execution_count": 119,
     "metadata": {},
     "output_type": "execute_result"
    }
   ],
   "source": [
    "sum(df.iloc[:, 1].isnull())"
   ]
  },
  {
   "cell_type": "code",
   "execution_count": 120,
   "id": "d6eb68d3-df11-43bc-9c93-638d90819682",
   "metadata": {},
   "outputs": [
    {
     "data": {
      "text/plain": [
       "Sequence    object\n",
       "Copy Num     int64\n",
       "dtype: object"
      ]
     },
     "execution_count": 120,
     "metadata": {},
     "output_type": "execute_result"
    }
   ],
   "source": [
    "df.dtypes"
   ]
  },
  {
   "cell_type": "code",
   "execution_count": 121,
   "id": "e8dc8709-f882-49cb-9d81-db1cdd1b610a",
   "metadata": {},
   "outputs": [],
   "source": [
    "# check base type proportions\n",
    "def base_count(text):\n",
    "    return dict(Counter(text))   "
   ]
  },
  {
   "cell_type": "code",
   "execution_count": 122,
   "id": "2562f60c-8510-4c2f-b7ea-6fad625b130b",
   "metadata": {},
   "outputs": [],
   "source": [
    "df['Base Counts'] = df['Sequence'].apply(base_count)\n",
    "\n",
    "df['A'] = df['Base Counts'].astype(object).apply(lambda x: x.get('A', np.nan))\n",
    "df['C'] = df['Base Counts'].astype(object).apply(lambda x: x.get('C', np.nan))\n",
    "df['T'] = df['Base Counts'].astype(object).apply(lambda x: x.get('G', np.nan))\n",
    "df['G'] = df['Base Counts'].astype(object).apply(lambda x: x.get('T', np.nan))"
   ]
  },
  {
   "cell_type": "code",
   "execution_count": 123,
   "id": "b016a41d-3b52-4587-993f-9a5c47e3ff04",
   "metadata": {},
   "outputs": [
    {
     "data": {
      "text/html": [
       "<div>\n",
       "<style scoped>\n",
       "    .dataframe tbody tr th:only-of-type {\n",
       "        vertical-align: middle;\n",
       "    }\n",
       "\n",
       "    .dataframe tbody tr th {\n",
       "        vertical-align: top;\n",
       "    }\n",
       "\n",
       "    .dataframe thead th {\n",
       "        text-align: right;\n",
       "    }\n",
       "</style>\n",
       "<table border=\"1\" class=\"dataframe\">\n",
       "  <thead>\n",
       "    <tr style=\"text-align: right;\">\n",
       "      <th></th>\n",
       "      <th>A</th>\n",
       "      <th>C</th>\n",
       "      <th>T</th>\n",
       "      <th>G</th>\n",
       "    </tr>\n",
       "  </thead>\n",
       "  <tbody>\n",
       "    <tr>\n",
       "      <th>0</th>\n",
       "      <td>24</td>\n",
       "      <td>26</td>\n",
       "      <td>26</td>\n",
       "      <td>22</td>\n",
       "    </tr>\n",
       "    <tr>\n",
       "      <th>1</th>\n",
       "      <td>22</td>\n",
       "      <td>27</td>\n",
       "      <td>29</td>\n",
       "      <td>20</td>\n",
       "    </tr>\n",
       "    <tr>\n",
       "      <th>2</th>\n",
       "      <td>23</td>\n",
       "      <td>23</td>\n",
       "      <td>29</td>\n",
       "      <td>23</td>\n",
       "    </tr>\n",
       "    <tr>\n",
       "      <th>3</th>\n",
       "      <td>24</td>\n",
       "      <td>25</td>\n",
       "      <td>28</td>\n",
       "      <td>21</td>\n",
       "    </tr>\n",
       "    <tr>\n",
       "      <th>4</th>\n",
       "      <td>24</td>\n",
       "      <td>21</td>\n",
       "      <td>30</td>\n",
       "      <td>23</td>\n",
       "    </tr>\n",
       "  </tbody>\n",
       "</table>\n",
       "</div>"
      ],
      "text/plain": [
       "    A   C   T   G\n",
       "0  24  26  26  22\n",
       "1  22  27  29  20\n",
       "2  23  23  29  23\n",
       "3  24  25  28  21\n",
       "4  24  21  30  23"
      ]
     },
     "execution_count": 123,
     "metadata": {},
     "output_type": "execute_result"
    }
   ],
   "source": [
    "base_columns = ['A', 'C', 'G', 'G']\n",
    "colors = ['red', 'green', 'orange', 'purple']\n",
    "base_colors = dict(zip(base_columns, colors))\n",
    "df.head().iloc[:, 3:]"
   ]
  },
  {
   "cell_type": "code",
   "execution_count": 124,
   "id": "82187302-2d62-4847-b0a9-bebab93cf7f8",
   "metadata": {},
   "outputs": [],
   "source": [
    "df['Length'] = df['Sequence'].apply(len)"
   ]
  },
  {
   "cell_type": "code",
   "execution_count": 125,
   "id": "39528d80-fb8a-42f3-811f-e0973bed4c85",
   "metadata": {},
   "outputs": [
    {
     "data": {
      "text/plain": [
       "0"
      ]
     },
     "execution_count": 125,
     "metadata": {},
     "output_type": "execute_result"
    }
   ],
   "source": [
    "sum((np.sum(df[base_columns], axis=1) == df['Length']).isnull()) # Checks base counts add up to length of sequence"
   ]
  },
  {
   "cell_type": "code",
   "execution_count": 126,
   "id": "57e21c8b-fb35-426d-b3ef-145a859e2de3",
   "metadata": {},
   "outputs": [
    {
     "data": {
      "text/plain": [
       "0"
      ]
     },
     "execution_count": 126,
     "metadata": {},
     "output_type": "execute_result"
    }
   ],
   "source": [
    "allowed_keys = {'A', 'C', 'T', 'G'} # Checks that there are no weird nonstandard bases\n",
    "df['Nonstandard base'] = df['Base Counts'].astype(object).apply(lambda x: not set(x.keys()).issubset(allowed_keys))\n",
    "np.sum(df['Nonstandard base'])"
   ]
  },
  {
   "cell_type": "code",
   "execution_count": 127,
   "id": "90feae3b-dc0f-4975-a6c9-f03214da53ad",
   "metadata": {},
   "outputs": [
    {
     "data": {
      "text/html": [
       "<div>\n",
       "<style scoped>\n",
       "    .dataframe tbody tr th:only-of-type {\n",
       "        vertical-align: middle;\n",
       "    }\n",
       "\n",
       "    .dataframe tbody tr th {\n",
       "        vertical-align: top;\n",
       "    }\n",
       "\n",
       "    .dataframe thead th {\n",
       "        text-align: right;\n",
       "    }\n",
       "</style>\n",
       "<table border=\"1\" class=\"dataframe\">\n",
       "  <thead>\n",
       "    <tr style=\"text-align: right;\">\n",
       "      <th></th>\n",
       "      <th>Sequence</th>\n",
       "      <th>Copy Num</th>\n",
       "      <th>Base Counts</th>\n",
       "      <th>A</th>\n",
       "      <th>C</th>\n",
       "      <th>T</th>\n",
       "      <th>G</th>\n",
       "      <th>Length</th>\n",
       "      <th>Nonstandard base</th>\n",
       "    </tr>\n",
       "  </thead>\n",
       "  <tbody>\n",
       "    <tr>\n",
       "      <th>0</th>\n",
       "      <td>AGTGCCATCGTGCGTATCCTTCACTC...</td>\n",
       "      <td>91</td>\n",
       "      <td>{'A': 24, 'G': 26, 'T': 22...</td>\n",
       "      <td>24</td>\n",
       "      <td>26</td>\n",
       "      <td>26</td>\n",
       "      <td>22</td>\n",
       "      <td>98</td>\n",
       "      <td>False</td>\n",
       "    </tr>\n",
       "    <tr>\n",
       "      <th>1</th>\n",
       "      <td>AGTGCCATCGTGCGTATCCTTCACGT...</td>\n",
       "      <td>86</td>\n",
       "      <td>{'A': 22, 'G': 29, 'T': 20...</td>\n",
       "      <td>22</td>\n",
       "      <td>27</td>\n",
       "      <td>29</td>\n",
       "      <td>20</td>\n",
       "      <td>98</td>\n",
       "      <td>False</td>\n",
       "    </tr>\n",
       "    <tr>\n",
       "      <th>2</th>\n",
       "      <td>AGTGCCATCGTGCGTATCCTGAACAT...</td>\n",
       "      <td>83</td>\n",
       "      <td>{'A': 23, 'G': 29, 'T': 23...</td>\n",
       "      <td>23</td>\n",
       "      <td>23</td>\n",
       "      <td>29</td>\n",
       "      <td>23</td>\n",
       "      <td>98</td>\n",
       "      <td>False</td>\n",
       "    </tr>\n",
       "    <tr>\n",
       "      <th>3</th>\n",
       "      <td>AGTGCCATCGTGCGTATCCCGCTCCG...</td>\n",
       "      <td>80</td>\n",
       "      <td>{'A': 24, 'G': 28, 'T': 21...</td>\n",
       "      <td>24</td>\n",
       "      <td>25</td>\n",
       "      <td>28</td>\n",
       "      <td>21</td>\n",
       "      <td>98</td>\n",
       "      <td>False</td>\n",
       "    </tr>\n",
       "    <tr>\n",
       "      <th>4</th>\n",
       "      <td>AGTGCCATCGTGCGTATCCTGAACAT...</td>\n",
       "      <td>78</td>\n",
       "      <td>{'A': 24, 'G': 30, 'T': 23...</td>\n",
       "      <td>24</td>\n",
       "      <td>21</td>\n",
       "      <td>30</td>\n",
       "      <td>23</td>\n",
       "      <td>98</td>\n",
       "      <td>False</td>\n",
       "    </tr>\n",
       "  </tbody>\n",
       "</table>\n",
       "</div>"
      ],
      "text/plain": [
       "                        Sequence  Copy Num  ... Length  Nonstandard base\n",
       "0  AGTGCCATCGTGCGTATCCTTCACTC...        91  ...     98             False\n",
       "1  AGTGCCATCGTGCGTATCCTTCACGT...        86  ...     98             False\n",
       "2  AGTGCCATCGTGCGTATCCTGAACAT...        83  ...     98             False\n",
       "3  AGTGCCATCGTGCGTATCCCGCTCCG...        80  ...     98             False\n",
       "4  AGTGCCATCGTGCGTATCCTGAACAT...        78  ...     98             False\n",
       "\n",
       "[5 rows x 9 columns]"
      ]
     },
     "execution_count": 127,
     "metadata": {},
     "output_type": "execute_result"
    }
   ],
   "source": [
    "df.head()"
   ]
  },
  {
   "cell_type": "code",
   "execution_count": 128,
   "id": "700a2839-4864-4fc1-b533-31b095e1ffa1",
   "metadata": {},
   "outputs": [
    {
     "data": {
      "text/plain": [
       "Length\n",
       "98     9893\n",
       "97      325\n",
       "99       65\n",
       "96       42\n",
       "95       11\n",
       "94        7\n",
       "88        7\n",
       "87        4\n",
       "91        4\n",
       "84        3\n",
       "90        3\n",
       "93        3\n",
       "86        3\n",
       "85        3\n",
       "92        3\n",
       "89        1\n",
       "107       1\n",
       "102       1\n",
       "108       1\n",
       "82        1\n",
       "100       1\n",
       "83        1\n",
       "Name: count, dtype: int64"
      ]
     },
     "execution_count": 128,
     "metadata": {},
     "output_type": "execute_result"
    }
   ],
   "source": [
    "df['Length'].value_counts().sort_values(ascending=False)"
   ]
  },
  {
   "cell_type": "markdown",
   "id": "3dadf1fc-b3a2-4aa5-aac4-cddbf4a4f0d5",
   "metadata": {},
   "source": [
    "The sequences range in length from 82 to 108, but most commonly at 98.\n",
    "As I recally, NGS clips the first few base pairs down from nominal 100 because of poor quality.\n",
    "The other variants in sequence length are likely due to mutations from PCR errors."
   ]
  },
  {
   "cell_type": "code",
   "execution_count": 129,
   "id": "d0cef6d7-5d8b-471c-829f-4ec6390d04cd",
   "metadata": {},
   "outputs": [
    {
     "data": {
      "text/html": [
       "<div>\n",
       "<style scoped>\n",
       "    .dataframe tbody tr th:only-of-type {\n",
       "        vertical-align: middle;\n",
       "    }\n",
       "\n",
       "    .dataframe tbody tr th {\n",
       "        vertical-align: top;\n",
       "    }\n",
       "\n",
       "    .dataframe thead th {\n",
       "        text-align: right;\n",
       "    }\n",
       "</style>\n",
       "<table border=\"1\" class=\"dataframe\">\n",
       "  <thead>\n",
       "    <tr style=\"text-align: right;\">\n",
       "      <th></th>\n",
       "      <th>Sequence</th>\n",
       "      <th>Length</th>\n",
       "      <th>Copy Num</th>\n",
       "      <th>A</th>\n",
       "      <th>C</th>\n",
       "      <th>T</th>\n",
       "      <th>G</th>\n",
       "    </tr>\n",
       "  </thead>\n",
       "  <tbody>\n",
       "    <tr>\n",
       "      <th>0</th>\n",
       "      <td>AGTGCCATCGTGCGTATCCTTCACTC...</td>\n",
       "      <td>98</td>\n",
       "      <td>91</td>\n",
       "      <td>24</td>\n",
       "      <td>26</td>\n",
       "      <td>26</td>\n",
       "      <td>22</td>\n",
       "    </tr>\n",
       "    <tr>\n",
       "      <th>1</th>\n",
       "      <td>AGTGCCATCGTGCGTATCCTTCACGT...</td>\n",
       "      <td>98</td>\n",
       "      <td>86</td>\n",
       "      <td>22</td>\n",
       "      <td>27</td>\n",
       "      <td>29</td>\n",
       "      <td>20</td>\n",
       "    </tr>\n",
       "    <tr>\n",
       "      <th>2</th>\n",
       "      <td>AGTGCCATCGTGCGTATCCTGAACAT...</td>\n",
       "      <td>98</td>\n",
       "      <td>83</td>\n",
       "      <td>23</td>\n",
       "      <td>23</td>\n",
       "      <td>29</td>\n",
       "      <td>23</td>\n",
       "    </tr>\n",
       "    <tr>\n",
       "      <th>3</th>\n",
       "      <td>AGTGCCATCGTGCGTATCCCGCTCCG...</td>\n",
       "      <td>98</td>\n",
       "      <td>80</td>\n",
       "      <td>24</td>\n",
       "      <td>25</td>\n",
       "      <td>28</td>\n",
       "      <td>21</td>\n",
       "    </tr>\n",
       "    <tr>\n",
       "      <th>4</th>\n",
       "      <td>AGTGCCATCGTGCGTATCCTGAACAT...</td>\n",
       "      <td>98</td>\n",
       "      <td>78</td>\n",
       "      <td>24</td>\n",
       "      <td>21</td>\n",
       "      <td>30</td>\n",
       "      <td>23</td>\n",
       "    </tr>\n",
       "  </tbody>\n",
       "</table>\n",
       "</div>"
      ],
      "text/plain": [
       "                        Sequence  Length  Copy Num   A   C   T   G\n",
       "0  AGTGCCATCGTGCGTATCCTTCACTC...      98        91  24  26  26  22\n",
       "1  AGTGCCATCGTGCGTATCCTTCACGT...      98        86  22  27  29  20\n",
       "2  AGTGCCATCGTGCGTATCCTGAACAT...      98        83  23  23  29  23\n",
       "3  AGTGCCATCGTGCGTATCCCGCTCCG...      98        80  24  25  28  21\n",
       "4  AGTGCCATCGTGCGTATCCTGAACAT...      98        78  24  21  30  23"
      ]
     },
     "execution_count": 129,
     "metadata": {},
     "output_type": "execute_result"
    }
   ],
   "source": [
    "v_df = df # Save a verbose version of df\n",
    "df = df[['Sequence', 'Length', 'Copy Num', 'A', 'C', 'T', 'G']]\n",
    "df.head()"
   ]
  },
  {
   "cell_type": "code",
   "execution_count": 130,
   "id": "16f273e5-21f7-40be-989b-80ccc921af74",
   "metadata": {},
   "outputs": [],
   "source": [
    "for col in base_columns:\n",
    "    df.loc[:, col] = df[col]/df['Length']"
   ]
  },
  {
   "cell_type": "code",
   "execution_count": 131,
   "id": "aceb5ab6-973c-454c-b543-cc5d5f608cf0",
   "metadata": {},
   "outputs": [
    {
     "data": {
      "text/html": [
       "<div>\n",
       "<style scoped>\n",
       "    .dataframe tbody tr th:only-of-type {\n",
       "        vertical-align: middle;\n",
       "    }\n",
       "\n",
       "    .dataframe tbody tr th {\n",
       "        vertical-align: top;\n",
       "    }\n",
       "\n",
       "    .dataframe thead th {\n",
       "        text-align: right;\n",
       "    }\n",
       "</style>\n",
       "<table border=\"1\" class=\"dataframe\">\n",
       "  <thead>\n",
       "    <tr style=\"text-align: right;\">\n",
       "      <th></th>\n",
       "      <th>Sequence</th>\n",
       "      <th>Length</th>\n",
       "      <th>Copy Num</th>\n",
       "      <th>A</th>\n",
       "      <th>C</th>\n",
       "      <th>T</th>\n",
       "      <th>G</th>\n",
       "    </tr>\n",
       "  </thead>\n",
       "  <tbody>\n",
       "    <tr>\n",
       "      <th>0</th>\n",
       "      <td>AGTGCCATCGTGCGTATCCTTCACTC...</td>\n",
       "      <td>98</td>\n",
       "      <td>91</td>\n",
       "      <td>0.244898</td>\n",
       "      <td>0.265306</td>\n",
       "      <td>0.265306</td>\n",
       "      <td>0.224490</td>\n",
       "    </tr>\n",
       "    <tr>\n",
       "      <th>1</th>\n",
       "      <td>AGTGCCATCGTGCGTATCCTTCACGT...</td>\n",
       "      <td>98</td>\n",
       "      <td>86</td>\n",
       "      <td>0.224490</td>\n",
       "      <td>0.275510</td>\n",
       "      <td>0.295918</td>\n",
       "      <td>0.204082</td>\n",
       "    </tr>\n",
       "    <tr>\n",
       "      <th>2</th>\n",
       "      <td>AGTGCCATCGTGCGTATCCTGAACAT...</td>\n",
       "      <td>98</td>\n",
       "      <td>83</td>\n",
       "      <td>0.234694</td>\n",
       "      <td>0.234694</td>\n",
       "      <td>0.295918</td>\n",
       "      <td>0.234694</td>\n",
       "    </tr>\n",
       "    <tr>\n",
       "      <th>3</th>\n",
       "      <td>AGTGCCATCGTGCGTATCCCGCTCCG...</td>\n",
       "      <td>98</td>\n",
       "      <td>80</td>\n",
       "      <td>0.244898</td>\n",
       "      <td>0.255102</td>\n",
       "      <td>0.285714</td>\n",
       "      <td>0.214286</td>\n",
       "    </tr>\n",
       "    <tr>\n",
       "      <th>4</th>\n",
       "      <td>AGTGCCATCGTGCGTATCCTGAACAT...</td>\n",
       "      <td>98</td>\n",
       "      <td>78</td>\n",
       "      <td>0.244898</td>\n",
       "      <td>0.214286</td>\n",
       "      <td>0.306122</td>\n",
       "      <td>0.234694</td>\n",
       "    </tr>\n",
       "  </tbody>\n",
       "</table>\n",
       "</div>"
      ],
      "text/plain": [
       "                        Sequence  Length  ...         T         G\n",
       "0  AGTGCCATCGTGCGTATCCTTCACTC...      98  ...  0.265306  0.224490\n",
       "1  AGTGCCATCGTGCGTATCCTTCACGT...      98  ...  0.295918  0.204082\n",
       "2  AGTGCCATCGTGCGTATCCTGAACAT...      98  ...  0.295918  0.234694\n",
       "3  AGTGCCATCGTGCGTATCCCGCTCCG...      98  ...  0.285714  0.214286\n",
       "4  AGTGCCATCGTGCGTATCCTGAACAT...      98  ...  0.306122  0.234694\n",
       "\n",
       "[5 rows x 7 columns]"
      ]
     },
     "execution_count": 131,
     "metadata": {},
     "output_type": "execute_result"
    }
   ],
   "source": [
    "df.head()"
   ]
  },
  {
   "cell_type": "markdown",
   "id": "1f0be501-d2e3-4cbf-84f2-02c3c94fb10e",
   "metadata": {},
   "source": [
    "## Examine basic properties"
   ]
  },
  {
   "cell_type": "markdown",
   "id": "3a015eb8-f1c4-4624-aaa6-744f5cfd56f5",
   "metadata": {},
   "source": [
    "### Frequency of a sequence"
   ]
  },
  {
   "cell_type": "code",
   "execution_count": 132,
   "id": "13e32586-5524-4b16-8e56-dce92a206219",
   "metadata": {},
   "outputs": [
    {
     "data": {
      "text/plain": [
       "count    10383.000000\n",
       "mean        14.926900\n",
       "std          6.640851\n",
       "min         10.000000\n",
       "25%         11.000000\n",
       "50%         13.000000\n",
       "75%         16.000000\n",
       "max         91.000000\n",
       "Name: Copy Num, dtype: float64"
      ]
     },
     "execution_count": 132,
     "metadata": {},
     "output_type": "execute_result"
    }
   ],
   "source": [
    "df['Copy Num'].describe()"
   ]
  },
  {
   "cell_type": "markdown",
   "id": "b79a6562-24a1-4aa2-8d1e-37ef8b21cc91",
   "metadata": {},
   "source": [
    "Frequency, or count, of a sequence in the pool is between 10 to 91.  10 is the minimum bc that is where we set the minimum for consideration, but when we retrieve the full dataset the counts will range from 1 to max.\n",
    "\n",
    "How many sequences have only 10 copies in the pool? 91 copies?\n",
    "To get a bird's eye view, we plot a histogram of the counts."
   ]
  },
  {
   "cell_type": "code",
   "execution_count": 133,
   "id": "7d88bff9-d409-42b8-bf2b-096a3bf1c5ce",
   "metadata": {},
   "outputs": [
    {
     "data": {
      "image/png": "[encoded data removed]",
      "text/plain": [
       "<Figure size 640x480 with 1 Axes>"
      ]
     },
     "metadata": {},
     "output_type": "display_data"
    }
   ],
   "source": [
    "plt.hist(df['Copy Num'].values, bins=92, color='teal')\n",
    "plt.title('Histogram of the Copy Nums')\n",
    "plt.yscale('log')\n",
    "plt.ylabel('Log(Frequency)')\n",
    "plt.show()"
   ]
  },
  {
   "cell_type": "markdown",
   "id": "619d30ee-16ff-4662-b651-d0d0bfb99bbb",
   "metadata": {},
   "source": [
    "Most of the sequences in the pool have fewer than 30 copies. There is a long right tail with a few sequences having about 10-fold higher copy number.\n",
    "\n",
    "Generally, enrichment leads to a handful of sequences dominating the pool because of convergence.  100 copies in a 2e6 pool is in the noise compared to the usual outcome.  But, it may be possible that higher copy numbers in the pool are associated with greater pH reactivity."
   ]
  },
  {
   "cell_type": "markdown",
   "id": "0ec51c0b-225b-4184-87ba-d3cf7ae763f6",
   "metadata": {},
   "source": [
    "#### A boxplot to see more clearly"
   ]
  },
  {
   "cell_type": "code",
   "execution_count": 134,
   "id": "1f986c54-a7cb-412f-927a-44ff553f905a",
   "metadata": {},
   "outputs": [
    {
     "data": {
      "image/png": "[encoded data removed]",
      "text/plain": [
       "<Figure size 640x480 with 1 Axes>"
      ]
     },
     "metadata": {},
     "output_type": "display_data"
    }
   ],
   "source": [
    "sns.boxplot(df['Copy Num'].values, color='paleturquoise')\n",
    "plt.show()"
   ]
  },
  {
   "cell_type": "markdown",
   "id": "30afed81-ece4-433a-9e76-8e2410f284bc",
   "metadata": {},
   "source": [
    "### Sequence Length"
   ]
  },
  {
   "cell_type": "code",
   "execution_count": 135,
   "id": "0b2231df-f3e2-4ab3-a612-396fa4d6493b",
   "metadata": {},
   "outputs": [
    {
     "data": {
      "text/plain": [
       "count    10383.000000\n",
       "mean        97.929115\n",
       "std          0.677246\n",
       "min         82.000000\n",
       "25%         98.000000\n",
       "50%         98.000000\n",
       "75%         98.000000\n",
       "max        108.000000\n",
       "Name: Length, dtype: float64"
      ]
     },
     "execution_count": 135,
     "metadata": {},
     "output_type": "execute_result"
    }
   ],
   "source": [
    "df['Length'].describe()"
   ]
  },
  {
   "cell_type": "markdown",
   "id": "c737d6d0-8c95-4b72-9760-b3b735311be3",
   "metadata": {},
   "source": [
    "Nominally, the random initial library was 100 bp, and bc of the nature of NGS, the first 2 bp reads are discarded bc of poor quality, so we expect that sequences should have 98 bp.  (We can later add these bases back bc we know the first two bases since these were constant primer sites.)\n",
    "\n",
    "Due to mutations, there is some dispersion around 98 bp, where max length is up to 108 and min at 82."
   ]
  },
  {
   "cell_type": "code",
   "execution_count": 136,
   "id": "39b8f6b3-f13c-4379-9135-126fe105f5f1",
   "metadata": {},
   "outputs": [
    {
     "data": {
      "image/png": "[encoded data removed]",
      "text/plain": [
       "<Figure size 640x480 with 1 Axes>"
      ]
     },
     "metadata": {},
     "output_type": "display_data"
    }
   ],
   "source": [
    "bins = np.linspace(82, 108, 20)\n",
    "plt.hist(df['Length'], color='violet', bins=bins, edgecolor='indigo')\n",
    "plt.title('Histogram of the Lengths')\n",
    "plt.yscale('log')\n",
    "plt.ylabel('Log(Frequency)')\n",
    "plt.axvline(x=98, color='navy', linestyle='--', linewidth=2, label='98 bp')\n",
    "plt.show()"
   ]
  },
  {
   "cell_type": "markdown",
   "id": "8666f7c1-1c99-4616-9ba5-b6ee25dfb9ce",
   "metadata": {},
   "source": [
    "Plotted on a log scale to more effectively show the distribution. We see right skewed data to my surprise, with a number of sequences cleaved to shorter than original library."
   ]
  },
  {
   "cell_type": "markdown",
   "id": "fb6ddeee-fd8a-4811-b5dd-ad9656d82218",
   "metadata": {},
   "source": [
    "#### A box plot to see distribution summary"
   ]
  },
  {
   "cell_type": "code",
   "execution_count": 137,
   "id": "069652b2-5b46-4591-a57a-09ded8fdcdd7",
   "metadata": {},
   "outputs": [
    {
     "data": {
      "image/png": "[encoded data removed]",
      "text/plain": [
       "<Figure size 640x480 with 1 Axes>"
      ]
     },
     "metadata": {},
     "output_type": "display_data"
    }
   ],
   "source": [
    "sns.boxplot(df['Length'].values, color='violet')\n",
    "plt.show()"
   ]
  },
  {
   "cell_type": "markdown",
   "id": "462c9b52-2bda-4faf-bfd2-1b43467d2294",
   "metadata": {},
   "source": [
    "### Base composition"
   ]
  },
  {
   "cell_type": "code",
   "execution_count": 138,
   "id": "1fa949e7-4b1f-4e04-bfec-84f736225b50",
   "metadata": {},
   "outputs": [
    {
     "data": {
      "image/png": "[encoded data removed]",
      "text/plain": [
       "<Figure size 1000x800 with 4 Axes>"
      ]
     },
     "metadata": {},
     "output_type": "display_data"
    }
   ],
   "source": [
    "# bins = np.linspace(82, 108, 20)\n",
    "INIT_FRAC = 0.25\n",
    "\n",
    "fig, axes = plt.subplots(2, 2, figsize=(10,8), sharex=True, sharey=True)\n",
    "                        \n",
    "for base, ax in zip(base_columns, axes.flatten()):\n",
    "    ax.hist(df[base], color=base_colors[base], edgecolor='black')\n",
    "    ax.set_title(f'Histogram of %{base}')\n",
    "\n",
    "    \n",
    "    # values = base_frac_stats.loc[base]\n",
    "    # ax.bar(categories, values, color=base_colors[base])\n",
    "    ax.axvline(x=INIT_FRAC, color='skyblue', linestyle='--', linewidth=2)\n",
    " \n",
    "plt.tight_layout()\n",
    "plt.show()"
   ]
  },
  {
   "cell_type": "markdown",
   "id": "d0ddb1e7-5d7b-439d-9ae2-5e7a1b22d145",
   "metadata": {},
   "source": [
    "These histograms are actually pretty informative.\n",
    "Most sequences have a lower %G and a higher %T."
   ]
  },
  {
   "cell_type": "code",
   "execution_count": 139,
   "id": "7c2d05a7-b9f0-47ed-9c4b-a0f4bd654512",
   "metadata": {},
   "outputs": [
    {
     "data": {
      "text/html": [
       "<div>\n",
       "<style scoped>\n",
       "    .dataframe tbody tr th:only-of-type {\n",
       "        vertical-align: middle;\n",
       "    }\n",
       "\n",
       "    .dataframe tbody tr th {\n",
       "        vertical-align: top;\n",
       "    }\n",
       "\n",
       "    .dataframe thead th {\n",
       "        text-align: right;\n",
       "    }\n",
       "</style>\n",
       "<table border=\"1\" class=\"dataframe\">\n",
       "  <thead>\n",
       "    <tr style=\"text-align: right;\">\n",
       "      <th></th>\n",
       "      <th>count</th>\n",
       "      <th>mean</th>\n",
       "      <th>std</th>\n",
       "      <th>min</th>\n",
       "      <th>25%</th>\n",
       "      <th>50%</th>\n",
       "      <th>75%</th>\n",
       "      <th>max</th>\n",
       "      <th>range</th>\n",
       "    </tr>\n",
       "  </thead>\n",
       "  <tbody>\n",
       "    <tr>\n",
       "      <th>A</th>\n",
       "      <td>10383.0</td>\n",
       "      <td>0.25</td>\n",
       "      <td>0.02</td>\n",
       "      <td>0.16</td>\n",
       "      <td>0.23</td>\n",
       "      <td>0.24</td>\n",
       "      <td>0.27</td>\n",
       "      <td>0.36</td>\n",
       "      <td>0.19</td>\n",
       "    </tr>\n",
       "    <tr>\n",
       "      <th>C</th>\n",
       "      <td>10383.0</td>\n",
       "      <td>0.26</td>\n",
       "      <td>0.02</td>\n",
       "      <td>0.17</td>\n",
       "      <td>0.24</td>\n",
       "      <td>0.27</td>\n",
       "      <td>0.28</td>\n",
       "      <td>0.38</td>\n",
       "      <td>0.21</td>\n",
       "    </tr>\n",
       "    <tr>\n",
       "      <th>T</th>\n",
       "      <td>10383.0</td>\n",
       "      <td>0.27</td>\n",
       "      <td>0.02</td>\n",
       "      <td>0.20</td>\n",
       "      <td>0.26</td>\n",
       "      <td>0.27</td>\n",
       "      <td>0.29</td>\n",
       "      <td>0.36</td>\n",
       "      <td>0.15</td>\n",
       "    </tr>\n",
       "    <tr>\n",
       "      <th>G</th>\n",
       "      <td>10383.0</td>\n",
       "      <td>0.22</td>\n",
       "      <td>0.03</td>\n",
       "      <td>0.10</td>\n",
       "      <td>0.20</td>\n",
       "      <td>0.22</td>\n",
       "      <td>0.23</td>\n",
       "      <td>0.32</td>\n",
       "      <td>0.22</td>\n",
       "    </tr>\n",
       "  </tbody>\n",
       "</table>\n",
       "</div>"
      ],
      "text/plain": [
       "     count  mean   std   min   25%   50%   75%   max  range\n",
       "A  10383.0  0.25  0.02  0.16  0.23  0.24  0.27  0.36   0.19\n",
       "C  10383.0  0.26  0.02  0.17  0.24  0.27  0.28  0.38   0.21\n",
       "T  10383.0  0.27  0.02  0.20  0.26  0.27  0.29  0.36   0.15\n",
       "G  10383.0  0.22  0.03  0.10  0.20  0.22  0.23  0.32   0.22"
      ]
     },
     "execution_count": 139,
     "metadata": {},
     "output_type": "execute_result"
    }
   ],
   "source": [
    "base_frac_stats = pd.DataFrame([df[base].describe() for base in base_columns])\n",
    "base_frac_stats['range'] = base_frac_stats['max'] - base_frac_stats['min']\n",
    "np.round(base_frac_stats, 2)"
   ]
  },
  {
   "cell_type": "markdown",
   "id": "ae437f62-fdba-475c-9693-164d1bb62c70",
   "metadata": {},
   "source": [
    "C and T have the highest median percent fractions in the pool. G is the lowest at 0.22.\n",
    "Standard deviation is about the same for all bases.\n",
    "G has the largest range of values. \n",
    "The mean is close to the median for all, so I would say the base proportions are evenly distributed, not skew.\n",
    "\n",
    "Given that the randomized regions should have approximately 25-25-25-25 makeup, we also calculated the percent difference from 0.25.  But we should keep in mind that the primer regions were designed and are expected to be relatively constant - we may choose to compare to a study where we consider only the variable regions."
   ]
  },
  {
   "cell_type": "code",
   "execution_count": 140,
   "id": "6c370bc7-edde-4b11-89c4-553212e1d04a",
   "metadata": {
    "scrolled": true
   },
   "outputs": [
    {
     "data": {
      "text/html": [
       "<div>\n",
       "<style scoped>\n",
       "    .dataframe tbody tr th:only-of-type {\n",
       "        vertical-align: middle;\n",
       "    }\n",
       "\n",
       "    .dataframe tbody tr th {\n",
       "        vertical-align: top;\n",
       "    }\n",
       "\n",
       "    .dataframe thead th {\n",
       "        text-align: right;\n",
       "    }\n",
       "</style>\n",
       "<table border=\"1\" class=\"dataframe\">\n",
       "  <thead>\n",
       "    <tr style=\"text-align: right;\">\n",
       "      <th></th>\n",
       "      <th>mean</th>\n",
       "      <th>min</th>\n",
       "      <th>25%</th>\n",
       "      <th>50%</th>\n",
       "      <th>75%</th>\n",
       "      <th>max</th>\n",
       "    </tr>\n",
       "  </thead>\n",
       "  <tbody>\n",
       "    <tr>\n",
       "      <th>A</th>\n",
       "      <td>0.245924</td>\n",
       "      <td>0.164948</td>\n",
       "      <td>0.234694</td>\n",
       "      <td>0.244898</td>\n",
       "      <td>0.265306</td>\n",
       "      <td>0.357143</td>\n",
       "    </tr>\n",
       "    <tr>\n",
       "      <th>C</th>\n",
       "      <td>0.263716</td>\n",
       "      <td>0.173469</td>\n",
       "      <td>0.244898</td>\n",
       "      <td>0.265306</td>\n",
       "      <td>0.275510</td>\n",
       "      <td>0.380000</td>\n",
       "    </tr>\n",
       "    <tr>\n",
       "      <th>T</th>\n",
       "      <td>0.269797</td>\n",
       "      <td>0.204082</td>\n",
       "      <td>0.255102</td>\n",
       "      <td>0.265306</td>\n",
       "      <td>0.285714</td>\n",
       "      <td>0.357143</td>\n",
       "    </tr>\n",
       "    <tr>\n",
       "      <th>G</th>\n",
       "      <td>0.220563</td>\n",
       "      <td>0.102041</td>\n",
       "      <td>0.204082</td>\n",
       "      <td>0.224490</td>\n",
       "      <td>0.234694</td>\n",
       "      <td>0.319588</td>\n",
       "    </tr>\n",
       "  </tbody>\n",
       "</table>\n",
       "</div>"
      ],
      "text/plain": [
       "       mean       min       25%       50%       75%       max\n",
       "A  0.245924  0.164948  0.234694  0.244898  0.265306  0.357143\n",
       "C  0.263716  0.173469  0.244898  0.265306  0.275510  0.380000\n",
       "T  0.269797  0.204082  0.255102  0.265306  0.285714  0.357143\n",
       "G  0.220563  0.102041  0.204082  0.224490  0.234694  0.319588"
      ]
     },
     "execution_count": 140,
     "metadata": {},
     "output_type": "execute_result"
    }
   ],
   "source": [
    "v_base_frac_stats = base_frac_stats\n",
    "base_frac_stats = base_frac_stats.iloc[:, [1, 3, 4, 5, 6, 7]]\n",
    "base_frac_stats"
   ]
  },
  {
   "cell_type": "markdown",
   "id": "e9a23220-a4ae-4607-b205-4b016c73f5ca",
   "metadata": {},
   "source": [
    "#### Plots comparing base composition.\n",
    "Dashed line indicates 0.25 even fractions.\n",
    "Easy to see that median G composition is notably lower than an even split.\n",
    "Median T and C composition is a bit higher than initial fraction."
   ]
  },
  {
   "cell_type": "code",
   "execution_count": 141,
   "id": "d63b83d8-aac3-4352-8b55-01ae8d20e305",
   "metadata": {},
   "outputs": [
    {
     "data": {
      "image/png": "[encoded data removed]",
      "text/plain": [
       "<Figure size 1000x800 with 4 Axes>"
      ]
     },
     "metadata": {},
     "output_type": "display_data"
    }
   ],
   "source": [
    "INIT_FRAC = 0.25\n",
    "categories = base_frac_stats.columns.values\n",
    "\n",
    "fig, axes = plt.subplots(2, 2, figsize=(10,8), sharey=True)\n",
    "                        \n",
    "for base, ax in zip(base_columns, axes.flatten()):\n",
    "    values = base_frac_stats.loc[base]\n",
    "    ax.bar(categories, values, color=base_colors[base])\n",
    "    ax.axhline(y=INIT_FRAC, color='navy', linestyle='--', linewidth=2)\n",
    "    ax.set_title(f'Statistics for {base}')\n",
    "\n",
    "plt.tight_layout()\n",
    "plt.show()"
   ]
  },
  {
   "cell_type": "markdown",
   "id": "3fa53e60-f4b4-4802-a6b3-11d1aefa1a8b",
   "metadata": {},
   "source": [
    "#### Quantify the departure from even split by calculating percent difference."
   ]
  },
  {
   "cell_type": "code",
   "execution_count": 142,
   "id": "bad2527e-1a9c-4ed7-96d8-6af03ca07c16",
   "metadata": {},
   "outputs": [
    {
     "data": {
      "text/html": [
       "<div>\n",
       "<style scoped>\n",
       "    .dataframe tbody tr th:only-of-type {\n",
       "        vertical-align: middle;\n",
       "    }\n",
       "\n",
       "    .dataframe tbody tr th {\n",
       "        vertical-align: top;\n",
       "    }\n",
       "\n",
       "    .dataframe thead th {\n",
       "        text-align: right;\n",
       "    }\n",
       "</style>\n",
       "<table border=\"1\" class=\"dataframe\">\n",
       "  <thead>\n",
       "    <tr style=\"text-align: right;\">\n",
       "      <th></th>\n",
       "      <th>mean</th>\n",
       "      <th>min</th>\n",
       "      <th>25%</th>\n",
       "      <th>50%</th>\n",
       "      <th>75%</th>\n",
       "      <th>max</th>\n",
       "    </tr>\n",
       "  </thead>\n",
       "  <tbody>\n",
       "    <tr>\n",
       "      <th>A</th>\n",
       "      <td>0.245924</td>\n",
       "      <td>0.164948</td>\n",
       "      <td>0.234694</td>\n",
       "      <td>0.244898</td>\n",
       "      <td>0.265306</td>\n",
       "      <td>0.357143</td>\n",
       "    </tr>\n",
       "    <tr>\n",
       "      <th>C</th>\n",
       "      <td>0.263716</td>\n",
       "      <td>0.173469</td>\n",
       "      <td>0.244898</td>\n",
       "      <td>0.265306</td>\n",
       "      <td>0.275510</td>\n",
       "      <td>0.380000</td>\n",
       "    </tr>\n",
       "    <tr>\n",
       "      <th>T</th>\n",
       "      <td>0.269797</td>\n",
       "      <td>0.204082</td>\n",
       "      <td>0.255102</td>\n",
       "      <td>0.265306</td>\n",
       "      <td>0.285714</td>\n",
       "      <td>0.357143</td>\n",
       "    </tr>\n",
       "    <tr>\n",
       "      <th>G</th>\n",
       "      <td>0.220563</td>\n",
       "      <td>0.102041</td>\n",
       "      <td>0.204082</td>\n",
       "      <td>0.224490</td>\n",
       "      <td>0.234694</td>\n",
       "      <td>0.319588</td>\n",
       "    </tr>\n",
       "  </tbody>\n",
       "</table>\n",
       "</div>"
      ],
      "text/plain": [
       "       mean       min       25%       50%       75%       max\n",
       "A  0.245924  0.164948  0.234694  0.244898  0.265306  0.357143\n",
       "C  0.263716  0.173469  0.244898  0.265306  0.275510  0.380000\n",
       "T  0.269797  0.204082  0.255102  0.265306  0.285714  0.357143\n",
       "G  0.220563  0.102041  0.204082  0.224490  0.234694  0.319588"
      ]
     },
     "execution_count": 142,
     "metadata": {},
     "output_type": "execute_result"
    }
   ],
   "source": [
    "base_frac_stats"
   ]
  },
  {
   "cell_type": "code",
   "execution_count": 143,
   "id": "57658b84-8cac-4851-b41e-772589d1420d",
   "metadata": {},
   "outputs": [
    {
     "data": {
      "text/html": [
       "<div>\n",
       "<style scoped>\n",
       "    .dataframe tbody tr th:only-of-type {\n",
       "        vertical-align: middle;\n",
       "    }\n",
       "\n",
       "    .dataframe tbody tr th {\n",
       "        vertical-align: top;\n",
       "    }\n",
       "\n",
       "    .dataframe thead th {\n",
       "        text-align: right;\n",
       "    }\n",
       "</style>\n",
       "<table border=\"1\" class=\"dataframe\">\n",
       "  <thead>\n",
       "    <tr style=\"text-align: right;\">\n",
       "      <th></th>\n",
       "      <th>mean</th>\n",
       "      <th>min</th>\n",
       "      <th>25%</th>\n",
       "      <th>50%</th>\n",
       "      <th>75%</th>\n",
       "      <th>max</th>\n",
       "    </tr>\n",
       "  </thead>\n",
       "  <tbody>\n",
       "    <tr>\n",
       "      <th>A</th>\n",
       "      <td>-1.6</td>\n",
       "      <td>-34.0</td>\n",
       "      <td>-6.1</td>\n",
       "      <td>-2.0</td>\n",
       "      <td>6.1</td>\n",
       "      <td>42.9</td>\n",
       "    </tr>\n",
       "    <tr>\n",
       "      <th>C</th>\n",
       "      <td>5.5</td>\n",
       "      <td>-30.6</td>\n",
       "      <td>-2.0</td>\n",
       "      <td>6.1</td>\n",
       "      <td>10.2</td>\n",
       "      <td>52.0</td>\n",
       "    </tr>\n",
       "    <tr>\n",
       "      <th>T</th>\n",
       "      <td>7.9</td>\n",
       "      <td>-18.4</td>\n",
       "      <td>2.0</td>\n",
       "      <td>6.1</td>\n",
       "      <td>14.3</td>\n",
       "      <td>42.9</td>\n",
       "    </tr>\n",
       "    <tr>\n",
       "      <th>G</th>\n",
       "      <td>-11.8</td>\n",
       "      <td>-59.2</td>\n",
       "      <td>-18.4</td>\n",
       "      <td>-10.2</td>\n",
       "      <td>-6.1</td>\n",
       "      <td>27.8</td>\n",
       "    </tr>\n",
       "  </tbody>\n",
       "</table>\n",
       "</div>"
      ],
      "text/plain": [
       "   mean   min   25%   50%   75%   max\n",
       "A  -1.6 -34.0  -6.1  -2.0   6.1  42.9\n",
       "C   5.5 -30.6  -2.0   6.1  10.2  52.0\n",
       "T   7.9 -18.4   2.0   6.1  14.3  42.9\n",
       "G -11.8 -59.2 -18.4 -10.2  -6.1  27.8"
      ]
     },
     "execution_count": 143,
     "metadata": {},
     "output_type": "execute_result"
    }
   ],
   "source": [
    "# Find percent difference of these stats from expected even base split\n",
    "np.round((base_frac_stats - 0.25)/0.25 * 100, 1)"
   ]
  },
  {
   "cell_type": "markdown",
   "id": "2e289226-30cb-4455-9557-0180c1a5a5c2",
   "metadata": {},
   "source": [
    "Median values deviate from even split up to 10%, suggesting that enrichment influenced base frac away from the randomized initial state. i.e., there is signal over noise."
   ]
  },
  {
   "cell_type": "markdown",
   "id": "6137bbe5-0738-480e-bcc6-3c8281336498",
   "metadata": {},
   "source": [
    "### Examine the relationship between frequency and base percentage.\n",
    "Plot Copy Num vs Base percentage.  See if there is a relationship."
   ]
  },
  {
   "cell_type": "code",
   "execution_count": 144,
   "id": "bb37ce49-cf88-4daa-a9da-2e898d16e966",
   "metadata": {},
   "outputs": [
    {
     "data": {
      "image/png": "[encoded data removed]",
      "text/plain": [
       "<Figure size 1000x800 with 4 Axes>"
      ]
     },
     "metadata": {},
     "output_type": "display_data"
    }
   ],
   "source": [
    "fig, axes = plt.subplots(2, 2, figsize=(10,8))\n",
    "\n",
    "# Plot Each Base Fraction\n",
    "for ax, base in zip(axes.flatten(), base_columns):\n",
    "    ax.scatter(df[base], df['Copy Num'], color=base_colors[base])\n",
    "    ax.set_xlabel(f'%{base}')\n",
    "    ax.set_ylabel('Copy Num')\n",
    "\n",
    "plt.tight_layout()\n",
    "plt.show()"
   ]
  },
  {
   "cell_type": "markdown",
   "id": "14272dd0-7a17-40a4-9393-0b542a69ddab",
   "metadata": {},
   "source": [
    "#### Check out correlation by calculating Pearson's correlation"
   ]
  },
  {
   "cell_type": "code",
   "execution_count": 146,
   "id": "05f67cdc-e362-43bd-a4bc-6598f922cef6",
   "metadata": {},
   "outputs": [
    {
     "name": "stdout",
     "output_type": "stream",
     "text": [
      "%A - Copy Num Correlation: r=-0.04910, p=0.00000\n",
      "%C - Copy Num Correlation: r=-0.00657, p=0.50350\n",
      "%T - Copy Num Correlation: r=0.02038, p=0.03784\n",
      "%G - Copy Num Correlation: r=0.03142, p=0.00136\n"
     ]
    }
   ],
   "source": [
    "from scipy.stats import pearsonr\n",
    "\n",
    "for base in base_columns:\n",
    "    corr, p_value =pearsonr(df[base], df['Copy Num'])\n",
    "    print(f'%{base} - Copy Num Correlation: r={corr:.5f}, p={p_value:.5f}')"
   ]
  },
  {
   "cell_type": "markdown",
   "id": "729df52c-c3ef-4114-863d-91401089bec9",
   "metadata": {},
   "source": [
    "Very weak correlations, but significant."
   ]
  },
  {
   "cell_type": "markdown",
   "id": "515894d7-7018-44ea-be2f-8559669cd5b7",
   "metadata": {},
   "source": [
    "### By construction, variance of %base decreases with greater copy number.\n",
    "Due to the outcome of enrichment, there are a large number of unique sequences wih the minimum copy number.  There are fewer unique sequences with a high copy number. See histogram of counts above.\n",
    "\n",
    "For example, the sequence which has 91 copies in the pool are all the same, so no variance in base composition. Whereas, there are many more sequences in the pool which have the minimum copy number and they are all different, so there will be greater variance in composition."
   ]
  },
  {
   "cell_type": "code",
   "execution_count": null,
   "id": "96e8b8c3-45e0-406c-a451-3a9cf0d78cd3",
   "metadata": {
    "scrolled": true
   },
   "outputs": [],
   "source": [
    "fig, axes = plt.subplots(2, 2, figsize=(10, 8), sharey=True)\n",
    "\n",
    "# Compute global max variance for consistency\n",
    "max_variance = max(df[col].var() for col in base_columns)\n",
    "\n",
    "for col, ax in zip(base_columns, axes.flatten()):\n",
    "    grouped_variance = df.groupby('Copy Num')[col].var()\n",
    "    grouped_variance.plot(kind='bar', ax=ax, color=base_colors[col])\n",
    "    ax.set_title(f'Variance of {col} by Copy Num')\n",
    "    ax.set_xlabel('Copy Num')\n",
    "    ax.set_ylabel(f'Variance of {col}')\n",
    "    ax.set_ylim(0, max_variance * 1.1)\n",
    "    \n",
    "plt.tight_layout()\n",
    "plt.show()"
   ]
  },
  {
   "cell_type": "markdown",
   "id": "0901ea67-3d17-468d-831c-154c51f5c480",
   "metadata": {},
   "source": [
    "### TODO Correlation of Length with Copy Num"
   ]
  },
  {
   "cell_type": "markdown",
   "id": "0b76a689-dbdb-4944-ba10-bbf90775e439",
   "metadata": {},
   "source": [
    "### TODO heatmap to spot patterns"
   ]
  },
  {
   "cell_type": "markdown",
   "id": "06860475-30a4-48dc-98c6-56f5cca7b207",
   "metadata": {},
   "source": [
    "## Conclusions\n",
    "As we expected, preliminary EDA of basic sequence properties like count, length, %base composition did not reveal a smoking gun for the mechanism of pH-activity.\n",
    "\n",
    "It makes sense to investigate second order effects such as:  \n",
    "(1) Base pair combinations (kmer motifs)  \n",
    "(2) Secondary structure prediction and folding energy scores"
   ]
  },
  {
   "cell_type": "code",
   "execution_count": null,
   "id": "2ab6e694-b4f3-445c-81d7-d38a5378de24",
   "metadata": {},
   "outputs": [],
   "source": []
  }
 ],
 "metadata": {
  "kernelspec": {
   "display_name": "Python 3 (ipykernel)",
   "language": "python",
   "name": "python3"
  },
  "language_info": {
   "codemirror_mode": {
    "name": "ipython",
    "version": 3
   },
   "file_extension": ".py",
   "mimetype": "text/x-python",
   "name": "python",
   "nbconvert_exporter": "python",
   "pygments_lexer": "ipython3",
   "version": "3.11.5"
  }
 },
 "nbformat": 4,
 "nbformat_minor": 5
}
