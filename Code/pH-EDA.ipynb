{
 "cells": [
  {
   "cell_type": "markdown",
   "id": "73e43723-2bf5-4c4a-ba28-e61e827e2ab0",
   "metadata": {},
   "source": [
    "# Starting EDA of pH project"
   ]
  },
  {
   "cell_type": "code",
   "execution_count": 80,
   "id": "ba40c155-e793-40b0-bd56-279295588974",
   "metadata": {},
   "outputs": [],
   "source": [
    "import pandas as pd\n",
    "import numpy as np\n",
    "import matplotlib.pyplot as plt\n",
    "import seaborn as sns\n",
    "from collections import Counter"
   ]
  },
  {
   "cell_type": "code",
   "execution_count": 81,
   "id": "2236e686-8e59-4c12-9435-3cb83580acd7",
   "metadata": {},
   "outputs": [
    {
     "data": {
      "text/html": [
       "<div>\n",
       "<style scoped>\n",
       "    .dataframe tbody tr th:only-of-type {\n",
       "        vertical-align: middle;\n",
       "    }\n",
       "\n",
       "    .dataframe tbody tr th {\n",
       "        vertical-align: top;\n",
       "    }\n",
       "\n",
       "    .dataframe thead th {\n",
       "        text-align: right;\n",
       "    }\n",
       "</style>\n",
       "<table border=\"1\" class=\"dataframe\">\n",
       "  <thead>\n",
       "    <tr style=\"text-align: right;\">\n",
       "      <th></th>\n",
       "      <th>Sequence</th>\n",
       "      <th>Count</th>\n",
       "    </tr>\n",
       "  </thead>\n",
       "  <tbody>\n",
       "    <tr>\n",
       "      <th>0</th>\n",
       "      <td>AGTGCCATCGTGCGTATCCTTCACTCCTTGCTCGACAAGAAGCGAA...</td>\n",
       "      <td>91</td>\n",
       "    </tr>\n",
       "    <tr>\n",
       "      <th>1</th>\n",
       "      <td>AGTGCCATCGTGCGTATCCTTCACGTTTGTTCTACAAAAGCGAAGC...</td>\n",
       "      <td>86</td>\n",
       "    </tr>\n",
       "    <tr>\n",
       "      <th>2</th>\n",
       "      <td>AGTGCCATCGTGCGTATCCTGAACATTGACGTGTAGTCAATGCGAA...</td>\n",
       "      <td>83</td>\n",
       "    </tr>\n",
       "    <tr>\n",
       "      <th>3</th>\n",
       "      <td>AGTGCCATCGTGCGTATCCCGCTCCGCTAATATCTATGTTAGCGAA...</td>\n",
       "      <td>80</td>\n",
       "    </tr>\n",
       "    <tr>\n",
       "      <th>4</th>\n",
       "      <td>AGTGCCATCGTGCGTATCCTGAACATAGACGTTTAGTCTATGCGAA...</td>\n",
       "      <td>78</td>\n",
       "    </tr>\n",
       "  </tbody>\n",
       "</table>\n",
       "</div>"
      ],
      "text/plain": [
       "                                            Sequence  Count\n",
       "0  AGTGCCATCGTGCGTATCCTTCACTCCTTGCTCGACAAGAAGCGAA...     91\n",
       "1  AGTGCCATCGTGCGTATCCTTCACGTTTGTTCTACAAAAGCGAAGC...     86\n",
       "2  AGTGCCATCGTGCGTATCCTGAACATTGACGTGTAGTCAATGCGAA...     83\n",
       "3  AGTGCCATCGTGCGTATCCCGCTCCGCTAATATCTATGTTAGCGAA...     80\n",
       "4  AGTGCCATCGTGCGTATCCTGAACATAGACGTTTAGTCTATGCGAA...     78"
      ]
     },
     "execution_count": 81,
     "metadata": {},
     "output_type": "execute_result"
    }
   ],
   "source": [
    "csv_file = \"../Data/R12-over-10-copies.csv\"\n",
    "df = pd.read_csv(csv_file)\n",
    "df.head()"
   ]
  },
  {
   "cell_type": "code",
   "execution_count": 82,
   "id": "ee74d87f-20d3-4008-8867-928c6265f3a6",
   "metadata": {},
   "outputs": [
    {
     "data": {
      "text/plain": [
       "(10383, 2)"
      ]
     },
     "execution_count": 82,
     "metadata": {},
     "output_type": "execute_result"
    }
   ],
   "source": [
    "df.shape"
   ]
  },
  {
   "cell_type": "code",
   "execution_count": 83,
   "id": "848df361-f6ce-4ac0-8dfa-931a2a0bc063",
   "metadata": {},
   "outputs": [
    {
     "data": {
      "text/plain": [
       "0"
      ]
     },
     "execution_count": 83,
     "metadata": {},
     "output_type": "execute_result"
    }
   ],
   "source": [
    "sum(df.iloc[:, 0].isnull())"
   ]
  },
  {
   "cell_type": "code",
   "execution_count": 84,
   "id": "ecbb6735-61ef-46aa-9a8c-6f75c236faae",
   "metadata": {},
   "outputs": [
    {
     "data": {
      "text/plain": [
       "0"
      ]
     },
     "execution_count": 84,
     "metadata": {},
     "output_type": "execute_result"
    }
   ],
   "source": [
    "sum(df.iloc[:, 1].isnull())"
   ]
  },
  {
   "cell_type": "code",
   "execution_count": 85,
   "id": "d6eb68d3-df11-43bc-9c93-638d90819682",
   "metadata": {},
   "outputs": [
    {
     "data": {
      "text/plain": [
       "Sequence    object\n",
       "Count        int64\n",
       "dtype: object"
      ]
     },
     "execution_count": 85,
     "metadata": {},
     "output_type": "execute_result"
    }
   ],
   "source": [
    "df.dtypes"
   ]
  },
  {
   "cell_type": "code",
   "execution_count": 86,
   "id": "e8dc8709-f882-49cb-9d81-db1cdd1b610a",
   "metadata": {},
   "outputs": [],
   "source": [
    "# check base type proportions\n",
    "def base_count(text):\n",
    "    return dict(Counter(text))   "
   ]
  },
  {
   "cell_type": "code",
   "execution_count": 87,
   "id": "2562f60c-8510-4c2f-b7ea-6fad625b130b",
   "metadata": {},
   "outputs": [],
   "source": [
    "df['Base Counts'] = df['Sequence'].apply(base_count)\n",
    "# df['Base Counts'][1]['A']\n",
    "df['A'] = df['Base Counts'].astype(object).apply(lambda x: x.get('A', np.nan))\n",
    "df['C'] = df['Base Counts'].astype(object).apply(lambda x: x.get('C', np.nan))\n",
    "df['T'] = df['Base Counts'].astype(object).apply(lambda x: x.get('G', np.nan))\n",
    "df['G'] = df['Base Counts'].astype(object).apply(lambda x: x.get('T', np.nan))"
   ]
  },
  {
   "cell_type": "code",
   "execution_count": 88,
   "id": "b016a41d-3b52-4587-993f-9a5c47e3ff04",
   "metadata": {},
   "outputs": [
    {
     "data": {
      "text/html": [
       "<div>\n",
       "<style scoped>\n",
       "    .dataframe tbody tr th:only-of-type {\n",
       "        vertical-align: middle;\n",
       "    }\n",
       "\n",
       "    .dataframe tbody tr th {\n",
       "        vertical-align: top;\n",
       "    }\n",
       "\n",
       "    .dataframe thead th {\n",
       "        text-align: right;\n",
       "    }\n",
       "</style>\n",
       "<table border=\"1\" class=\"dataframe\">\n",
       "  <thead>\n",
       "    <tr style=\"text-align: right;\">\n",
       "      <th></th>\n",
       "      <th>A</th>\n",
       "      <th>C</th>\n",
       "      <th>T</th>\n",
       "      <th>G</th>\n",
       "    </tr>\n",
       "  </thead>\n",
       "  <tbody>\n",
       "    <tr>\n",
       "      <th>0</th>\n",
       "      <td>24</td>\n",
       "      <td>26</td>\n",
       "      <td>26</td>\n",
       "      <td>22</td>\n",
       "    </tr>\n",
       "    <tr>\n",
       "      <th>1</th>\n",
       "      <td>22</td>\n",
       "      <td>27</td>\n",
       "      <td>29</td>\n",
       "      <td>20</td>\n",
       "    </tr>\n",
       "    <tr>\n",
       "      <th>2</th>\n",
       "      <td>23</td>\n",
       "      <td>23</td>\n",
       "      <td>29</td>\n",
       "      <td>23</td>\n",
       "    </tr>\n",
       "    <tr>\n",
       "      <th>3</th>\n",
       "      <td>24</td>\n",
       "      <td>25</td>\n",
       "      <td>28</td>\n",
       "      <td>21</td>\n",
       "    </tr>\n",
       "    <tr>\n",
       "      <th>4</th>\n",
       "      <td>24</td>\n",
       "      <td>21</td>\n",
       "      <td>30</td>\n",
       "      <td>23</td>\n",
       "    </tr>\n",
       "  </tbody>\n",
       "</table>\n",
       "</div>"
      ],
      "text/plain": [
       "    A   C   T   G\n",
       "0  24  26  26  22\n",
       "1  22  27  29  20\n",
       "2  23  23  29  23\n",
       "3  24  25  28  21\n",
       "4  24  21  30  23"
      ]
     },
     "execution_count": 88,
     "metadata": {},
     "output_type": "execute_result"
    }
   ],
   "source": [
    "df.head().iloc[:, 3:]"
   ]
  },
  {
   "cell_type": "code",
   "execution_count": 89,
   "id": "82187302-2d62-4847-b0a9-bebab93cf7f8",
   "metadata": {},
   "outputs": [],
   "source": [
    "df['Length'] = df['Sequence'].apply(len)"
   ]
  },
  {
   "cell_type": "code",
   "execution_count": 90,
   "id": "39528d80-fb8a-42f3-811f-e0973bed4c85",
   "metadata": {},
   "outputs": [
    {
     "data": {
      "text/plain": [
       "0"
      ]
     },
     "execution_count": 90,
     "metadata": {},
     "output_type": "execute_result"
    }
   ],
   "source": [
    "sum((np.sum(df[['A', 'C', 'T', 'G']], axis=1) == df['Length']).isnull()) # Checks base counts add up to length of sequence"
   ]
  },
  {
   "cell_type": "code",
   "execution_count": 91,
   "id": "57e21c8b-fb35-426d-b3ef-145a859e2de3",
   "metadata": {},
   "outputs": [
    {
     "data": {
      "text/plain": [
       "0"
      ]
     },
     "execution_count": 91,
     "metadata": {},
     "output_type": "execute_result"
    }
   ],
   "source": [
    "allowed_keys = {'A', 'C', 'T', 'G'} # Checks that there are no weird nonstandard bases\n",
    "df['Nonstandard base'] = df['Base Counts'].astype(object).apply(lambda x: not set(x.keys()).issubset(allowed_keys))\n",
    "np.sum(df['Nonstandard base'])"
   ]
  },
  {
   "cell_type": "code",
   "execution_count": 92,
   "id": "90feae3b-dc0f-4975-a6c9-f03214da53ad",
   "metadata": {},
   "outputs": [
    {
     "data": {
      "text/html": [
       "<div>\n",
       "<style scoped>\n",
       "    .dataframe tbody tr th:only-of-type {\n",
       "        vertical-align: middle;\n",
       "    }\n",
       "\n",
       "    .dataframe tbody tr th {\n",
       "        vertical-align: top;\n",
       "    }\n",
       "\n",
       "    .dataframe thead th {\n",
       "        text-align: right;\n",
       "    }\n",
       "</style>\n",
       "<table border=\"1\" class=\"dataframe\">\n",
       "  <thead>\n",
       "    <tr style=\"text-align: right;\">\n",
       "      <th></th>\n",
       "      <th>Sequence</th>\n",
       "      <th>Count</th>\n",
       "      <th>Base Counts</th>\n",
       "      <th>A</th>\n",
       "      <th>C</th>\n",
       "      <th>T</th>\n",
       "      <th>G</th>\n",
       "      <th>Length</th>\n",
       "      <th>Nonstandard base</th>\n",
       "    </tr>\n",
       "  </thead>\n",
       "  <tbody>\n",
       "    <tr>\n",
       "      <th>0</th>\n",
       "      <td>AGTGCCATCGTGCGTATCCTTCACTCCTTGCTCGACAAGAAGCGAA...</td>\n",
       "      <td>91</td>\n",
       "      <td>{'A': 24, 'G': 26, 'T': 22, 'C': 26}</td>\n",
       "      <td>24</td>\n",
       "      <td>26</td>\n",
       "      <td>26</td>\n",
       "      <td>22</td>\n",
       "      <td>98</td>\n",
       "      <td>False</td>\n",
       "    </tr>\n",
       "    <tr>\n",
       "      <th>1</th>\n",
       "      <td>AGTGCCATCGTGCGTATCCTTCACGTTTGTTCTACAAAAGCGAAGC...</td>\n",
       "      <td>86</td>\n",
       "      <td>{'A': 22, 'G': 29, 'T': 20, 'C': 27}</td>\n",
       "      <td>22</td>\n",
       "      <td>27</td>\n",
       "      <td>29</td>\n",
       "      <td>20</td>\n",
       "      <td>98</td>\n",
       "      <td>False</td>\n",
       "    </tr>\n",
       "    <tr>\n",
       "      <th>2</th>\n",
       "      <td>AGTGCCATCGTGCGTATCCTGAACATTGACGTGTAGTCAATGCGAA...</td>\n",
       "      <td>83</td>\n",
       "      <td>{'A': 23, 'G': 29, 'T': 23, 'C': 23}</td>\n",
       "      <td>23</td>\n",
       "      <td>23</td>\n",
       "      <td>29</td>\n",
       "      <td>23</td>\n",
       "      <td>98</td>\n",
       "      <td>False</td>\n",
       "    </tr>\n",
       "    <tr>\n",
       "      <th>3</th>\n",
       "      <td>AGTGCCATCGTGCGTATCCCGCTCCGCTAATATCTATGTTAGCGAA...</td>\n",
       "      <td>80</td>\n",
       "      <td>{'A': 24, 'G': 28, 'T': 21, 'C': 25}</td>\n",
       "      <td>24</td>\n",
       "      <td>25</td>\n",
       "      <td>28</td>\n",
       "      <td>21</td>\n",
       "      <td>98</td>\n",
       "      <td>False</td>\n",
       "    </tr>\n",
       "    <tr>\n",
       "      <th>4</th>\n",
       "      <td>AGTGCCATCGTGCGTATCCTGAACATAGACGTTTAGTCTATGCGAA...</td>\n",
       "      <td>78</td>\n",
       "      <td>{'A': 24, 'G': 30, 'T': 23, 'C': 21}</td>\n",
       "      <td>24</td>\n",
       "      <td>21</td>\n",
       "      <td>30</td>\n",
       "      <td>23</td>\n",
       "      <td>98</td>\n",
       "      <td>False</td>\n",
       "    </tr>\n",
       "  </tbody>\n",
       "</table>\n",
       "</div>"
      ],
      "text/plain": [
       "                                            Sequence  Count  \\\n",
       "0  AGTGCCATCGTGCGTATCCTTCACTCCTTGCTCGACAAGAAGCGAA...     91   \n",
       "1  AGTGCCATCGTGCGTATCCTTCACGTTTGTTCTACAAAAGCGAAGC...     86   \n",
       "2  AGTGCCATCGTGCGTATCCTGAACATTGACGTGTAGTCAATGCGAA...     83   \n",
       "3  AGTGCCATCGTGCGTATCCCGCTCCGCTAATATCTATGTTAGCGAA...     80   \n",
       "4  AGTGCCATCGTGCGTATCCTGAACATAGACGTTTAGTCTATGCGAA...     78   \n",
       "\n",
       "                            Base Counts   A   C   T   G  Length  \\\n",
       "0  {'A': 24, 'G': 26, 'T': 22, 'C': 26}  24  26  26  22      98   \n",
       "1  {'A': 22, 'G': 29, 'T': 20, 'C': 27}  22  27  29  20      98   \n",
       "2  {'A': 23, 'G': 29, 'T': 23, 'C': 23}  23  23  29  23      98   \n",
       "3  {'A': 24, 'G': 28, 'T': 21, 'C': 25}  24  25  28  21      98   \n",
       "4  {'A': 24, 'G': 30, 'T': 23, 'C': 21}  24  21  30  23      98   \n",
       "\n",
       "   Nonstandard base  \n",
       "0             False  \n",
       "1             False  \n",
       "2             False  \n",
       "3             False  \n",
       "4             False  "
      ]
     },
     "execution_count": 92,
     "metadata": {},
     "output_type": "execute_result"
    }
   ],
   "source": [
    "df.head()"
   ]
  },
  {
   "cell_type": "code",
   "execution_count": 93,
   "id": "700a2839-4864-4fc1-b533-31b095e1ffa1",
   "metadata": {},
   "outputs": [
    {
     "data": {
      "text/plain": [
       "Length\n",
       "98     9893\n",
       "97      325\n",
       "99       65\n",
       "96       42\n",
       "95       11\n",
       "94        7\n",
       "88        7\n",
       "87        4\n",
       "91        4\n",
       "84        3\n",
       "90        3\n",
       "93        3\n",
       "86        3\n",
       "85        3\n",
       "92        3\n",
       "89        1\n",
       "107       1\n",
       "102       1\n",
       "108       1\n",
       "82        1\n",
       "100       1\n",
       "83        1\n",
       "Name: count, dtype: int64"
      ]
     },
     "execution_count": 93,
     "metadata": {},
     "output_type": "execute_result"
    }
   ],
   "source": [
    "df['Length'].value_counts().sort_values(ascending=False)"
   ]
  },
  {
   "cell_type": "markdown",
   "id": "3dadf1fc-b3a2-4aa5-aac4-cddbf4a4f0d5",
   "metadata": {},
   "source": [
    "The sequences range in length from 82 to 108, but most commonly at 98.\n",
    "As I recally, NGS clips the first few base pairs down from nominal 100 because of poor quality.\n",
    "The other variants in sequence length are likely due to mutations from PCR errors."
   ]
  },
  {
   "cell_type": "code",
   "execution_count": 94,
   "id": "d0cef6d7-5d8b-471c-829f-4ec6390d04cd",
   "metadata": {},
   "outputs": [
    {
     "data": {
      "text/html": [
       "<div>\n",
       "<style scoped>\n",
       "    .dataframe tbody tr th:only-of-type {\n",
       "        vertical-align: middle;\n",
       "    }\n",
       "\n",
       "    .dataframe tbody tr th {\n",
       "        vertical-align: top;\n",
       "    }\n",
       "\n",
       "    .dataframe thead th {\n",
       "        text-align: right;\n",
       "    }\n",
       "</style>\n",
       "<table border=\"1\" class=\"dataframe\">\n",
       "  <thead>\n",
       "    <tr style=\"text-align: right;\">\n",
       "      <th></th>\n",
       "      <th>Sequence</th>\n",
       "      <th>Length</th>\n",
       "      <th>Count</th>\n",
       "      <th>A</th>\n",
       "      <th>C</th>\n",
       "      <th>T</th>\n",
       "      <th>G</th>\n",
       "    </tr>\n",
       "  </thead>\n",
       "  <tbody>\n",
       "    <tr>\n",
       "      <th>0</th>\n",
       "      <td>AGTGCCATCGTGCGTATCCTTCACTCCTTGCTCGACAAGAAGCGAA...</td>\n",
       "      <td>98</td>\n",
       "      <td>91</td>\n",
       "      <td>24</td>\n",
       "      <td>26</td>\n",
       "      <td>26</td>\n",
       "      <td>22</td>\n",
       "    </tr>\n",
       "    <tr>\n",
       "      <th>1</th>\n",
       "      <td>AGTGCCATCGTGCGTATCCTTCACGTTTGTTCTACAAAAGCGAAGC...</td>\n",
       "      <td>98</td>\n",
       "      <td>86</td>\n",
       "      <td>22</td>\n",
       "      <td>27</td>\n",
       "      <td>29</td>\n",
       "      <td>20</td>\n",
       "    </tr>\n",
       "    <tr>\n",
       "      <th>2</th>\n",
       "      <td>AGTGCCATCGTGCGTATCCTGAACATTGACGTGTAGTCAATGCGAA...</td>\n",
       "      <td>98</td>\n",
       "      <td>83</td>\n",
       "      <td>23</td>\n",
       "      <td>23</td>\n",
       "      <td>29</td>\n",
       "      <td>23</td>\n",
       "    </tr>\n",
       "    <tr>\n",
       "      <th>3</th>\n",
       "      <td>AGTGCCATCGTGCGTATCCCGCTCCGCTAATATCTATGTTAGCGAA...</td>\n",
       "      <td>98</td>\n",
       "      <td>80</td>\n",
       "      <td>24</td>\n",
       "      <td>25</td>\n",
       "      <td>28</td>\n",
       "      <td>21</td>\n",
       "    </tr>\n",
       "    <tr>\n",
       "      <th>4</th>\n",
       "      <td>AGTGCCATCGTGCGTATCCTGAACATAGACGTTTAGTCTATGCGAA...</td>\n",
       "      <td>98</td>\n",
       "      <td>78</td>\n",
       "      <td>24</td>\n",
       "      <td>21</td>\n",
       "      <td>30</td>\n",
       "      <td>23</td>\n",
       "    </tr>\n",
       "  </tbody>\n",
       "</table>\n",
       "</div>"
      ],
      "text/plain": [
       "                                            Sequence  Length  Count   A   C  \\\n",
       "0  AGTGCCATCGTGCGTATCCTTCACTCCTTGCTCGACAAGAAGCGAA...      98     91  24  26   \n",
       "1  AGTGCCATCGTGCGTATCCTTCACGTTTGTTCTACAAAAGCGAAGC...      98     86  22  27   \n",
       "2  AGTGCCATCGTGCGTATCCTGAACATTGACGTGTAGTCAATGCGAA...      98     83  23  23   \n",
       "3  AGTGCCATCGTGCGTATCCCGCTCCGCTAATATCTATGTTAGCGAA...      98     80  24  25   \n",
       "4  AGTGCCATCGTGCGTATCCTGAACATAGACGTTTAGTCTATGCGAA...      98     78  24  21   \n",
       "\n",
       "    T   G  \n",
       "0  26  22  \n",
       "1  29  20  \n",
       "2  29  23  \n",
       "3  28  21  \n",
       "4  30  23  "
      ]
     },
     "execution_count": 94,
     "metadata": {},
     "output_type": "execute_result"
    }
   ],
   "source": [
    "v_df = df # Save a verbose version of df\n",
    "df = df[['Sequence', 'Length', 'Count', 'A', 'C', 'T', 'G']]\n",
    "df.head()"
   ]
  },
  {
   "cell_type": "code",
   "execution_count": 95,
   "id": "16f273e5-21f7-40be-989b-80ccc921af74",
   "metadata": {},
   "outputs": [],
   "source": [
    "for col in ['A', 'C', 'T', 'G']:\n",
    "    df.loc[:, col] = df[col]/df['Length']"
   ]
  },
  {
   "cell_type": "code",
   "execution_count": 96,
   "id": "aceb5ab6-973c-454c-b543-cc5d5f608cf0",
   "metadata": {},
   "outputs": [
    {
     "data": {
      "text/html": [
       "<div>\n",
       "<style scoped>\n",
       "    .dataframe tbody tr th:only-of-type {\n",
       "        vertical-align: middle;\n",
       "    }\n",
       "\n",
       "    .dataframe tbody tr th {\n",
       "        vertical-align: top;\n",
       "    }\n",
       "\n",
       "    .dataframe thead th {\n",
       "        text-align: right;\n",
       "    }\n",
       "</style>\n",
       "<table border=\"1\" class=\"dataframe\">\n",
       "  <thead>\n",
       "    <tr style=\"text-align: right;\">\n",
       "      <th></th>\n",
       "      <th>Sequence</th>\n",
       "      <th>Length</th>\n",
       "      <th>Count</th>\n",
       "      <th>A</th>\n",
       "      <th>C</th>\n",
       "      <th>T</th>\n",
       "      <th>G</th>\n",
       "    </tr>\n",
       "  </thead>\n",
       "  <tbody>\n",
       "    <tr>\n",
       "      <th>0</th>\n",
       "      <td>AGTGCCATCGTGCGTATCCTTCACTCCTTGCTCGACAAGAAGCGAA...</td>\n",
       "      <td>98</td>\n",
       "      <td>91</td>\n",
       "      <td>0.244898</td>\n",
       "      <td>0.265306</td>\n",
       "      <td>0.265306</td>\n",
       "      <td>0.224490</td>\n",
       "    </tr>\n",
       "    <tr>\n",
       "      <th>1</th>\n",
       "      <td>AGTGCCATCGTGCGTATCCTTCACGTTTGTTCTACAAAAGCGAAGC...</td>\n",
       "      <td>98</td>\n",
       "      <td>86</td>\n",
       "      <td>0.224490</td>\n",
       "      <td>0.275510</td>\n",
       "      <td>0.295918</td>\n",
       "      <td>0.204082</td>\n",
       "    </tr>\n",
       "    <tr>\n",
       "      <th>2</th>\n",
       "      <td>AGTGCCATCGTGCGTATCCTGAACATTGACGTGTAGTCAATGCGAA...</td>\n",
       "      <td>98</td>\n",
       "      <td>83</td>\n",
       "      <td>0.234694</td>\n",
       "      <td>0.234694</td>\n",
       "      <td>0.295918</td>\n",
       "      <td>0.234694</td>\n",
       "    </tr>\n",
       "    <tr>\n",
       "      <th>3</th>\n",
       "      <td>AGTGCCATCGTGCGTATCCCGCTCCGCTAATATCTATGTTAGCGAA...</td>\n",
       "      <td>98</td>\n",
       "      <td>80</td>\n",
       "      <td>0.244898</td>\n",
       "      <td>0.255102</td>\n",
       "      <td>0.285714</td>\n",
       "      <td>0.214286</td>\n",
       "    </tr>\n",
       "    <tr>\n",
       "      <th>4</th>\n",
       "      <td>AGTGCCATCGTGCGTATCCTGAACATAGACGTTTAGTCTATGCGAA...</td>\n",
       "      <td>98</td>\n",
       "      <td>78</td>\n",
       "      <td>0.244898</td>\n",
       "      <td>0.214286</td>\n",
       "      <td>0.306122</td>\n",
       "      <td>0.234694</td>\n",
       "    </tr>\n",
       "  </tbody>\n",
       "</table>\n",
       "</div>"
      ],
      "text/plain": [
       "                                            Sequence  Length  Count         A  \\\n",
       "0  AGTGCCATCGTGCGTATCCTTCACTCCTTGCTCGACAAGAAGCGAA...      98     91  0.244898   \n",
       "1  AGTGCCATCGTGCGTATCCTTCACGTTTGTTCTACAAAAGCGAAGC...      98     86  0.224490   \n",
       "2  AGTGCCATCGTGCGTATCCTGAACATTGACGTGTAGTCAATGCGAA...      98     83  0.234694   \n",
       "3  AGTGCCATCGTGCGTATCCCGCTCCGCTAATATCTATGTTAGCGAA...      98     80  0.244898   \n",
       "4  AGTGCCATCGTGCGTATCCTGAACATAGACGTTTAGTCTATGCGAA...      98     78  0.244898   \n",
       "\n",
       "          C         T         G  \n",
       "0  0.265306  0.265306  0.224490  \n",
       "1  0.275510  0.295918  0.204082  \n",
       "2  0.234694  0.295918  0.234694  \n",
       "3  0.255102  0.285714  0.214286  \n",
       "4  0.214286  0.306122  0.234694  "
      ]
     },
     "execution_count": 96,
     "metadata": {},
     "output_type": "execute_result"
    }
   ],
   "source": [
    "df.head()"
   ]
  },
  {
   "cell_type": "code",
   "execution_count": 99,
   "id": "13e32586-5524-4b16-8e56-dce92a206219",
   "metadata": {},
   "outputs": [
    {
     "data": {
      "text/plain": [
       "count    10383.000000\n",
       "mean        14.926900\n",
       "std          6.640851\n",
       "min         10.000000\n",
       "25%         11.000000\n",
       "50%         13.000000\n",
       "75%         16.000000\n",
       "max         91.000000\n",
       "Name: Count, dtype: float64"
      ]
     },
     "execution_count": 99,
     "metadata": {},
     "output_type": "execute_result"
    }
   ],
   "source": [
    "df['Count'].describe()"
   ]
  },
  {
   "cell_type": "markdown",
   "id": "6137bbe5-0738-480e-bcc6-3c8281336498",
   "metadata": {},
   "source": [
    "Examine the base makeup of different count frequency"
   ]
  },
  {
   "cell_type": "code",
   "execution_count": 101,
   "id": "e2bca81c-e445-4b53-8bfc-088aa4f45f7e",
   "metadata": {},
   "outputs": [
    {
     "data": {
      "text/plain": [
       "0.2471"
      ]
     },
     "execution_count": 101,
     "metadata": {},
     "output_type": "execute_result"
    }
   ],
   "source": [
    "round(np.mean(df[df['Count'] < 11]['A']), 4)"
   ]
  },
  {
   "cell_type": "code",
   "execution_count": 105,
   "id": "caac4783-e23a-4a48-a26d-16074288499d",
   "metadata": {},
   "outputs": [
    {
     "data": {
      "text/plain": [
       "0.2466"
      ]
     },
     "execution_count": 105,
     "metadata": {},
     "output_type": "execute_result"
    }
   ],
   "source": [
    "round(np.mean(df[(df['Count'] >= 11) & (df['Count'] < 13)]['A']), 4)"
   ]
  },
  {
   "cell_type": "code",
   "execution_count": 106,
   "id": "02a11817-11e4-4b3a-8aa4-28a042ae53d2",
   "metadata": {},
   "outputs": [
    {
     "data": {
      "text/plain": [
       "0.2464"
      ]
     },
     "execution_count": 106,
     "metadata": {},
     "output_type": "execute_result"
    }
   ],
   "source": [
    "round(np.mean(df[(df['Count'] >= 13) & (df['Count'] < 16)]['A']), 4)"
   ]
  },
  {
   "cell_type": "code",
   "execution_count": 107,
   "id": "e47b7ea2-d117-479e-b222-6952d30ed175",
   "metadata": {},
   "outputs": [
    {
     "data": {
      "text/plain": [
       "0.2442"
      ]
     },
     "execution_count": 107,
     "metadata": {},
     "output_type": "execute_result"
    }
   ],
   "source": [
    "round(np.mean(df[df['Count'] >= 16 ]['A']), 4)"
   ]
  },
  {
   "cell_type": "code",
   "execution_count": 108,
   "id": "72b1a55e-de7c-4e33-a797-5891857abee9",
   "metadata": {},
   "outputs": [
    {
     "data": {
      "text/plain": [
       "0.2639"
      ]
     },
     "execution_count": 108,
     "metadata": {},
     "output_type": "execute_result"
    }
   ],
   "source": [
    "round(np.mean(df[df['Count'] >= 16 ]['C']), 4)"
   ]
  },
  {
   "cell_type": "code",
   "execution_count": 109,
   "id": "c87c65e4-8001-444c-8864-e6339b2787a4",
   "metadata": {},
   "outputs": [
    {
     "data": {
      "text/plain": [
       "0.2702"
      ]
     },
     "execution_count": 109,
     "metadata": {},
     "output_type": "execute_result"
    }
   ],
   "source": [
    "round(np.mean(df[df['Count'] >= 16 ]['T']), 4)"
   ]
  },
  {
   "cell_type": "code",
   "execution_count": 110,
   "id": "0163d6c7-ba27-4f0d-b000-4e5cd7459a5a",
   "metadata": {},
   "outputs": [
    {
     "data": {
      "text/plain": [
       "0.2217"
      ]
     },
     "execution_count": 110,
     "metadata": {},
     "output_type": "execute_result"
    }
   ],
   "source": [
    "round(np.mean(df[df['Count'] >= 16 ]['G']), 4)"
   ]
  },
  {
   "cell_type": "code",
   "execution_count": null,
   "id": "1d742228-976e-4cf9-9d1e-91a894476878",
   "metadata": {},
   "outputs": [],
   "source": []
  }
 ],
 "metadata": {
  "kernelspec": {
   "display_name": "Python 3 (ipykernel)",
   "language": "python",
   "name": "python3"
  },
  "language_info": {
   "codemirror_mode": {
    "name": "ipython",
    "version": 3
   },
   "file_extension": ".py",
   "mimetype": "text/x-python",
   "name": "python",
   "nbconvert_exporter": "python",
   "pygments_lexer": "ipython3",
   "version": "3.11.5"
  }
 },
 "nbformat": 4,
 "nbformat_minor": 5
}
