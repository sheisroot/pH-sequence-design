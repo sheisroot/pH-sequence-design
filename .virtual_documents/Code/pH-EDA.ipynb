


import pandas as pd
import numpy as np
import matplotlib.pyplot as plt
import seaborn as sns
from collections import Counter


csv_file = "../Data/R12-over-10-copies.csv"
df = pd.read_csv(csv_file)
df.head()


df.shape


sum(df.iloc[:, 0].isnull())


sum(df.iloc[:, 1].isnull())


df.dtypes


# check base type proportions
def base_count(text):
    return dict(Counter(text))   


df['Base Counts'] = df['Sequence'].apply(base_count)
# df['Base Counts'][1]['A']
df['A'] = df['Base Counts'].astype(object).apply(lambda x: x.get('A', np.nan))
df['C'] = df['Base Counts'].astype(object).apply(lambda x: x.get('C', np.nan))
df['T'] = df['Base Counts'].astype(object).apply(lambda x: x.get('G', np.nan))
df['G'] = df['Base Counts'].astype(object).apply(lambda x: x.get('T', np.nan))


df.head().iloc[:, 3:]


df['Length'] = df['Sequence'].apply(len)


sum((np.sum(df[['A', 'C', 'T', 'G']], axis=1) == df['Length']).isnull()) # Checks base counts add up to length of sequence


allowed_keys = {'A', 'C', 'T', 'G'} # Checks that there are no weird nonstandard bases
df['Nonstandard base'] = df['Base Counts'].astype(object).apply(lambda x: not set(x.keys()).issubset(allowed_keys))
np.sum(df['Nonstandard base'])


df.head()


df['Length'].value_counts().sort_values(ascending=False)





v_df = df # Save a verbose version of df
df = df[['Sequence', 'Length', 'Count', 'A', 'C', 'T', 'G']]
df.head()


for col in ['A', 'C', 'T', 'G']:
    df.loc[:, col] = df[col]/df['Length']


df.head()


df['Count'].describe()





round(np.mean(df[df['Count'] < 11]['A']), 4)


round(np.mean(df[(df['Count'] >= 11) & (df['Count'] < 13)]['A']), 4)


round(np.mean(df[(df['Count'] >= 13) & (df['Count'] < 16)]['A']), 4)


round(np.mean(df[df['Count'] >= 16 ]['A']), 4)


round(np.mean(df[df['Count'] >= 16 ]['C']), 4)


round(np.mean(df[df['Count'] >= 16 ]['T']), 4)


round(np.mean(df[df['Count'] >= 16 ]['G']), 4)



